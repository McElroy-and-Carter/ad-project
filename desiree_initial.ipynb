{
 "cells": [
  {
   "cell_type": "code",
   "execution_count": 36,
   "metadata": {},
   "outputs": [],
   "source": [
    "import pandas as pd\n",
    "import numpy as np\n",
    "\n",
    "import matplotlib.pyplot as plt\n",
    "import seaborn as sns\n",
    "\n",
    "from PythonScripts import wrangle\n",
    "\n",
    "from scipy import stats"
   ]
  },
  {
   "cell_type": "markdown",
   "metadata": {},
   "source": [
    "## Wrangle Data"
   ]
  },
  {
   "cell_type": "code",
   "execution_count": 2,
   "metadata": {},
   "outputs": [],
   "source": [
    "df = wrangle.get_curriculum_log()"
   ]
  },
  {
   "cell_type": "code",
   "execution_count": 3,
   "metadata": {},
   "outputs": [
    {
     "data": {
      "text/html": [
       "<div>\n",
       "<style scoped>\n",
       "    .dataframe tbody tr th:only-of-type {\n",
       "        vertical-align: middle;\n",
       "    }\n",
       "\n",
       "    .dataframe tbody tr th {\n",
       "        vertical-align: top;\n",
       "    }\n",
       "\n",
       "    .dataframe thead th {\n",
       "        text-align: right;\n",
       "    }\n",
       "</style>\n",
       "<table border=\"1\" class=\"dataframe\">\n",
       "  <thead>\n",
       "    <tr style=\"text-align: right;\">\n",
       "      <th></th>\n",
       "      <th>endpoint</th>\n",
       "      <th>user_id</th>\n",
       "      <th>cohort_id</th>\n",
       "      <th>source_ip</th>\n",
       "      <th>name</th>\n",
       "      <th>start_date</th>\n",
       "      <th>end_date</th>\n",
       "      <th>created_at</th>\n",
       "      <th>updated_at</th>\n",
       "      <th>program_id</th>\n",
       "      <th>program_name</th>\n",
       "    </tr>\n",
       "    <tr>\n",
       "      <th>date</th>\n",
       "      <th></th>\n",
       "      <th></th>\n",
       "      <th></th>\n",
       "      <th></th>\n",
       "      <th></th>\n",
       "      <th></th>\n",
       "      <th></th>\n",
       "      <th></th>\n",
       "      <th></th>\n",
       "      <th></th>\n",
       "      <th></th>\n",
       "    </tr>\n",
       "  </thead>\n",
       "  <tbody>\n",
       "    <tr>\n",
       "      <th>2018-01-26</th>\n",
       "      <td>/</td>\n",
       "      <td>1</td>\n",
       "      <td>8.0</td>\n",
       "      <td>97.105.19.61</td>\n",
       "      <td>Hampton</td>\n",
       "      <td>2015-09-22</td>\n",
       "      <td>2016-02-06</td>\n",
       "      <td>2016-06-14 19:52:26</td>\n",
       "      <td>2016-06-14 19:52:26</td>\n",
       "      <td>1</td>\n",
       "      <td>PHP</td>\n",
       "    </tr>\n",
       "    <tr>\n",
       "      <th>2018-01-26</th>\n",
       "      <td>java-ii</td>\n",
       "      <td>1</td>\n",
       "      <td>8.0</td>\n",
       "      <td>97.105.19.61</td>\n",
       "      <td>Hampton</td>\n",
       "      <td>2015-09-22</td>\n",
       "      <td>2016-02-06</td>\n",
       "      <td>2016-06-14 19:52:26</td>\n",
       "      <td>2016-06-14 19:52:26</td>\n",
       "      <td>1</td>\n",
       "      <td>PHP</td>\n",
       "    </tr>\n",
       "    <tr>\n",
       "      <th>2018-01-26</th>\n",
       "      <td>java-ii/object-oriented-programming</td>\n",
       "      <td>1</td>\n",
       "      <td>8.0</td>\n",
       "      <td>97.105.19.61</td>\n",
       "      <td>Hampton</td>\n",
       "      <td>2015-09-22</td>\n",
       "      <td>2016-02-06</td>\n",
       "      <td>2016-06-14 19:52:26</td>\n",
       "      <td>2016-06-14 19:52:26</td>\n",
       "      <td>1</td>\n",
       "      <td>PHP</td>\n",
       "    </tr>\n",
       "    <tr>\n",
       "      <th>2018-01-26</th>\n",
       "      <td>slides/object_oriented_programming</td>\n",
       "      <td>1</td>\n",
       "      <td>8.0</td>\n",
       "      <td>97.105.19.61</td>\n",
       "      <td>Hampton</td>\n",
       "      <td>2015-09-22</td>\n",
       "      <td>2016-02-06</td>\n",
       "      <td>2016-06-14 19:52:26</td>\n",
       "      <td>2016-06-14 19:52:26</td>\n",
       "      <td>1</td>\n",
       "      <td>PHP</td>\n",
       "    </tr>\n",
       "    <tr>\n",
       "      <th>2018-01-26</th>\n",
       "      <td>javascript-i/functions</td>\n",
       "      <td>1</td>\n",
       "      <td>8.0</td>\n",
       "      <td>97.105.19.61</td>\n",
       "      <td>Hampton</td>\n",
       "      <td>2015-09-22</td>\n",
       "      <td>2016-02-06</td>\n",
       "      <td>2016-06-14 19:52:26</td>\n",
       "      <td>2016-06-14 19:52:26</td>\n",
       "      <td>1</td>\n",
       "      <td>PHP</td>\n",
       "    </tr>\n",
       "  </tbody>\n",
       "</table>\n",
       "</div>"
      ],
      "text/plain": [
       "                                       endpoint  user_id  cohort_id  \\\n",
       "date                                                                  \n",
       "2018-01-26                                    /        1        8.0   \n",
       "2018-01-26                              java-ii        1        8.0   \n",
       "2018-01-26  java-ii/object-oriented-programming        1        8.0   \n",
       "2018-01-26   slides/object_oriented_programming        1        8.0   \n",
       "2018-01-26               javascript-i/functions        1        8.0   \n",
       "\n",
       "               source_ip     name  start_date    end_date  \\\n",
       "date                                                        \n",
       "2018-01-26  97.105.19.61  Hampton  2015-09-22  2016-02-06   \n",
       "2018-01-26  97.105.19.61  Hampton  2015-09-22  2016-02-06   \n",
       "2018-01-26  97.105.19.61  Hampton  2015-09-22  2016-02-06   \n",
       "2018-01-26  97.105.19.61  Hampton  2015-09-22  2016-02-06   \n",
       "2018-01-26  97.105.19.61  Hampton  2015-09-22  2016-02-06   \n",
       "\n",
       "                     created_at           updated_at  program_id program_name  \n",
       "date                                                                           \n",
       "2018-01-26  2016-06-14 19:52:26  2016-06-14 19:52:26           1          PHP  \n",
       "2018-01-26  2016-06-14 19:52:26  2016-06-14 19:52:26           1          PHP  \n",
       "2018-01-26  2016-06-14 19:52:26  2016-06-14 19:52:26           1          PHP  \n",
       "2018-01-26  2016-06-14 19:52:26  2016-06-14 19:52:26           1          PHP  \n",
       "2018-01-26  2016-06-14 19:52:26  2016-06-14 19:52:26           1          PHP  "
      ]
     },
     "execution_count": 3,
     "metadata": {},
     "output_type": "execute_result"
    }
   ],
   "source": [
    "df.head()"
   ]
  },
  {
   "cell_type": "code",
   "execution_count": 4,
   "metadata": {},
   "outputs": [
    {
     "data": {
      "text/plain": [
       "(954312, 11)"
      ]
     },
     "execution_count": 4,
     "metadata": {},
     "output_type": "execute_result"
    }
   ],
   "source": [
    "df.shape"
   ]
  },
  {
   "cell_type": "code",
   "execution_count": 5,
   "metadata": {},
   "outputs": [
    {
     "data": {
      "text/plain": [
       "endpoint        0\n",
       "user_id         0\n",
       "cohort_id       0\n",
       "source_ip       0\n",
       "name            0\n",
       "start_date      0\n",
       "end_date        0\n",
       "created_at      0\n",
       "updated_at      0\n",
       "program_id      0\n",
       "program_name    0\n",
       "dtype: int64"
      ]
     },
     "execution_count": 5,
     "metadata": {},
     "output_type": "execute_result"
    }
   ],
   "source": [
    "df.isnull().sum()"
   ]
  },
  {
   "cell_type": "code",
   "execution_count": 6,
   "metadata": {},
   "outputs": [
    {
     "data": {
      "text/html": [
       "<div>\n",
       "<style scoped>\n",
       "    .dataframe tbody tr th:only-of-type {\n",
       "        vertical-align: middle;\n",
       "    }\n",
       "\n",
       "    .dataframe tbody tr th {\n",
       "        vertical-align: top;\n",
       "    }\n",
       "\n",
       "    .dataframe thead th {\n",
       "        text-align: right;\n",
       "    }\n",
       "</style>\n",
       "<table border=\"1\" class=\"dataframe\">\n",
       "  <thead>\n",
       "    <tr style=\"text-align: right;\">\n",
       "      <th></th>\n",
       "      <th>endpoint</th>\n",
       "      <th>user_id</th>\n",
       "      <th>cohort_id</th>\n",
       "      <th>source_ip</th>\n",
       "      <th>name</th>\n",
       "      <th>start_date</th>\n",
       "      <th>end_date</th>\n",
       "      <th>created_at</th>\n",
       "      <th>updated_at</th>\n",
       "      <th>program_id</th>\n",
       "      <th>program_name</th>\n",
       "    </tr>\n",
       "    <tr>\n",
       "      <th>date</th>\n",
       "      <th></th>\n",
       "      <th></th>\n",
       "      <th></th>\n",
       "      <th></th>\n",
       "      <th></th>\n",
       "      <th></th>\n",
       "      <th></th>\n",
       "      <th></th>\n",
       "      <th></th>\n",
       "      <th></th>\n",
       "      <th></th>\n",
       "    </tr>\n",
       "  </thead>\n",
       "  <tbody>\n",
       "    <tr>\n",
       "      <th>2020-02-26</th>\n",
       "      <td>mysql/users</td>\n",
       "      <td>535</td>\n",
       "      <td>52.0</td>\n",
       "      <td>97.105.19.58</td>\n",
       "      <td>Europa</td>\n",
       "      <td>2019-11-04</td>\n",
       "      <td>2020-04-17</td>\n",
       "      <td>2019-11-04 18:27:07</td>\n",
       "      <td>2019-11-04 18:27:07</td>\n",
       "      <td>2</td>\n",
       "      <td>Java</td>\n",
       "    </tr>\n",
       "    <tr>\n",
       "      <th>2019-11-17</th>\n",
       "      <td>html-css/css-i/grid/css-grid-in-practice</td>\n",
       "      <td>521</td>\n",
       "      <td>52.0</td>\n",
       "      <td>192.171.117.210</td>\n",
       "      <td>Europa</td>\n",
       "      <td>2019-11-04</td>\n",
       "      <td>2020-04-17</td>\n",
       "      <td>2019-11-04 18:27:07</td>\n",
       "      <td>2019-11-04 18:27:07</td>\n",
       "      <td>2</td>\n",
       "      <td>Java</td>\n",
       "    </tr>\n",
       "    <tr>\n",
       "      <th>2018-03-16</th>\n",
       "      <td>javascript-i/introduction/primitive-types</td>\n",
       "      <td>131</td>\n",
       "      <td>23.0</td>\n",
       "      <td>97.105.19.61</td>\n",
       "      <td>Ulysses</td>\n",
       "      <td>2018-03-05</td>\n",
       "      <td>2018-07-19</td>\n",
       "      <td>2018-03-05 14:22:11</td>\n",
       "      <td>2018-03-05 14:22:11</td>\n",
       "      <td>2</td>\n",
       "      <td>Java</td>\n",
       "    </tr>\n",
       "    <tr>\n",
       "      <th>2020-03-09</th>\n",
       "      <td>/</td>\n",
       "      <td>601</td>\n",
       "      <td>56.0</td>\n",
       "      <td>12.106.208.194</td>\n",
       "      <td>Apex</td>\n",
       "      <td>2020-02-24</td>\n",
       "      <td>2020-07-29</td>\n",
       "      <td>2020-02-24 15:39:33</td>\n",
       "      <td>2020-07-29 18:41:13</td>\n",
       "      <td>2</td>\n",
       "      <td>Java</td>\n",
       "    </tr>\n",
       "    <tr>\n",
       "      <th>2018-06-15</th>\n",
       "      <td>jquery/personal-site</td>\n",
       "      <td>118</td>\n",
       "      <td>23.0</td>\n",
       "      <td>97.105.19.61</td>\n",
       "      <td>Ulysses</td>\n",
       "      <td>2018-03-05</td>\n",
       "      <td>2018-07-19</td>\n",
       "      <td>2018-03-05 14:22:11</td>\n",
       "      <td>2018-03-05 14:22:11</td>\n",
       "      <td>2</td>\n",
       "      <td>Java</td>\n",
       "    </tr>\n",
       "  </tbody>\n",
       "</table>\n",
       "</div>"
      ],
      "text/plain": [
       "                                             endpoint  user_id  cohort_id  \\\n",
       "date                                                                        \n",
       "2020-02-26                                mysql/users      535       52.0   \n",
       "2019-11-17   html-css/css-i/grid/css-grid-in-practice      521       52.0   \n",
       "2018-03-16  javascript-i/introduction/primitive-types      131       23.0   \n",
       "2020-03-09                                          /      601       56.0   \n",
       "2018-06-15                       jquery/personal-site      118       23.0   \n",
       "\n",
       "                  source_ip     name  start_date    end_date  \\\n",
       "date                                                           \n",
       "2020-02-26     97.105.19.58   Europa  2019-11-04  2020-04-17   \n",
       "2019-11-17  192.171.117.210   Europa  2019-11-04  2020-04-17   \n",
       "2018-03-16     97.105.19.61  Ulysses  2018-03-05  2018-07-19   \n",
       "2020-03-09   12.106.208.194     Apex  2020-02-24  2020-07-29   \n",
       "2018-06-15     97.105.19.61  Ulysses  2018-03-05  2018-07-19   \n",
       "\n",
       "                     created_at           updated_at  program_id program_name  \n",
       "date                                                                           \n",
       "2020-02-26  2019-11-04 18:27:07  2019-11-04 18:27:07           2         Java  \n",
       "2019-11-17  2019-11-04 18:27:07  2019-11-04 18:27:07           2         Java  \n",
       "2018-03-16  2018-03-05 14:22:11  2018-03-05 14:22:11           2         Java  \n",
       "2020-03-09  2020-02-24 15:39:33  2020-07-29 18:41:13           2         Java  \n",
       "2018-06-15  2018-03-05 14:22:11  2018-03-05 14:22:11           2         Java  "
      ]
     },
     "execution_count": 6,
     "metadata": {},
     "output_type": "execute_result"
    }
   ],
   "source": [
    "df.sample(5)"
   ]
  },
  {
   "cell_type": "code",
   "execution_count": 7,
   "metadata": {},
   "outputs": [
    {
     "data": {
      "text/html": [
       "<div>\n",
       "<style scoped>\n",
       "    .dataframe tbody tr th:only-of-type {\n",
       "        vertical-align: middle;\n",
       "    }\n",
       "\n",
       "    .dataframe tbody tr th {\n",
       "        vertical-align: top;\n",
       "    }\n",
       "\n",
       "    .dataframe thead th {\n",
       "        text-align: right;\n",
       "    }\n",
       "</style>\n",
       "<table border=\"1\" class=\"dataframe\">\n",
       "  <thead>\n",
       "    <tr style=\"text-align: right;\">\n",
       "      <th></th>\n",
       "      <th>endpoint</th>\n",
       "      <th>user_id</th>\n",
       "      <th>cohort_id</th>\n",
       "      <th>source_ip</th>\n",
       "      <th>name</th>\n",
       "      <th>start_date</th>\n",
       "      <th>end_date</th>\n",
       "      <th>created_at</th>\n",
       "      <th>updated_at</th>\n",
       "      <th>program_id</th>\n",
       "      <th>program_name</th>\n",
       "    </tr>\n",
       "    <tr>\n",
       "      <th>date</th>\n",
       "      <th></th>\n",
       "      <th></th>\n",
       "      <th></th>\n",
       "      <th></th>\n",
       "      <th></th>\n",
       "      <th></th>\n",
       "      <th></th>\n",
       "      <th></th>\n",
       "      <th></th>\n",
       "      <th></th>\n",
       "      <th></th>\n",
       "    </tr>\n",
       "  </thead>\n",
       "  <tbody>\n",
       "    <tr>\n",
       "      <th>2021-03-19</th>\n",
       "      <td>cli/overview</td>\n",
       "      <td>910</td>\n",
       "      <td>137.0</td>\n",
       "      <td>69.232.101.215</td>\n",
       "      <td>Florence</td>\n",
       "      <td>2021-03-15</td>\n",
       "      <td>2021-09-03</td>\n",
       "      <td>2021-03-15 18:18:20</td>\n",
       "      <td>2021-03-15 18:18:20</td>\n",
       "      <td>3</td>\n",
       "      <td>Data Science</td>\n",
       "    </tr>\n",
       "    <tr>\n",
       "      <th>2021-03-16</th>\n",
       "      <td>appendix/professional-development/linkedin-tips</td>\n",
       "      <td>908</td>\n",
       "      <td>137.0</td>\n",
       "      <td>68.206.160.11</td>\n",
       "      <td>Florence</td>\n",
       "      <td>2021-03-15</td>\n",
       "      <td>2021-09-03</td>\n",
       "      <td>2021-03-15 18:18:20</td>\n",
       "      <td>2021-03-15 18:18:20</td>\n",
       "      <td>3</td>\n",
       "      <td>Data Science</td>\n",
       "    </tr>\n",
       "    <tr>\n",
       "      <th>2021-04-06</th>\n",
       "      <td>python/data-types-and-variables</td>\n",
       "      <td>910</td>\n",
       "      <td>137.0</td>\n",
       "      <td>69.232.101.215</td>\n",
       "      <td>Florence</td>\n",
       "      <td>2021-03-15</td>\n",
       "      <td>2021-09-03</td>\n",
       "      <td>2021-03-15 18:18:20</td>\n",
       "      <td>2021-03-15 18:18:20</td>\n",
       "      <td>3</td>\n",
       "      <td>Data Science</td>\n",
       "    </tr>\n",
       "    <tr>\n",
       "      <th>2021-05-19</th>\n",
       "      <td>classification/user-defined-functions</td>\n",
       "      <td>895</td>\n",
       "      <td>137.0</td>\n",
       "      <td>96.8.253.119</td>\n",
       "      <td>Florence</td>\n",
       "      <td>2021-03-15</td>\n",
       "      <td>2021-09-03</td>\n",
       "      <td>2021-03-15 18:18:20</td>\n",
       "      <td>2021-03-15 18:18:20</td>\n",
       "      <td>3</td>\n",
       "      <td>Data Science</td>\n",
       "    </tr>\n",
       "    <tr>\n",
       "      <th>2021-06-02</th>\n",
       "      <td>stats/simulation</td>\n",
       "      <td>900</td>\n",
       "      <td>137.0</td>\n",
       "      <td>67.11.226.248</td>\n",
       "      <td>Florence</td>\n",
       "      <td>2021-03-15</td>\n",
       "      <td>2021-09-03</td>\n",
       "      <td>2021-03-15 18:18:20</td>\n",
       "      <td>2021-03-15 18:18:20</td>\n",
       "      <td>3</td>\n",
       "      <td>Data Science</td>\n",
       "    </tr>\n",
       "  </tbody>\n",
       "</table>\n",
       "</div>"
      ],
      "text/plain": [
       "                                                   endpoint  user_id  \\\n",
       "date                                                                   \n",
       "2021-03-19                                     cli/overview      910   \n",
       "2021-03-16  appendix/professional-development/linkedin-tips      908   \n",
       "2021-04-06                  python/data-types-and-variables      910   \n",
       "2021-05-19            classification/user-defined-functions      895   \n",
       "2021-06-02                                 stats/simulation      900   \n",
       "\n",
       "            cohort_id       source_ip      name  start_date    end_date  \\\n",
       "date                                                                      \n",
       "2021-03-19      137.0  69.232.101.215  Florence  2021-03-15  2021-09-03   \n",
       "2021-03-16      137.0   68.206.160.11  Florence  2021-03-15  2021-09-03   \n",
       "2021-04-06      137.0  69.232.101.215  Florence  2021-03-15  2021-09-03   \n",
       "2021-05-19      137.0    96.8.253.119  Florence  2021-03-15  2021-09-03   \n",
       "2021-06-02      137.0   67.11.226.248  Florence  2021-03-15  2021-09-03   \n",
       "\n",
       "                     created_at           updated_at  program_id  program_name  \n",
       "date                                                                            \n",
       "2021-03-19  2021-03-15 18:18:20  2021-03-15 18:18:20           3  Data Science  \n",
       "2021-03-16  2021-03-15 18:18:20  2021-03-15 18:18:20           3  Data Science  \n",
       "2021-04-06  2021-03-15 18:18:20  2021-03-15 18:18:20           3  Data Science  \n",
       "2021-05-19  2021-03-15 18:18:20  2021-03-15 18:18:20           3  Data Science  \n",
       "2021-06-02  2021-03-15 18:18:20  2021-03-15 18:18:20           3  Data Science  "
      ]
     },
     "execution_count": 7,
     "metadata": {},
     "output_type": "execute_result"
    }
   ],
   "source": [
    "florence_cohort = df[df['name'] == \"Florence\"]\n",
    "florence_cohort.sample(5)"
   ]
  },
  {
   "cell_type": "markdown",
   "metadata": {},
   "source": [
    "## Which lesson appears to attract the most traffic consistently across cohorts (per program)?"
   ]
  },
  {
   "cell_type": "code",
   "execution_count": 8,
   "metadata": {},
   "outputs": [
    {
     "data": {
      "text/plain": [
       "Java            791196\n",
       "Data Science    122001\n",
       "PHP              41110\n",
       "Front End            5\n",
       "Name: program_name, dtype: int64"
      ]
     },
     "execution_count": 8,
     "metadata": {},
     "output_type": "execute_result"
    }
   ],
   "source": [
    "# take a look at the value counts for program name\n",
    "df.program_name.value_counts()"
   ]
  },
  {
   "cell_type": "code",
   "execution_count": 9,
   "metadata": {},
   "outputs": [
    {
     "data": {
      "text/plain": [
       "2    791196\n",
       "3    122001\n",
       "1     41110\n",
       "4         5\n",
       "Name: program_id, dtype: int64"
      ]
     },
     "execution_count": 9,
     "metadata": {},
     "output_type": "execute_result"
    }
   ],
   "source": [
    "df.program_id.value_counts()"
   ]
  },
  {
   "cell_type": "code",
   "execution_count": 10,
   "metadata": {},
   "outputs": [
    {
     "data": {
      "text/plain": [
       "/               1869\n",
       "javascript-i    1144\n",
       "index.html      1011\n",
       "Name: endpoint, dtype: int64"
      ]
     },
     "execution_count": 10,
     "metadata": {},
     "output_type": "execute_result"
    }
   ],
   "source": [
    "# take a look at endpoint values per PHP\n",
    "df[df.program_name=='PHP'].endpoint.value_counts().head(3)"
   ]
  },
  {
   "cell_type": "code",
   "execution_count": 11,
   "metadata": {},
   "outputs": [
    {
     "data": {
      "text/plain": [
       "/               38763\n",
       "javascript-i    19280\n",
       "toc             19221\n",
       "Name: endpoint, dtype: int64"
      ]
     },
     "execution_count": 11,
     "metadata": {},
     "output_type": "execute_result"
    }
   ],
   "source": [
    "# take a look at endpoint values per Java\n",
    "df[df.program_name=='Java'].endpoint.value_counts().head(3)"
   ]
  },
  {
   "cell_type": "code",
   "execution_count": 12,
   "metadata": {},
   "outputs": [
    {
     "data": {
      "text/plain": [
       "/                           9866\n",
       "search/search_index.json    2950\n",
       "classification/overview     2455\n",
       "Name: endpoint, dtype: int64"
      ]
     },
     "execution_count": 12,
     "metadata": {},
     "output_type": "execute_result"
    }
   ],
   "source": [
    "# take a look at endpoint values per Data Science\n",
    "df[df.program_name=='Data Science'].endpoint.value_counts().head(3)"
   ]
  },
  {
   "cell_type": "code",
   "execution_count": 13,
   "metadata": {},
   "outputs": [
    {
     "data": {
      "text/plain": [
       "content/html-css                      2\n",
       "/                                     1\n",
       "content/html-css/introduction.html    1\n",
       "Name: endpoint, dtype: int64"
      ]
     },
     "execution_count": 13,
     "metadata": {},
     "output_type": "execute_result"
    }
   ],
   "source": [
    "# take a look at endpoint values per Front End\n",
    "df[df.program_name=='Front End'].endpoint.value_counts().head(3)"
   ]
  },
  {
   "cell_type": "markdown",
   "metadata": {},
   "source": [
    "### The programs are most attracted to lessons as follows:\n",
    "- PHP (1) most visited: Java\n",
    "- Java (2) most visited: Javascipt\n",
    "- Data Science (3) most visited: Classification Overview\n",
    "- Front End (4) most visited: HTML CSS"
   ]
  },
  {
   "cell_type": "markdown",
   "metadata": {},
   "source": [
    "## Which lessons are least accessed?"
   ]
  },
  {
   "cell_type": "code",
   "execution_count": 49,
   "metadata": {},
   "outputs": [
    {
     "data": {
      "text/plain": [
       "/                                      50499\n",
       "javascript-i                           20434\n",
       "search/search_index.json               20220\n",
       "toc                                    19632\n",
       "html-css                               14772\n",
       "                                       ...  \n",
       "10-nlp/2-regular-expressions               1\n",
       "sql.mysql-overview                         1\n",
       "teams                                      1\n",
       "javascript-i/intruduction/operators        1\n",
       "appendix/javascript/array-splice           1\n",
       "Name: endpoint, Length: 2315, dtype: int64"
      ]
     },
     "execution_count": 49,
     "metadata": {},
     "output_type": "execute_result"
    }
   ],
   "source": [
    "# take a look at the value counts of each endpoint site\n",
    "df.endpoint.value_counts()"
   ]
  },
  {
   "cell_type": "code",
   "execution_count": 74,
   "metadata": {},
   "outputs": [
    {
     "data": {
      "text/plain": [
       "['appendix/javascript/array-splice',\n",
       " 'javascript-i/intruduction/operators',\n",
       " 'teams',\n",
       " 'sql.mysql-overview',\n",
       " '10-nlp/2-regular-expressions']"
      ]
     },
     "execution_count": 74,
     "metadata": {},
     "output_type": "execute_result"
    }
   ],
   "source": [
    "# look at the bottom of the list of visited endpoints\n",
    "\n",
    "# looking at the bottom five sites for more than 2 visits\n",
    "(df.endpoint.value_counts(ascending=True)>2).index.tolist()[:5]"
   ]
  },
  {
   "cell_type": "markdown",
   "metadata": {},
   "source": [
    "- But what is our sweet spot? Is it 3 visits? Is it 10 visits?\n",
    "- Using an outlier function to pinpoint will be the best method to reduce the noise and see which number represents legitimate visits and what is considered low."
   ]
  },
  {
   "cell_type": "code",
   "execution_count": 50,
   "metadata": {},
   "outputs": [
    {
     "data": {
      "text/html": [
       "<div>\n",
       "<style scoped>\n",
       "    .dataframe tbody tr th:only-of-type {\n",
       "        vertical-align: middle;\n",
       "    }\n",
       "\n",
       "    .dataframe tbody tr th {\n",
       "        vertical-align: top;\n",
       "    }\n",
       "\n",
       "    .dataframe thead th {\n",
       "        text-align: right;\n",
       "    }\n",
       "</style>\n",
       "<table border=\"1\" class=\"dataframe\">\n",
       "  <thead>\n",
       "    <tr style=\"text-align: right;\">\n",
       "      <th></th>\n",
       "      <th>endpoint</th>\n",
       "    </tr>\n",
       "  </thead>\n",
       "  <tbody>\n",
       "    <tr>\n",
       "      <th>/</th>\n",
       "      <td>50499</td>\n",
       "    </tr>\n",
       "    <tr>\n",
       "      <th>javascript-i</th>\n",
       "      <td>20434</td>\n",
       "    </tr>\n",
       "    <tr>\n",
       "      <th>search/search_index.json</th>\n",
       "      <td>20220</td>\n",
       "    </tr>\n",
       "    <tr>\n",
       "      <th>toc</th>\n",
       "      <td>19632</td>\n",
       "    </tr>\n",
       "    <tr>\n",
       "      <th>html-css</th>\n",
       "      <td>14772</td>\n",
       "    </tr>\n",
       "    <tr>\n",
       "      <th>...</th>\n",
       "      <td>...</td>\n",
       "    </tr>\n",
       "    <tr>\n",
       "      <th>10-nlp/2-regular-expressions</th>\n",
       "      <td>1</td>\n",
       "    </tr>\n",
       "    <tr>\n",
       "      <th>sql.mysql-overview</th>\n",
       "      <td>1</td>\n",
       "    </tr>\n",
       "    <tr>\n",
       "      <th>teams</th>\n",
       "      <td>1</td>\n",
       "    </tr>\n",
       "    <tr>\n",
       "      <th>javascript-i/intruduction/operators</th>\n",
       "      <td>1</td>\n",
       "    </tr>\n",
       "    <tr>\n",
       "      <th>appendix/javascript/array-splice</th>\n",
       "      <td>1</td>\n",
       "    </tr>\n",
       "  </tbody>\n",
       "</table>\n",
       "<p>2315 rows × 1 columns</p>\n",
       "</div>"
      ],
      "text/plain": [
       "                                     endpoint\n",
       "/                                       50499\n",
       "javascript-i                            20434\n",
       "search/search_index.json                20220\n",
       "toc                                     19632\n",
       "html-css                                14772\n",
       "...                                       ...\n",
       "10-nlp/2-regular-expressions                1\n",
       "sql.mysql-overview                          1\n",
       "teams                                       1\n",
       "javascript-i/intruduction/operators         1\n",
       "appendix/javascript/array-splice            1\n",
       "\n",
       "[2315 rows x 1 columns]"
      ]
     },
     "execution_count": 50,
     "metadata": {},
     "output_type": "execute_result"
    }
   ],
   "source": [
    "# make it into a dataframe for coding purposes\n",
    "endpoints = pd.DataFrame(df.endpoint.value_counts())\n",
    "endpoints"
   ]
  },
  {
   "cell_type": "code",
   "execution_count": 40,
   "metadata": {},
   "outputs": [],
   "source": [
    "def get_lower_and_upper_bounds(df, k=1.5):\n",
    "    '''\n",
    "    calculates the lower and upper bound to locate outliers and displays them\n",
    "    note: recommended k be 1.5\n",
    "    '''\n",
    "    for i in df.columns:\n",
    "        if df[i].dtypes != 'object':\n",
    "            quartile1, quartile3 = np.percentile(df[i], [25,75])\n",
    "            IQR_value = quartile3 - quartile1\n",
    "            lower_bound = (quartile1 - (k * IQR_value))\n",
    "            upper_bound = (quartile3 + (k * IQR_value))\n",
    "            print('------------------------------------------------------')\n",
    "            print(f'For {i} the lower bound is {lower_bound} and  upper bound is {upper_bound}')\n",
    "            outliers_lower = df[df[i] < lower_bound]\n",
    "            outliers_upper = df[df[i] > upper_bound]\n",
    "            outliers = pd.concat([outliers_lower, outliers_upper], axis=0)\n",
    "            print('')\n",
    "            print(outliers,'\\n')\n",
    "    else:\n",
    "        print('')"
   ]
  },
  {
   "cell_type": "code",
   "execution_count": 65,
   "metadata": {},
   "outputs": [
    {
     "name": "stdout",
     "output_type": "stream",
     "text": [
      "------------------------------------------------------\n",
      "For endpoint the lower bound is -127.0 and  upper bound is 217.0\n",
      "\n",
      "                                                    endpoint\n",
      "/                                                      50499\n",
      "javascript-i                                           20434\n",
      "search/search_index.json                               20220\n",
      "toc                                                    19632\n",
      "html-css                                               14772\n",
      "...                                                      ...\n",
      "3.0-mysql-overview                                       219\n",
      "2-storytelling/2.2-create                                219\n",
      "10-anomaly-detection/3-discrete-probabilistic-m...       219\n",
      "sql/clauses-overview                                     219\n",
      "individual-project/individual-project                    218\n",
      "\n",
      "[439 rows x 1 columns] \n",
      "\n",
      "\n"
     ]
    }
   ],
   "source": [
    "# use function to see what the bounds are for sites visited\n",
    "get_lower_and_upper_bounds(endpoints, k=1.5)"
   ]
  },
  {
   "cell_type": "markdown",
   "metadata": {},
   "source": [
    "- This function tells us 217 or more visits are legitimate visits.\n",
    "- Anything below 217 is likely noise, accidental clicks etc..\n",
    "- We can isolate the bottom part of the list for more than 217 visits."
   ]
  },
  {
   "cell_type": "code",
   "execution_count": 48,
   "metadata": {},
   "outputs": [
    {
     "data": {
      "text/plain": [
       "['8-clustering/5.1-kmeans-part-1',\n",
       " '3.0-mysql-overview',\n",
       " '2-storytelling/2.2-create',\n",
       " '10-anomaly-detection/3-discrete-probabilistic-methods',\n",
       " 'sql/clauses-overview',\n",
       " 'individual-project/individual-project']"
      ]
     },
     "execution_count": 48,
     "metadata": {},
     "output_type": "execute_result"
    }
   ],
   "source": [
    "# pull the bottom visited sites filtering by more than 217 visits\n",
    "df.endpoint.value_counts().reset_index(name='count').query('count > 217')['index'].tolist()[-6:]"
   ]
  },
  {
   "cell_type": "markdown",
   "metadata": {},
   "source": [
    "### Takeaways:\n",
    "- Most of the lower visited sites are all data science sites.\n",
    "- This makes sense because there are less data science students and it is a newer program."
   ]
  },
  {
   "cell_type": "code",
   "execution_count": 75,
   "metadata": {},
   "outputs": [
    {
     "data": {
      "text/html": [
       "<div>\n",
       "<style scoped>\n",
       "    .dataframe tbody tr th:only-of-type {\n",
       "        vertical-align: middle;\n",
       "    }\n",
       "\n",
       "    .dataframe tbody tr th {\n",
       "        vertical-align: top;\n",
       "    }\n",
       "\n",
       "    .dataframe thead th {\n",
       "        text-align: right;\n",
       "    }\n",
       "</style>\n",
       "<table border=\"1\" class=\"dataframe\">\n",
       "  <thead>\n",
       "    <tr style=\"text-align: right;\">\n",
       "      <th></th>\n",
       "      <th>endpoint</th>\n",
       "      <th>user_id</th>\n",
       "      <th>cohort_id</th>\n",
       "      <th>source_ip</th>\n",
       "      <th>name</th>\n",
       "      <th>start_date</th>\n",
       "      <th>end_date</th>\n",
       "      <th>created_at</th>\n",
       "      <th>updated_at</th>\n",
       "      <th>program_id</th>\n",
       "      <th>program_name</th>\n",
       "    </tr>\n",
       "    <tr>\n",
       "      <th>date</th>\n",
       "      <th></th>\n",
       "      <th></th>\n",
       "      <th></th>\n",
       "      <th></th>\n",
       "      <th></th>\n",
       "      <th></th>\n",
       "      <th></th>\n",
       "      <th></th>\n",
       "      <th></th>\n",
       "      <th></th>\n",
       "      <th></th>\n",
       "    </tr>\n",
       "  </thead>\n",
       "  <tbody>\n",
       "    <tr>\n",
       "      <th>2018-01-26</th>\n",
       "      <td>/</td>\n",
       "      <td>1</td>\n",
       "      <td>8.0</td>\n",
       "      <td>97.105.19.61</td>\n",
       "      <td>Hampton</td>\n",
       "      <td>2015-09-22</td>\n",
       "      <td>2016-02-06</td>\n",
       "      <td>2016-06-14 19:52:26</td>\n",
       "      <td>2016-06-14 19:52:26</td>\n",
       "      <td>1</td>\n",
       "      <td>PHP</td>\n",
       "    </tr>\n",
       "    <tr>\n",
       "      <th>2018-01-26</th>\n",
       "      <td>java-ii</td>\n",
       "      <td>1</td>\n",
       "      <td>8.0</td>\n",
       "      <td>97.105.19.61</td>\n",
       "      <td>Hampton</td>\n",
       "      <td>2015-09-22</td>\n",
       "      <td>2016-02-06</td>\n",
       "      <td>2016-06-14 19:52:26</td>\n",
       "      <td>2016-06-14 19:52:26</td>\n",
       "      <td>1</td>\n",
       "      <td>PHP</td>\n",
       "    </tr>\n",
       "    <tr>\n",
       "      <th>2018-01-26</th>\n",
       "      <td>java-ii/object-oriented-programming</td>\n",
       "      <td>1</td>\n",
       "      <td>8.0</td>\n",
       "      <td>97.105.19.61</td>\n",
       "      <td>Hampton</td>\n",
       "      <td>2015-09-22</td>\n",
       "      <td>2016-02-06</td>\n",
       "      <td>2016-06-14 19:52:26</td>\n",
       "      <td>2016-06-14 19:52:26</td>\n",
       "      <td>1</td>\n",
       "      <td>PHP</td>\n",
       "    </tr>\n",
       "    <tr>\n",
       "      <th>2018-01-26</th>\n",
       "      <td>slides/object_oriented_programming</td>\n",
       "      <td>1</td>\n",
       "      <td>8.0</td>\n",
       "      <td>97.105.19.61</td>\n",
       "      <td>Hampton</td>\n",
       "      <td>2015-09-22</td>\n",
       "      <td>2016-02-06</td>\n",
       "      <td>2016-06-14 19:52:26</td>\n",
       "      <td>2016-06-14 19:52:26</td>\n",
       "      <td>1</td>\n",
       "      <td>PHP</td>\n",
       "    </tr>\n",
       "    <tr>\n",
       "      <th>2018-01-26</th>\n",
       "      <td>javascript-i/functions</td>\n",
       "      <td>1</td>\n",
       "      <td>8.0</td>\n",
       "      <td>97.105.19.61</td>\n",
       "      <td>Hampton</td>\n",
       "      <td>2015-09-22</td>\n",
       "      <td>2016-02-06</td>\n",
       "      <td>2016-06-14 19:52:26</td>\n",
       "      <td>2016-06-14 19:52:26</td>\n",
       "      <td>1</td>\n",
       "      <td>PHP</td>\n",
       "    </tr>\n",
       "  </tbody>\n",
       "</table>\n",
       "</div>"
      ],
      "text/plain": [
       "                                       endpoint  user_id  cohort_id  \\\n",
       "date                                                                  \n",
       "2018-01-26                                    /        1        8.0   \n",
       "2018-01-26                              java-ii        1        8.0   \n",
       "2018-01-26  java-ii/object-oriented-programming        1        8.0   \n",
       "2018-01-26   slides/object_oriented_programming        1        8.0   \n",
       "2018-01-26               javascript-i/functions        1        8.0   \n",
       "\n",
       "               source_ip     name  start_date    end_date  \\\n",
       "date                                                        \n",
       "2018-01-26  97.105.19.61  Hampton  2015-09-22  2016-02-06   \n",
       "2018-01-26  97.105.19.61  Hampton  2015-09-22  2016-02-06   \n",
       "2018-01-26  97.105.19.61  Hampton  2015-09-22  2016-02-06   \n",
       "2018-01-26  97.105.19.61  Hampton  2015-09-22  2016-02-06   \n",
       "2018-01-26  97.105.19.61  Hampton  2015-09-22  2016-02-06   \n",
       "\n",
       "                     created_at           updated_at  program_id program_name  \n",
       "date                                                                           \n",
       "2018-01-26  2016-06-14 19:52:26  2016-06-14 19:52:26           1          PHP  \n",
       "2018-01-26  2016-06-14 19:52:26  2016-06-14 19:52:26           1          PHP  \n",
       "2018-01-26  2016-06-14 19:52:26  2016-06-14 19:52:26           1          PHP  \n",
       "2018-01-26  2016-06-14 19:52:26  2016-06-14 19:52:26           1          PHP  \n",
       "2018-01-26  2016-06-14 19:52:26  2016-06-14 19:52:26           1          PHP  "
      ]
     },
     "execution_count": 75,
     "metadata": {},
     "output_type": "execute_result"
    }
   ],
   "source": [
    "df.head()"
   ]
  },
  {
   "cell_type": "code",
   "execution_count": 79,
   "metadata": {},
   "outputs": [
    {
     "data": {
      "text/plain": [
       "<pandas.core.groupby.generic.DataFrameGroupBy object at 0x7ff3245409a0>"
      ]
     },
     "execution_count": 79,
     "metadata": {},
     "output_type": "execute_result"
    }
   ],
   "source": [
    "df.groupby('user_id')"
   ]
  },
  {
   "cell_type": "code",
   "execution_count": null,
   "metadata": {},
   "outputs": [],
   "source": [
    "np.where(df.start_date)"
   ]
  },
  {
   "cell_type": "code",
   "execution_count": 82,
   "metadata": {},
   "outputs": [
    {
     "data": {
      "text/plain": [
       "endpoint         object\n",
       "user_id           int64\n",
       "cohort_id       float64\n",
       "source_ip        object\n",
       "name             object\n",
       "start_date       object\n",
       "end_date         object\n",
       "created_at       object\n",
       "updated_at       object\n",
       "program_id        int64\n",
       "program_name     object\n",
       "dtype: object"
      ]
     },
     "execution_count": 82,
     "metadata": {},
     "output_type": "execute_result"
    }
   ],
   "source": [
    "df.dtypes"
   ]
  },
  {
   "cell_type": "code",
   "execution_count": null,
   "metadata": {},
   "outputs": [],
   "source": []
  }
 ],
 "metadata": {
  "kernelspec": {
   "display_name": "Python 3",
   "language": "python",
   "name": "python3"
  },
  "language_info": {
   "codemirror_mode": {
    "name": "ipython",
    "version": 3
   },
   "file_extension": ".py",
   "mimetype": "text/x-python",
   "name": "python",
   "nbconvert_exporter": "python",
   "pygments_lexer": "ipython3",
   "version": "3.8.5"
  }
 },
 "nbformat": 4,
 "nbformat_minor": 4
}
