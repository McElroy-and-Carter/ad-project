{
 "cells": [
  {
   "cell_type": "code",
   "execution_count": 106,
   "id": "d9411971-fd6b-4b09-81c4-b243ff56e2bd",
   "metadata": {},
   "outputs": [],
   "source": [
    "import numpy as np\n",
    "import pandas as pd\n",
    "import matplotlib.pyplot as plt\n",
    "\n",
    "from PythonScripts import wrangle"
   ]
  },
  {
   "cell_type": "code",
   "execution_count": 2,
   "id": "495f3598-6f3a-4e01-a6af-8628492ae435",
   "metadata": {},
   "outputs": [],
   "source": [
    "df = wrangle.get_curriculum_log()"
   ]
  },
  {
   "cell_type": "code",
   "execution_count": 3,
   "id": "7f38f727-8f6e-421e-8271-14f4b9f50d26",
   "metadata": {},
   "outputs": [
    {
     "data": {
      "text/plain": [
       "endpoint        0\n",
       "user_id         0\n",
       "cohort_id       0\n",
       "source_ip       0\n",
       "name            0\n",
       "start_date      0\n",
       "end_date        0\n",
       "created_at      0\n",
       "updated_at      0\n",
       "program_id      0\n",
       "program_name    0\n",
       "dtype: int64"
      ]
     },
     "execution_count": 3,
     "metadata": {},
     "output_type": "execute_result"
    }
   ],
   "source": [
    "df.isna().sum()"
   ]
  },
  {
   "cell_type": "code",
   "execution_count": 4,
   "id": "1cf82689-c3c8-4d64-85cd-037eec7ae4b2",
   "metadata": {},
   "outputs": [
    {
     "name": "stdout",
     "output_type": "stream",
     "text": [
      "<class 'pandas.core.frame.DataFrame'>\n",
      "DatetimeIndex: 954312 entries, 2018-01-26 to 2021-07-15\n",
      "Data columns (total 11 columns):\n",
      " #   Column        Non-Null Count   Dtype         \n",
      "---  ------        --------------   -----         \n",
      " 0   endpoint      954312 non-null  object        \n",
      " 1   user_id       954312 non-null  int64         \n",
      " 2   cohort_id     954312 non-null  float64       \n",
      " 3   source_ip     954312 non-null  object        \n",
      " 4   name          954312 non-null  object        \n",
      " 5   start_date    954312 non-null  datetime64[ns]\n",
      " 6   end_date      954312 non-null  datetime64[ns]\n",
      " 7   created_at    954312 non-null  datetime64[ns]\n",
      " 8   updated_at    954312 non-null  datetime64[ns]\n",
      " 9   program_id    954312 non-null  int64         \n",
      " 10  program_name  954312 non-null  object        \n",
      "dtypes: datetime64[ns](4), float64(1), int64(2), object(4)\n",
      "memory usage: 87.4+ MB\n"
     ]
    }
   ],
   "source": [
    "df.info()"
   ]
  },
  {
   "cell_type": "code",
   "execution_count": null,
   "id": "7c23c0bd-c99f-443a-9653-987add4d8f40",
   "metadata": {},
   "outputs": [],
   "source": []
  },
  {
   "cell_type": "code",
   "execution_count": 5,
   "id": "f3728e6a-360d-4380-bd57-f96477d91610",
   "metadata": {},
   "outputs": [
    {
     "data": {
      "text/plain": [
       "Series([], dtype: int64)"
      ]
     },
     "execution_count": 5,
     "metadata": {},
     "output_type": "execute_result"
    }
   ],
   "source": [
    "#6 what topics are grads continuing to access after graduation? and into there jobs for each program\n",
    "df.loc[(df.program_name == 'Data Science') & (df.updated_at > df.end_date)].value_counts().head(10)"
   ]
  },
  {
   "cell_type": "code",
   "execution_count": 6,
   "id": "7f047d42-d871-45b4-821c-6ff9b3032199",
   "metadata": {},
   "outputs": [
    {
     "data": {
      "text/plain": [
       "javascript-i                                                                 759\n",
       "html-css                                                                     709\n",
       "javascript-i/javascript-with-html                                            709\n",
       "javascript-i/introduction/working-with-data-types-operators-and-variables    485\n",
       "html-css/css-ii/bootstrap-grid-system                                        387\n",
       "javascript-i/introduction/operators                                          387\n",
       "jquery                                                                       385\n",
       "javascript-i/functions                                                       379\n",
       "javascript-ii                                                                348\n",
       "toc                                                                          340\n",
       "javascript-i/loops                                                           323\n",
       "html-css/css-ii/bootstrap-introduction                                       307\n",
       "javascript-i/conditionals                                                    303\n",
       "html-css/elements                                                            303\n",
       "html-css/forms                                                               293\n",
       "html-css/css-ii/media-queries                                                283\n",
       "spring                                                                       272\n",
       "html-css/css-i/box-model                                                     251\n",
       "html-css/css-i/positioning                                                   248\n",
       "java-ii                                                                      247\n",
       "Name: endpoint, dtype: int64"
      ]
     },
     "execution_count": 6,
     "metadata": {},
     "output_type": "execute_result"
    }
   ],
   "source": [
    "df.loc[(df.program_name == 'PHP') & (df.updated_at > df.end_date)].endpoint.value_counts()[1:].head(20)"
   ]
  },
  {
   "cell_type": "code",
   "execution_count": 7,
   "id": "c8cd18ae-6724-430c-b001-8cd92c0d2a10",
   "metadata": {},
   "outputs": [
    {
     "data": {
      "text/plain": [
       "javascript-i                                2792\n",
       "spring                                      2289\n",
       "html-css                                    2247\n",
       "java-iii                                    2219\n",
       "java-ii                                     2093\n",
       "toc                                         1934\n",
       "appendix                                    1827\n",
       "javascript-ii                               1599\n",
       "java-i                                      1577\n",
       "jquery                                      1564\n",
       "mysql                                       1495\n",
       "jquery/ajax/weather-map                     1292\n",
       "classification/overview                     1160\n",
       "sql/mysql-overview                          1066\n",
       "classification/scale_features_or_not.svg    1028\n",
       "spring/fundamentals/repositories            1025\n",
       "java-iii/servlets                            965\n",
       "spring/fundamentals/views                    899\n",
       "java-iii/jsp-and-jstl                        839\n",
       "mysql/tables                                 809\n",
       "Name: endpoint, dtype: int64"
      ]
     },
     "execution_count": 7,
     "metadata": {},
     "output_type": "execute_result"
    }
   ],
   "source": [
    "df.loc[(df.program_name == 'Java') & (df.updated_at > df.end_date)].endpoint.value_counts()[2:].head(20)"
   ]
  },
  {
   "cell_type": "code",
   "execution_count": 8,
   "id": "aa57dd70-1861-4f47-8dad-adedba942599",
   "metadata": {},
   "outputs": [
    {
     "data": {
      "text/plain": [
       "content/html-css                               2\n",
       "content/html-css/gitbook/images/favicon.ico    1\n",
       "content/html-css/introduction.html             1\n",
       "/                                              1\n",
       "Name: endpoint, dtype: int64"
      ]
     },
     "execution_count": 8,
     "metadata": {},
     "output_type": "execute_result"
    }
   ],
   "source": [
    "df.loc[(df.program_name == 'Front End') & (df.updated_at > df.end_date)].endpoint.value_counts().head(10)"
   ]
  },
  {
   "cell_type": "code",
   "execution_count": 9,
   "id": "d097d80b-3a61-47c6-a2b9-8fef02f17cc5",
   "metadata": {
    "tags": []
   },
   "outputs": [],
   "source": [
    "#5 at some point in 2019 the ability for students to access both curriculums was deprecated, do you see evidence of that happening, did it happen before?\n",
    "\n",
    "##classes in 2020 and greater can only access there specific stuff \n",
    "java_list = df[(df['program_name'] == 'Java') & (df.created_at.dt.year > 2019)].endpoint.unique().tolist()\n",
    "\n",
    "ds_list = df[(df['program_name'] == 'Data Science') & (df.created_at.dt.year > 2019)].endpoint.unique().tolist()\n",
    "\n",
    "#look at common pages visited for both these cohorts to filter by\n",
    "common_list = []\n",
    "for j in java_list:\n",
    "    for d in ds_list:\n",
    "        if j == d:\n",
    "            common_list.append(j)"
   ]
  },
  {
   "cell_type": "code",
   "execution_count": 10,
   "id": "18ecfdaf-fa5a-4c7d-9428-1d1c80c3a680",
   "metadata": {},
   "outputs": [],
   "source": [
    "#data science students who accessed the webdev cirrculum before swi\n",
    "ds_in_web = df.loc[(df['program_name'] == 'Data Science') & (df['endpoint'].isin(java_list)) & (~df['endpoint'].isin(common_list))]"
   ]
  },
  {
   "cell_type": "code",
   "execution_count": 11,
   "id": "f4b5c711-433b-4cb3-bbdc-5ee08b69e949",
   "metadata": {},
   "outputs": [],
   "source": [
    "#web dev students who accessed the ds curriculum before switch\n",
    "web_in_ds = df.loc[(df['program_name'] == 'Java') & (df['endpoint'].isin(ds_list)) & (~df['endpoint'].isin(common_list))]"
   ]
  },
  {
   "cell_type": "code",
   "execution_count": 12,
   "id": "b057ae8e-5cb7-4ac6-92a6-e2991eb80a51",
   "metadata": {},
   "outputs": [
    {
     "data": {
      "text/html": [
       "<div>\n",
       "<style scoped>\n",
       "    .dataframe tbody tr th:only-of-type {\n",
       "        vertical-align: middle;\n",
       "    }\n",
       "\n",
       "    .dataframe tbody tr th {\n",
       "        vertical-align: top;\n",
       "    }\n",
       "\n",
       "    .dataframe thead th {\n",
       "        text-align: right;\n",
       "    }\n",
       "</style>\n",
       "<table border=\"1\" class=\"dataframe\">\n",
       "  <thead>\n",
       "    <tr style=\"text-align: right;\">\n",
       "      <th></th>\n",
       "      <th>endpoint</th>\n",
       "      <th>user_id</th>\n",
       "      <th>cohort_id</th>\n",
       "      <th>source_ip</th>\n",
       "      <th>name</th>\n",
       "      <th>start_date</th>\n",
       "      <th>end_date</th>\n",
       "      <th>created_at</th>\n",
       "      <th>updated_at</th>\n",
       "      <th>program_id</th>\n",
       "      <th>program_name</th>\n",
       "    </tr>\n",
       "    <tr>\n",
       "      <th>date</th>\n",
       "      <th></th>\n",
       "      <th></th>\n",
       "      <th></th>\n",
       "      <th></th>\n",
       "      <th></th>\n",
       "      <th></th>\n",
       "      <th></th>\n",
       "      <th></th>\n",
       "      <th></th>\n",
       "      <th></th>\n",
       "      <th></th>\n",
       "    </tr>\n",
       "  </thead>\n",
       "  <tbody>\n",
       "  </tbody>\n",
       "</table>\n",
       "</div>"
      ],
      "text/plain": [
       "Empty DataFrame\n",
       "Columns: [endpoint, user_id, cohort_id, source_ip, name, start_date, end_date, created_at, updated_at, program_id, program_name]\n",
       "Index: []"
      ]
     },
     "execution_count": 12,
     "metadata": {},
     "output_type": "execute_result"
    }
   ],
   "source": [
    "#data science students who accessed web dev curriculum after the 2019 switch\n",
    "ds_in_web[ds_in_web['created_at'].dt.year > 2019]"
   ]
  },
  {
   "cell_type": "code",
   "execution_count": 13,
   "id": "90714f6e-c1a0-4ae2-adca-acd4adfffcb9",
   "metadata": {},
   "outputs": [
    {
     "data": {
      "text/html": [
       "<div>\n",
       "<style scoped>\n",
       "    .dataframe tbody tr th:only-of-type {\n",
       "        vertical-align: middle;\n",
       "    }\n",
       "\n",
       "    .dataframe tbody tr th {\n",
       "        vertical-align: top;\n",
       "    }\n",
       "\n",
       "    .dataframe thead th {\n",
       "        text-align: right;\n",
       "    }\n",
       "</style>\n",
       "<table border=\"1\" class=\"dataframe\">\n",
       "  <thead>\n",
       "    <tr style=\"text-align: right;\">\n",
       "      <th></th>\n",
       "      <th>endpoint</th>\n",
       "      <th>user_id</th>\n",
       "      <th>cohort_id</th>\n",
       "      <th>source_ip</th>\n",
       "      <th>name</th>\n",
       "      <th>start_date</th>\n",
       "      <th>end_date</th>\n",
       "      <th>created_at</th>\n",
       "      <th>updated_at</th>\n",
       "      <th>program_id</th>\n",
       "      <th>program_name</th>\n",
       "    </tr>\n",
       "    <tr>\n",
       "      <th>date</th>\n",
       "      <th></th>\n",
       "      <th></th>\n",
       "      <th></th>\n",
       "      <th></th>\n",
       "      <th></th>\n",
       "      <th></th>\n",
       "      <th></th>\n",
       "      <th></th>\n",
       "      <th></th>\n",
       "      <th></th>\n",
       "      <th></th>\n",
       "    </tr>\n",
       "  </thead>\n",
       "  <tbody>\n",
       "  </tbody>\n",
       "</table>\n",
       "</div>"
      ],
      "text/plain": [
       "Empty DataFrame\n",
       "Columns: [endpoint, user_id, cohort_id, source_ip, name, start_date, end_date, created_at, updated_at, program_id, program_name]\n",
       "Index: []"
      ]
     },
     "execution_count": 13,
     "metadata": {},
     "output_type": "execute_result"
    }
   ],
   "source": [
    "web_in_ds[web_in_ds['created_at'].dt.year > 2019]"
   ]
  },
  {
   "cell_type": "code",
   "execution_count": 288,
   "id": "3a940c07-43ab-490c-8be4-7750613573ec",
   "metadata": {},
   "outputs": [],
   "source": [
    "#Is there a cohort that reffered to a lesson significantly more than other cohorts mayb e glossed over?"
   ]
  },
  {
   "cell_type": "code",
   "execution_count": 289,
   "id": "e4d6d64a-8e3d-484f-bcb2-b17ca4ebf058",
   "metadata": {},
   "outputs": [],
   "source": [
    "#Top 10 Most popular endpoints for java students\n",
    "java_df = df[(df['program_name'] == 'Java') & (~df['endpoint'].isin(common_list))].endpoint.value_counts().to_frame().reset_index().head(10)"
   ]
  },
  {
   "cell_type": "code",
   "execution_count": 290,
   "id": "90e7e695-7fbb-4bac-92ce-6f08fc7bd260",
   "metadata": {},
   "outputs": [],
   "source": [
    "#create a list of those top 10 endpoints\n",
    "list_of_endpoints = java_df['index'].tolist()\n",
    "#create a list of cohorts for java students\n",
    "list_of_cohorts = df[df['program_name'] == 'Java'].name.unique().tolist()"
   ]
  },
  {
   "cell_type": "code",
   "execution_count": 327,
   "id": "bd0840dd-ae70-4651-b668-8e0cfb9e692f",
   "metadata": {},
   "outputs": [],
   "source": [
    "#create a dataframe of the how many times the data was accessed by every cohort individually\n",
    "java_df = df[(df['name'].isin(list_of_cohorts)) & (df['endpoint'].isin(list_of_endpoints))].groupby(['name','endpoint']).count()\n",
    "java_df = java_df.reset_index().rename(columns=({'user_id':'counts'}))\n",
    "java_df = java_df[['name','endpoint','counts']]"
   ]
  },
  {
   "cell_type": "code",
   "execution_count": 315,
   "id": "875e7cd9-4729-4ec8-8133-6ad8f7060a45",
   "metadata": {},
   "outputs": [],
   "source": [
    "#avg page visits for each endpoint\n",
    "mean_for_java = java_df.groupby('endpoint').counts.mean().to_frame().reset_index().rename(columns=({'counts':'avg'}))\n",
    "#standard deviation for each endpoint\n",
    "std_for_java = java_df.groupby('endpoint').counts.std().to_frame().reset_index().rename(columns=({'counts':'stds'}))"
   ]
  },
  {
   "cell_type": "code",
   "execution_count": 332,
   "id": "fbcb1c01-b0a4-410b-8805-1334c8eee01d",
   "metadata": {},
   "outputs": [
    {
     "name": "stdout",
     "output_type": "stream",
     "text": [
      "Cohorts who accessed the javascript-i lesson more than the other cohorts\n",
      "203    Staff\n",
      "Name: name, dtype: object\n",
      "Cohorts who accessed the javascript-i lesson less than the other cohorts\n",
      "134      Mammoth\n",
      "163      Niagara\n",
      "183    Pinnacles\n",
      "193      Sequoia\n",
      "Name: name, dtype: object\n",
      "Cohorts who accessed the java-iii lesson more than the other cohorts\n",
      "103    Jupiter\n",
      "202      Staff\n",
      "Name: name, dtype: object\n",
      "Cohorts who accessed the java-iii lesson less than the other cohorts\n",
      "133      Mammoth\n",
      "162      Niagara\n",
      "172       Oberon\n",
      "182    Pinnacles\n",
      "192      Sequoia\n",
      "Name: name, dtype: object\n",
      "Cohorts who accessed the html-css lesson more than the other cohorts\n",
      "100    Jupiter\n",
      "199      Staff\n",
      "Name: name, dtype: object\n",
      "Cohorts who accessed the html-css lesson less than the other cohorts\n",
      "130      Mammoth\n",
      "159      Niagara\n",
      "179    Pinnacles\n",
      "189      Sequoia\n",
      "Name: name, dtype: object\n",
      "Cohorts who accessed the java-ii lesson more than the other cohorts\n",
      "102    Jupiter\n",
      "201      Staff\n",
      "Name: name, dtype: object\n",
      "Cohorts who accessed the java-ii lesson less than the other cohorts\n",
      "132      Mammoth\n",
      "161      Niagara\n",
      "181    Pinnacles\n",
      "191      Sequoia\n",
      "Name: name, dtype: object\n",
      "Cohorts who accessed the jquery lesson more than the other cohorts\n",
      "207    Staff\n",
      "Name: name, dtype: object\n",
      "Cohorts who accessed the jquery lesson less than the other cohorts\n",
      "137      Mammoth\n",
      "167      Niagara\n",
      "187    Pinnacles\n",
      "197      Sequoia\n",
      "Name: name, dtype: object\n",
      "Cohorts who accessed the java-i lesson more than the other cohorts\n",
      "200        Staff\n",
      "230    Voyageurs\n",
      "Name: name, dtype: object\n",
      "Cohorts who accessed the java-i lesson less than the other cohorts\n",
      "131      Mammoth\n",
      "160      Niagara\n",
      "180    Pinnacles\n",
      "190      Sequoia\n",
      "Name: name, dtype: object\n",
      "Cohorts who accessed the javascript-ii lesson more than the other cohorts\n",
      "206    Staff\n",
      "276     Zion\n",
      "Name: name, dtype: object\n",
      "Cohorts who accessed the javascript-ii lesson less than the other cohorts\n",
      "136      Mammoth\n",
      "166      Niagara\n",
      "186    Pinnacles\n",
      "196      Sequoia\n",
      "Name: name, dtype: object\n",
      "Cohorts who accessed the mysql/tables lesson more than the other cohorts\n",
      "109      Jupiter\n",
      "208        Staff\n",
      "238    Voyageurs\n",
      "Name: name, dtype: object\n",
      "Cohorts who accessed the mysql/tables lesson less than the other cohorts\n",
      "138      Mammoth\n",
      "168      Niagara\n",
      "178       Oberon\n",
      "188    Pinnacles\n",
      "198      Sequoia\n",
      "Name: name, dtype: object\n",
      "Cohorts who accessed the javascript-i/introduction/working-with-data-types-operators-and-variables lesson more than the other cohorts\n",
      "46     Ceres\n",
      "145    Marco\n",
      "Name: name, dtype: object\n",
      "Cohorts who accessed the javascript-i/introduction/working-with-data-types-operators-and-variables lesson less than the other cohorts\n",
      "165      Niagara\n",
      "185    Pinnacles\n",
      "195      Sequoia\n",
      "Name: name, dtype: object\n",
      "Cohorts who accessed the javascript-i/functions lesson more than the other cohorts\n",
      "45      Ceres\n",
      "144     Marco\n",
      "174    Oberon\n",
      "Name: name, dtype: object\n",
      "Cohorts who accessed the javascript-i/functions lesson less than the other cohorts\n",
      "135      Mammoth\n",
      "164      Niagara\n",
      "184    Pinnacles\n",
      "194      Sequoia\n",
      "Name: name, dtype: object\n"
     ]
    }
   ],
   "source": [
    "#show who visits what end point more than others\n",
    "for i in list_of_endpoints:\n",
    "    endpoint_mean = mean_for_java[mean_for_java['endpoint'] == i].avg[mean_for_java[mean_for_java['endpoint'] == i].index[0]]\n",
    "    endpoint_std = std_for_java[std_for_java['endpoint'] == i].stds[std_for_java[std_for_java['endpoint'] == i].index[0]]\n",
    "    \n",
    "    print('Cohorts who accessed the {} lesson more than the other cohorts'.format(i))\n",
    "    print(java_df[(java_df['endpoint'] == i) & (java_df['counts'] > (endpoint_mean + endpoint_std))].name)\n",
    "    print('Cohorts who accessed the {} lesson less than the other cohorts'.format(i))\n",
    "    print(java_df[(java_df['endpoint'] == i) & (java_df['counts'] < (endpoint_mean - endpoint_std))].name)"
   ]
  },
  {
   "cell_type": "code",
   "execution_count": 343,
   "id": "68937184-3b9b-432c-9523-1c80e127d47d",
   "metadata": {},
   "outputs": [],
   "source": [
    "#Top 10 Most popular endpoints for DS students\n",
    "ds_df = df[(df['program_name'] == 'Data Science') & (~df['endpoint'].isin(common_list))].endpoint.value_counts().to_frame().reset_index().head(10)"
   ]
  },
  {
   "cell_type": "code",
   "execution_count": 344,
   "id": "f47576b8-199d-497b-bb45-04dcd42c1c16",
   "metadata": {},
   "outputs": [],
   "source": [
    "#create a list of those top 10 endpoints\n",
    "list_of_endpoints = ds_df['index'].tolist()\n",
    "#create a list of cohorts for java students\n",
    "list_of_cohorts = df[df['program_name'] == 'Data Science'].name.unique().tolist()"
   ]
  },
  {
   "cell_type": "code",
   "execution_count": 345,
   "id": "28192c43-f2fe-47c4-b4d4-89696ff76271",
   "metadata": {},
   "outputs": [],
   "source": [
    "#create a dataframe of the how many times the data was accessed by every cohort individually\n",
    "ds_df = df[(df['name'].isin(list_of_cohorts)) & (df['endpoint'].isin(list_of_endpoints))].groupby(['name','endpoint']).count()\n",
    "ds_df = ds_df.reset_index().rename(columns=({'user_id':'counts'}))\n",
    "ds_df = ds_df[['name','endpoint','counts']]"
   ]
  },
  {
   "cell_type": "code",
   "execution_count": 360,
   "id": "b95aa154-ac49-466d-81ac-eb97ca8dd632",
   "metadata": {},
   "outputs": [],
   "source": [
    "#avg page visits for each endpoint\n",
    "mean_for_ds = ds_df.groupby('endpoint').counts.mean().to_frame().reset_index().rename(columns=({'counts':'avg'}))\n",
    "#standard deviation for each endpoint\n",
    "std_for_ds = ds_df.groupby('endpoint').counts.std().to_frame().reset_index().rename(columns=({'counts':'stds'}))"
   ]
  },
  {
   "cell_type": "code",
   "execution_count": 362,
   "id": "79e7c740-d8e4-402c-9e22-9ffab7d8377a",
   "metadata": {},
   "outputs": [
    {
     "name": "stdout",
     "output_type": "stream",
     "text": [
      "Cohorts who accessed the classification/overview lesson more than the other cohorts\n",
      "27    Darden\n",
      "Name: name, dtype: object\n",
      "Cohorts who accessed the classification/overview lesson less than the other cohorts\n",
      "7    Bayes\n",
      "Name: name, dtype: object\n",
      "Cohorts who accessed the classification/scale_features_or_not.svg lesson more than the other cohorts\n",
      "28    Darden\n",
      "Name: name, dtype: object\n",
      "Cohorts who accessed the classification/scale_features_or_not.svg lesson less than the other cohorts\n",
      "8    Bayes\n",
      "Name: name, dtype: object\n",
      "Cohorts who accessed the 1-fundamentals/modern-data-scientist.jpg lesson more than the other cohorts\n",
      "2    Bayes\n",
      "Name: name, dtype: object\n",
      "Cohorts who accessed the 1-fundamentals/modern-data-scientist.jpg lesson less than the other cohorts\n",
      "32    Easley\n",
      "Name: name, dtype: object\n",
      "Cohorts who accessed the 1-fundamentals/AI-ML-DL-timeline.jpg lesson more than the other cohorts\n",
      "1    Bayes\n",
      "Name: name, dtype: object\n",
      "Cohorts who accessed the 1-fundamentals/AI-ML-DL-timeline.jpg lesson less than the other cohorts\n",
      "31    Easley\n",
      "Name: name, dtype: object\n",
      "Cohorts who accessed the 1-fundamentals/1.1-intro-to-data-science lesson more than the other cohorts\n",
      "0    Bayes\n",
      "Name: name, dtype: object\n",
      "Cohorts who accessed the 1-fundamentals/1.1-intro-to-data-science lesson less than the other cohorts\n",
      "30    Easley\n",
      "Name: name, dtype: object\n",
      "Cohorts who accessed the classification/classical_programming_vs_machine_learning.jpeg lesson more than the other cohorts\n",
      "44    Florence\n",
      "Name: name, dtype: object\n",
      "Cohorts who accessed the classification/classical_programming_vs_machine_learning.jpeg lesson less than the other cohorts\n",
      "Series([], Name: name, dtype: object)\n",
      "Cohorts who accessed the 6-regression/1-overview lesson more than the other cohorts\n",
      "Series([], Name: name, dtype: object)\n",
      "Cohorts who accessed the 6-regression/1-overview lesson less than the other cohorts\n",
      "23    Darden\n",
      "Name: name, dtype: object\n",
      "Cohorts who accessed the anomaly-detection/AnomalyDetectionCartoon.jpeg lesson more than the other cohorts\n",
      "24    Darden\n",
      "Name: name, dtype: object\n",
      "Cohorts who accessed the anomaly-detection/AnomalyDetectionCartoon.jpeg lesson less than the other cohorts\n",
      "Series([], Name: name, dtype: object)\n",
      "Cohorts who accessed the anomaly-detection/overview lesson more than the other cohorts\n",
      "25    Darden\n",
      "Name: name, dtype: object\n",
      "Cohorts who accessed the anomaly-detection/overview lesson less than the other cohorts\n",
      "Series([], Name: name, dtype: object)\n",
      "Cohorts who accessed the stats/compare-means lesson more than the other cohorts\n",
      "29    Darden\n",
      "Name: name, dtype: object\n",
      "Cohorts who accessed the stats/compare-means lesson less than the other cohorts\n",
      "19    Curie\n",
      "Name: name, dtype: object\n"
     ]
    }
   ],
   "source": [
    "#show who visits what end point more than others\n",
    "for i in list_of_endpoints:\n",
    "    endpoint_mean = mean_for_ds[mean_for_ds['endpoint'] == i].avg[mean_for_ds[mean_for_ds['endpoint'] == i].index[0]]\n",
    "    endpoint_std = std_for_ds[std_for_ds['endpoint'] == i].stds[std_for_ds[std_for_ds['endpoint'] == i].index[0]]\n",
    "    \n",
    "    print('Cohorts who accessed the {} lesson more than the other cohorts'.format(i))\n",
    "    print(ds_df[(ds_df['endpoint'] == i) & (ds_df['counts'] > (endpoint_mean + endpoint_std))].name)\n",
    "    print('Cohorts who accessed the {} lesson less than the other cohorts'.format(i))\n",
    "    print(ds_df[(ds_df['endpoint'] == i) & (ds_df['counts'] < (endpoint_mean - endpoint_std))].name)"
   ]
  },
  {
   "cell_type": "code",
   "execution_count": null,
   "id": "11ee4225-a6a4-41cc-baef-0f9f108e4774",
   "metadata": {},
   "outputs": [],
   "source": []
  }
 ],
 "metadata": {
  "kernelspec": {
   "display_name": "Python 3",
   "language": "python",
   "name": "python3"
  },
  "language_info": {
   "codemirror_mode": {
    "name": "ipython",
    "version": 3
   },
   "file_extension": ".py",
   "mimetype": "text/x-python",
   "name": "python",
   "nbconvert_exporter": "python",
   "pygments_lexer": "ipython3",
   "version": "3.8.10"
  }
 },
 "nbformat": 4,
 "nbformat_minor": 5
}
