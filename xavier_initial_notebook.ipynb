{
 "cells": [
  {
   "cell_type": "code",
   "execution_count": 1,
   "id": "d9411971-fd6b-4b09-81c4-b243ff56e2bd",
   "metadata": {},
   "outputs": [],
   "source": [
    "import numpy as np\n",
    "import pandas as pd\n",
    "\n",
    "from PythonScripts import wrangle"
   ]
  },
  {
   "cell_type": "code",
   "execution_count": 2,
   "id": "495f3598-6f3a-4e01-a6af-8628492ae435",
   "metadata": {},
   "outputs": [],
   "source": [
    "df = wrangle.get_curriculum_log()"
   ]
  },
  {
   "cell_type": "code",
   "execution_count": 3,
   "id": "7f38f727-8f6e-421e-8271-14f4b9f50d26",
   "metadata": {},
   "outputs": [
    {
     "data": {
      "text/plain": [
       "endpoint        0\n",
       "user_id         0\n",
       "cohort_id       0\n",
       "source_ip       0\n",
       "name            0\n",
       "start_date      0\n",
       "end_date        0\n",
       "created_at      0\n",
       "updated_at      0\n",
       "program_id      0\n",
       "program_name    0\n",
       "dtype: int64"
      ]
     },
     "execution_count": 3,
     "metadata": {},
     "output_type": "execute_result"
    }
   ],
   "source": [
    "df.isna().sum()"
   ]
  },
  {
   "cell_type": "code",
   "execution_count": 243,
   "id": "1cf82689-c3c8-4d64-85cd-037eec7ae4b2",
   "metadata": {},
   "outputs": [
    {
     "name": "stdout",
     "output_type": "stream",
     "text": [
      "<class 'pandas.core.frame.DataFrame'>\n",
      "DatetimeIndex: 954312 entries, 2018-01-26 to 2021-07-15\n",
      "Data columns (total 11 columns):\n",
      " #   Column        Non-Null Count   Dtype         \n",
      "---  ------        --------------   -----         \n",
      " 0   endpoint      954312 non-null  object        \n",
      " 1   user_id       954312 non-null  int64         \n",
      " 2   cohort_id     954312 non-null  float64       \n",
      " 3   source_ip     954312 non-null  object        \n",
      " 4   name          954312 non-null  object        \n",
      " 5   start_date    954312 non-null  datetime64[ns]\n",
      " 6   end_date      954312 non-null  datetime64[ns]\n",
      " 7   created_at    954312 non-null  datetime64[ns]\n",
      " 8   updated_at    954312 non-null  object        \n",
      " 9   program_id    954312 non-null  int64         \n",
      " 10  program_name  954312 non-null  object        \n",
      "dtypes: datetime64[ns](3), float64(1), int64(2), object(5)\n",
      "memory usage: 87.4+ MB\n"
     ]
    }
   ],
   "source": [
    "df.info()"
   ]
  },
  {
   "cell_type": "code",
   "execution_count": 253,
   "id": "7c23c0bd-c99f-443a-9653-987add4d8f40",
   "metadata": {},
   "outputs": [
    {
     "data": {
      "text/plain": [
       "date\n",
       "2018-01-26    2016\n",
       "2018-01-26    2016\n",
       "2018-01-26    2016\n",
       "2018-01-26    2016\n",
       "2018-01-26    2016\n",
       "              ... \n",
       "2021-07-15    2021\n",
       "2021-07-15    2021\n",
       "2021-07-15    2021\n",
       "2021-07-15    2021\n",
       "2021-07-15    2021\n",
       "Name: end_date, Length: 954312, dtype: int64"
      ]
     },
     "execution_count": 253,
     "metadata": {},
     "output_type": "execute_result"
    }
   ],
   "source": []
  },
  {
   "cell_type": "code",
   "execution_count": 41,
   "id": "f3728e6a-360d-4380-bd57-f96477d91610",
   "metadata": {},
   "outputs": [
    {
     "data": {
      "text/plain": [
       "Series([], dtype: int64)"
      ]
     },
     "execution_count": 41,
     "metadata": {},
     "output_type": "execute_result"
    }
   ],
   "source": [
    "#6 what topics are grads continuing to access after graduation? and into there jobs for each program\n",
    "df.loc[(df.program_name == 'Data Science') & (df.updated_at > df.end_date)].value_counts().head(10)"
   ]
  },
  {
   "cell_type": "code",
   "execution_count": 98,
   "id": "7f047d42-d871-45b4-821c-6ff9b3032199",
   "metadata": {},
   "outputs": [
    {
     "data": {
      "text/plain": [
       "javascript-i                                                                 759\n",
       "javascript-i/javascript-with-html                                            709\n",
       "html-css                                                                     709\n",
       "javascript-i/introduction/working-with-data-types-operators-and-variables    485\n",
       "html-css/css-ii/bootstrap-grid-system                                        387\n",
       "javascript-i/introduction/operators                                          387\n",
       "jquery                                                                       385\n",
       "javascript-i/functions                                                       379\n",
       "javascript-ii                                                                348\n",
       "toc                                                                          340\n",
       "javascript-i/loops                                                           323\n",
       "html-css/css-ii/bootstrap-introduction                                       307\n",
       "html-css/elements                                                            303\n",
       "javascript-i/conditionals                                                    303\n",
       "html-css/forms                                                               293\n",
       "html-css/css-ii/media-queries                                                283\n",
       "spring                                                                       272\n",
       "html-css/css-i/box-model                                                     251\n",
       "html-css/css-i/positioning                                                   248\n",
       "java-ii                                                                      247\n",
       "Name: endpoint, dtype: int64"
      ]
     },
     "execution_count": 98,
     "metadata": {},
     "output_type": "execute_result"
    }
   ],
   "source": [
    "df.loc[(df.program_name == 'PHP') & (df.updated_at > df.end_date)].endpoint.value_counts()[1:].head(20)"
   ]
  },
  {
   "cell_type": "code",
   "execution_count": 58,
   "id": "c8cd18ae-6724-430c-b001-8cd92c0d2a10",
   "metadata": {},
   "outputs": [
    {
     "data": {
      "text/plain": [
       "javascript-i                                2792\n",
       "spring                                      2289\n",
       "html-css                                    2247\n",
       "java-iii                                    2219\n",
       "java-ii                                     2093\n",
       "toc                                         1934\n",
       "appendix                                    1827\n",
       "javascript-ii                               1599\n",
       "java-i                                      1577\n",
       "jquery                                      1564\n",
       "mysql                                       1495\n",
       "jquery/ajax/weather-map                     1292\n",
       "classification/overview                     1160\n",
       "sql/mysql-overview                          1066\n",
       "classification/scale_features_or_not.svg    1028\n",
       "spring/fundamentals/repositories            1025\n",
       "java-iii/servlets                            965\n",
       "spring/fundamentals/views                    899\n",
       "java-iii/jsp-and-jstl                        839\n",
       "mysql/tables                                 809\n",
       "Name: endpoint, dtype: int64"
      ]
     },
     "execution_count": 58,
     "metadata": {},
     "output_type": "execute_result"
    }
   ],
   "source": [
    "df.loc[(df.program_name == 'Java') & (df.updated_at > df.end_date)].endpoint.value_counts()[2:].head(20)"
   ]
  },
  {
   "cell_type": "code",
   "execution_count": 53,
   "id": "aa57dd70-1861-4f47-8dad-adedba942599",
   "metadata": {},
   "outputs": [
    {
     "data": {
      "text/plain": [
       "content/html-css                               2\n",
       "/                                              1\n",
       "content/html-css/introduction.html             1\n",
       "content/html-css/gitbook/images/favicon.ico    1\n",
       "Name: endpoint, dtype: int64"
      ]
     },
     "execution_count": 53,
     "metadata": {},
     "output_type": "execute_result"
    }
   ],
   "source": [
    "df.loc[(df.program_name == 'Front End') & (df.updated_at > df.end_date)].endpoint.value_counts().head(10)"
   ]
  },
  {
   "cell_type": "code",
   "execution_count": 275,
   "id": "d097d80b-3a61-47c6-a2b9-8fef02f17cc5",
   "metadata": {
    "tags": []
   },
   "outputs": [],
   "source": [
    "#5 at some point in 2019 the ability for students to access both curriculums was deprecated, do you see evidence of that happening, did it happen before?\n",
    "\n",
    "##classes in 2020 and greater can only access there specific stuff \n",
    "java_list = df[(df['program_name'] == 'Java') & (df.start_date.dt.year >= 2020)].endpoint.unique().tolist()\n",
    "\n",
    "ds_list = df[(df['program_name'] == 'Data Science') & (df.start_date.dt.year >= 2020)].endpoint.unique().tolist()\n",
    "\n",
    "#look at common pages visited for both these cohorts to filter by\n",
    "common_list = []\n",
    "for j in java_list:\n",
    "    for d in ds_list:\n",
    "        if j == d:\n",
    "            common_list.append(j)"
   ]
  },
  {
   "cell_type": "code",
   "execution_count": 276,
   "id": "18ecfdaf-fa5a-4c7d-9428-1d1c80c3a680",
   "metadata": {},
   "outputs": [],
   "source": [
    "#data science students who accessed the webdev cirrculum before swi\n",
    "ds_in_web = df.loc[(df['program_name'] == 'Data Science') & (df['endpoint'].isin(java_list)) & (~df['endpoint'].isin(common_list))]"
   ]
  },
  {
   "cell_type": "code",
   "execution_count": 277,
   "id": "f4b5c711-433b-4cb3-bbdc-5ee08b69e949",
   "metadata": {},
   "outputs": [],
   "source": [
    "#web dev students who accessed the ds curriculum before switch\n",
    "web_in_ds = df.loc[(df['program_name'] == 'Java') & (df['endpoint'].isin(ds_list)) & (~df['endpoint'].isin(common_list))]"
   ]
  },
  {
   "cell_type": "code",
   "execution_count": 280,
   "id": "b057ae8e-5cb7-4ac6-92a6-e2991eb80a51",
   "metadata": {},
   "outputs": [
    {
     "data": {
      "text/html": [
       "<div>\n",
       "<style scoped>\n",
       "    .dataframe tbody tr th:only-of-type {\n",
       "        vertical-align: middle;\n",
       "    }\n",
       "\n",
       "    .dataframe tbody tr th {\n",
       "        vertical-align: top;\n",
       "    }\n",
       "\n",
       "    .dataframe thead th {\n",
       "        text-align: right;\n",
       "    }\n",
       "</style>\n",
       "<table border=\"1\" class=\"dataframe\">\n",
       "  <thead>\n",
       "    <tr style=\"text-align: right;\">\n",
       "      <th></th>\n",
       "      <th>endpoint</th>\n",
       "      <th>user_id</th>\n",
       "      <th>cohort_id</th>\n",
       "      <th>source_ip</th>\n",
       "      <th>name</th>\n",
       "      <th>start_date</th>\n",
       "      <th>end_date</th>\n",
       "      <th>created_at</th>\n",
       "      <th>updated_at</th>\n",
       "      <th>program_id</th>\n",
       "      <th>program_name</th>\n",
       "    </tr>\n",
       "    <tr>\n",
       "      <th>date</th>\n",
       "      <th></th>\n",
       "      <th></th>\n",
       "      <th></th>\n",
       "      <th></th>\n",
       "      <th></th>\n",
       "      <th></th>\n",
       "      <th></th>\n",
       "      <th></th>\n",
       "      <th></th>\n",
       "      <th></th>\n",
       "      <th></th>\n",
       "    </tr>\n",
       "  </thead>\n",
       "  <tbody>\n",
       "  </tbody>\n",
       "</table>\n",
       "</div>"
      ],
      "text/plain": [
       "Empty DataFrame\n",
       "Columns: [endpoint, user_id, cohort_id, source_ip, name, start_date, end_date, created_at, updated_at, program_id, program_name]\n",
       "Index: []"
      ]
     },
     "execution_count": 280,
     "metadata": {},
     "output_type": "execute_result"
    }
   ],
   "source": [
    "#data science students who accessed web dev curriculum after the 2019 switch\n",
    "ds_in_web['2020':]"
   ]
  },
  {
   "cell_type": "code",
   "execution_count": 283,
   "id": "90714f6e-c1a0-4ae2-adca-acd4adfffcb9",
   "metadata": {},
   "outputs": [
    {
     "data": {
      "text/html": [
       "<div>\n",
       "<style scoped>\n",
       "    .dataframe tbody tr th:only-of-type {\n",
       "        vertical-align: middle;\n",
       "    }\n",
       "\n",
       "    .dataframe tbody tr th {\n",
       "        vertical-align: top;\n",
       "    }\n",
       "\n",
       "    .dataframe thead th {\n",
       "        text-align: right;\n",
       "    }\n",
       "</style>\n",
       "<table border=\"1\" class=\"dataframe\">\n",
       "  <thead>\n",
       "    <tr style=\"text-align: right;\">\n",
       "      <th></th>\n",
       "      <th>endpoint</th>\n",
       "      <th>user_id</th>\n",
       "      <th>cohort_id</th>\n",
       "      <th>source_ip</th>\n",
       "      <th>name</th>\n",
       "      <th>start_date</th>\n",
       "      <th>end_date</th>\n",
       "      <th>created_at</th>\n",
       "      <th>updated_at</th>\n",
       "      <th>program_id</th>\n",
       "      <th>program_name</th>\n",
       "    </tr>\n",
       "    <tr>\n",
       "      <th>date</th>\n",
       "      <th></th>\n",
       "      <th></th>\n",
       "      <th></th>\n",
       "      <th></th>\n",
       "      <th></th>\n",
       "      <th></th>\n",
       "      <th></th>\n",
       "      <th></th>\n",
       "      <th></th>\n",
       "      <th></th>\n",
       "      <th></th>\n",
       "    </tr>\n",
       "  </thead>\n",
       "  <tbody>\n",
       "    <tr>\n",
       "      <th>2020-01-01</th>\n",
       "      <td>4-python/7.2-intro-to-matplotlib</td>\n",
       "      <td>18</td>\n",
       "      <td>22.0</td>\n",
       "      <td>45.20.117.182</td>\n",
       "      <td>Teddy</td>\n",
       "      <td>2018-01-08</td>\n",
       "      <td>2018-05-17</td>\n",
       "      <td>2018-01-08 13:59:10</td>\n",
       "      <td>2018-01-08 13:59:10</td>\n",
       "      <td>2</td>\n",
       "      <td>Java</td>\n",
       "    </tr>\n",
       "    <tr>\n",
       "      <th>2020-11-10</th>\n",
       "      <td>classification/overview</td>\n",
       "      <td>20</td>\n",
       "      <td>22.0</td>\n",
       "      <td>104.190.242.242</td>\n",
       "      <td>Teddy</td>\n",
       "      <td>2018-01-08</td>\n",
       "      <td>2018-05-17</td>\n",
       "      <td>2018-01-08 13:59:10</td>\n",
       "      <td>2018-01-08 13:59:10</td>\n",
       "      <td>2</td>\n",
       "      <td>Java</td>\n",
       "    </tr>\n",
       "    <tr>\n",
       "      <th>2020-11-10</th>\n",
       "      <td>classification/scale_features_or_not.svg</td>\n",
       "      <td>20</td>\n",
       "      <td>22.0</td>\n",
       "      <td>104.190.242.242</td>\n",
       "      <td>Teddy</td>\n",
       "      <td>2018-01-08</td>\n",
       "      <td>2018-05-17</td>\n",
       "      <td>2018-01-08 13:59:10</td>\n",
       "      <td>2018-01-08 13:59:10</td>\n",
       "      <td>2</td>\n",
       "      <td>Java</td>\n",
       "    </tr>\n",
       "    <tr>\n",
       "      <th>2020-11-10</th>\n",
       "      <td>sql/database-design</td>\n",
       "      <td>20</td>\n",
       "      <td>22.0</td>\n",
       "      <td>104.190.242.242</td>\n",
       "      <td>Teddy</td>\n",
       "      <td>2018-01-08</td>\n",
       "      <td>2018-05-17</td>\n",
       "      <td>2018-01-08 13:59:10</td>\n",
       "      <td>2018-01-08 13:59:10</td>\n",
       "      <td>2</td>\n",
       "      <td>Java</td>\n",
       "    </tr>\n",
       "    <tr>\n",
       "      <th>2018-02-26</th>\n",
       "      <td>appendix/postwork</td>\n",
       "      <td>15</td>\n",
       "      <td>21.0</td>\n",
       "      <td>173.239.232.81</td>\n",
       "      <td>Sequoia</td>\n",
       "      <td>2017-09-27</td>\n",
       "      <td>2018-02-15</td>\n",
       "      <td>2017-09-27 20:22:41</td>\n",
       "      <td>2017-09-27 20:22:41</td>\n",
       "      <td>2</td>\n",
       "      <td>Java</td>\n",
       "    </tr>\n",
       "    <tr>\n",
       "      <th>...</th>\n",
       "      <td>...</td>\n",
       "      <td>...</td>\n",
       "      <td>...</td>\n",
       "      <td>...</td>\n",
       "      <td>...</td>\n",
       "      <td>...</td>\n",
       "      <td>...</td>\n",
       "      <td>...</td>\n",
       "      <td>...</td>\n",
       "      <td>...</td>\n",
       "      <td>...</td>\n",
       "    </tr>\n",
       "    <tr>\n",
       "      <th>2020-11-17</th>\n",
       "      <td>nlp/acquire</td>\n",
       "      <td>495</td>\n",
       "      <td>51.0</td>\n",
       "      <td>72.191.58.18</td>\n",
       "      <td>Deimos</td>\n",
       "      <td>2019-09-16</td>\n",
       "      <td>2020-02-27</td>\n",
       "      <td>2019-09-16 13:07:04</td>\n",
       "      <td>2019-09-16 13:07:04</td>\n",
       "      <td>2</td>\n",
       "      <td>Java</td>\n",
       "    </tr>\n",
       "    <tr>\n",
       "      <th>2020-01-18</th>\n",
       "      <td>1-fundamentals/1.3-pipeline-demo</td>\n",
       "      <td>64</td>\n",
       "      <td>52.0</td>\n",
       "      <td>76.187.118.255</td>\n",
       "      <td>Europa</td>\n",
       "      <td>2019-11-04</td>\n",
       "      <td>2020-04-17</td>\n",
       "      <td>2019-11-04 18:27:07</td>\n",
       "      <td>2019-11-04 18:27:07</td>\n",
       "      <td>2</td>\n",
       "      <td>Java</td>\n",
       "    </tr>\n",
       "    <tr>\n",
       "      <th>2020-01-18</th>\n",
       "      <td>1-fundamentals/1.3-pipeline-demo</td>\n",
       "      <td>64</td>\n",
       "      <td>52.0</td>\n",
       "      <td>76.187.118.255</td>\n",
       "      <td>Europa</td>\n",
       "      <td>2019-11-04</td>\n",
       "      <td>2020-04-17</td>\n",
       "      <td>2019-11-04 18:27:07</td>\n",
       "      <td>2019-11-04 18:27:07</td>\n",
       "      <td>2</td>\n",
       "      <td>Java</td>\n",
       "    </tr>\n",
       "    <tr>\n",
       "      <th>2020-01-18</th>\n",
       "      <td>1-fundamentals/1.3-pipeline-demo</td>\n",
       "      <td>64</td>\n",
       "      <td>52.0</td>\n",
       "      <td>76.187.118.255</td>\n",
       "      <td>Europa</td>\n",
       "      <td>2019-11-04</td>\n",
       "      <td>2020-04-17</td>\n",
       "      <td>2019-11-04 18:27:07</td>\n",
       "      <td>2019-11-04 18:27:07</td>\n",
       "      <td>2</td>\n",
       "      <td>Java</td>\n",
       "    </tr>\n",
       "    <tr>\n",
       "      <th>2020-01-18</th>\n",
       "      <td>1-fundamentals/1.3-pipeline-demo</td>\n",
       "      <td>64</td>\n",
       "      <td>52.0</td>\n",
       "      <td>76.187.118.255</td>\n",
       "      <td>Europa</td>\n",
       "      <td>2019-11-04</td>\n",
       "      <td>2020-04-17</td>\n",
       "      <td>2019-11-04 18:27:07</td>\n",
       "      <td>2019-11-04 18:27:07</td>\n",
       "      <td>2</td>\n",
       "      <td>Java</td>\n",
       "    </tr>\n",
       "  </tbody>\n",
       "</table>\n",
       "<p>22777 rows × 11 columns</p>\n",
       "</div>"
      ],
      "text/plain": [
       "                                            endpoint  user_id  cohort_id  \\\n",
       "date                                                                       \n",
       "2020-01-01          4-python/7.2-intro-to-matplotlib       18       22.0   \n",
       "2020-11-10                   classification/overview       20       22.0   \n",
       "2020-11-10  classification/scale_features_or_not.svg       20       22.0   \n",
       "2020-11-10                       sql/database-design       20       22.0   \n",
       "2018-02-26                         appendix/postwork       15       21.0   \n",
       "...                                              ...      ...        ...   \n",
       "2020-11-17                               nlp/acquire      495       51.0   \n",
       "2020-01-18          1-fundamentals/1.3-pipeline-demo       64       52.0   \n",
       "2020-01-18          1-fundamentals/1.3-pipeline-demo       64       52.0   \n",
       "2020-01-18          1-fundamentals/1.3-pipeline-demo       64       52.0   \n",
       "2020-01-18          1-fundamentals/1.3-pipeline-demo       64       52.0   \n",
       "\n",
       "                  source_ip     name start_date   end_date  \\\n",
       "date                                                         \n",
       "2020-01-01    45.20.117.182    Teddy 2018-01-08 2018-05-17   \n",
       "2020-11-10  104.190.242.242    Teddy 2018-01-08 2018-05-17   \n",
       "2020-11-10  104.190.242.242    Teddy 2018-01-08 2018-05-17   \n",
       "2020-11-10  104.190.242.242    Teddy 2018-01-08 2018-05-17   \n",
       "2018-02-26   173.239.232.81  Sequoia 2017-09-27 2018-02-15   \n",
       "...                     ...      ...        ...        ...   \n",
       "2020-11-17     72.191.58.18   Deimos 2019-09-16 2020-02-27   \n",
       "2020-01-18   76.187.118.255   Europa 2019-11-04 2020-04-17   \n",
       "2020-01-18   76.187.118.255   Europa 2019-11-04 2020-04-17   \n",
       "2020-01-18   76.187.118.255   Europa 2019-11-04 2020-04-17   \n",
       "2020-01-18   76.187.118.255   Europa 2019-11-04 2020-04-17   \n",
       "\n",
       "                    created_at           updated_at  program_id program_name  \n",
       "date                                                                          \n",
       "2020-01-01 2018-01-08 13:59:10  2018-01-08 13:59:10           2         Java  \n",
       "2020-11-10 2018-01-08 13:59:10  2018-01-08 13:59:10           2         Java  \n",
       "2020-11-10 2018-01-08 13:59:10  2018-01-08 13:59:10           2         Java  \n",
       "2020-11-10 2018-01-08 13:59:10  2018-01-08 13:59:10           2         Java  \n",
       "2018-02-26 2017-09-27 20:22:41  2017-09-27 20:22:41           2         Java  \n",
       "...                        ...                  ...         ...          ...  \n",
       "2020-11-17 2019-09-16 13:07:04  2019-09-16 13:07:04           2         Java  \n",
       "2020-01-18 2019-11-04 18:27:07  2019-11-04 18:27:07           2         Java  \n",
       "2020-01-18 2019-11-04 18:27:07  2019-11-04 18:27:07           2         Java  \n",
       "2020-01-18 2019-11-04 18:27:07  2019-11-04 18:27:07           2         Java  \n",
       "2020-01-18 2019-11-04 18:27:07  2019-11-04 18:27:07           2         Java  \n",
       "\n",
       "[22777 rows x 11 columns]"
      ]
     },
     "execution_count": 283,
     "metadata": {},
     "output_type": "execute_result"
    }
   ],
   "source": [
    "web_in_ds.loc['2020':]"
   ]
  },
  {
   "cell_type": "code",
   "execution_count": null,
   "id": "3a940c07-43ab-490c-8be4-7750613573ec",
   "metadata": {},
   "outputs": [],
   "source": []
  },
  {
   "cell_type": "code",
   "execution_count": null,
   "id": "43b0245b-ed1e-456a-9fe3-6e354cf5983a",
   "metadata": {},
   "outputs": [],
   "source": []
  }
 ],
 "metadata": {
  "kernelspec": {
   "display_name": "Python 3",
   "language": "python",
   "name": "python3"
  },
  "language_info": {
   "codemirror_mode": {
    "name": "ipython",
    "version": 3
   },
   "file_extension": ".py",
   "mimetype": "text/x-python",
   "name": "python",
   "nbconvert_exporter": "python",
   "pygments_lexer": "ipython3",
   "version": "3.8.10"
  }
 },
 "nbformat": 4,
 "nbformat_minor": 5
}
