{
 "cells": [
  {
   "cell_type": "code",
   "execution_count": 1,
   "id": "d9411971-fd6b-4b09-81c4-b243ff56e2bd",
   "metadata": {},
   "outputs": [],
   "source": [
    "import numpy as np\n",
    "import pandas as pd\n",
    "\n",
    "from PythonScripts import wrangle"
   ]
  },
  {
   "cell_type": "code",
   "execution_count": 2,
   "id": "495f3598-6f3a-4e01-a6af-8628492ae435",
   "metadata": {},
   "outputs": [],
   "source": [
    "df = wrangle.get_curriculum_log()"
   ]
  },
  {
   "cell_type": "code",
   "execution_count": 5,
   "id": "7f38f727-8f6e-421e-8271-14f4b9f50d26",
   "metadata": {},
   "outputs": [
    {
     "data": {
      "text/plain": [
       "endpoint      1\n",
       "user_id       0\n",
       "cohort_id     0\n",
       "source_ip     0\n",
       "name          0\n",
       "start_date    0\n",
       "end_date      0\n",
       "created_at    0\n",
       "updated_at    0\n",
       "program_id    0\n",
       "dtype: int64"
      ]
     },
     "execution_count": 5,
     "metadata": {},
     "output_type": "execute_result"
    }
   ],
   "source": [
    "df.isna().sum()"
   ]
  },
  {
   "cell_type": "code",
   "execution_count": null,
   "id": "f3728e6a-360d-4380-bd57-f96477d91610",
   "metadata": {},
   "outputs": [],
   "source": []
  }
 ],
 "metadata": {
  "kernelspec": {
   "display_name": "Python 3",
   "language": "python",
   "name": "python3"
  },
  "language_info": {
   "codemirror_mode": {
    "name": "ipython",
    "version": 3
   },
   "file_extension": ".py",
   "mimetype": "text/x-python",
   "name": "python",
   "nbconvert_exporter": "python",
   "pygments_lexer": "ipython3",
   "version": "3.8.10"
  }
 },
 "nbformat": 4,
 "nbformat_minor": 5
}
