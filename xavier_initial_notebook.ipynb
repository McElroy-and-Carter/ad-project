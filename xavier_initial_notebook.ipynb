{
 "cells": [
  {
   "cell_type": "code",
   "execution_count": 1,
   "id": "d9411971-fd6b-4b09-81c4-b243ff56e2bd",
   "metadata": {},
   "outputs": [],
   "source": [
    "import numpy as np\n",
    "import pandas as pd\n",
    "\n",
    "from PythonScripts import wrangle"
   ]
  },
  {
   "cell_type": "code",
   "execution_count": 2,
   "id": "495f3598-6f3a-4e01-a6af-8628492ae435",
   "metadata": {},
   "outputs": [],
   "source": [
    "df = wrangle.get_curriculum_log()"
   ]
  },
  {
   "cell_type": "code",
   "execution_count": 3,
   "id": "7f38f727-8f6e-421e-8271-14f4b9f50d26",
   "metadata": {},
   "outputs": [
    {
     "data": {
      "text/plain": [
       "endpoint        0\n",
       "user_id         0\n",
       "cohort_id       0\n",
       "source_ip       0\n",
       "name            0\n",
       "start_date      0\n",
       "end_date        0\n",
       "created_at      0\n",
       "updated_at      0\n",
       "program_id      0\n",
       "program_name    0\n",
       "dtype: int64"
      ]
     },
     "execution_count": 3,
     "metadata": {},
     "output_type": "execute_result"
    }
   ],
   "source": [
    "df.isna().sum()"
   ]
  },
  {
   "cell_type": "code",
   "execution_count": 5,
   "id": "1cf82689-c3c8-4d64-85cd-037eec7ae4b2",
   "metadata": {},
   "outputs": [
    {
     "name": "stdout",
     "output_type": "stream",
     "text": [
      "<class 'pandas.core.frame.DataFrame'>\n",
      "DatetimeIndex: 954312 entries, 2018-01-26 to 2021-07-15\n",
      "Data columns (total 11 columns):\n",
      " #   Column        Non-Null Count   Dtype         \n",
      "---  ------        --------------   -----         \n",
      " 0   endpoint      954312 non-null  object        \n",
      " 1   user_id       954312 non-null  int64         \n",
      " 2   cohort_id     954312 non-null  float64       \n",
      " 3   source_ip     954312 non-null  object        \n",
      " 4   name          954312 non-null  object        \n",
      " 5   start_date    954312 non-null  datetime64[ns]\n",
      " 6   end_date      954312 non-null  datetime64[ns]\n",
      " 7   created_at    954312 non-null  datetime64[ns]\n",
      " 8   updated_at    954312 non-null  object        \n",
      " 9   program_id    954312 non-null  int64         \n",
      " 10  program_name  954312 non-null  object        \n",
      "dtypes: datetime64[ns](3), float64(1), int64(2), object(5)\n",
      "memory usage: 87.4+ MB\n"
     ]
    }
   ],
   "source": [
    "df.info()"
   ]
  },
  {
   "cell_type": "code",
   "execution_count": 41,
   "id": "f3728e6a-360d-4380-bd57-f96477d91610",
   "metadata": {},
   "outputs": [
    {
     "data": {
      "text/plain": [
       "Series([], dtype: int64)"
      ]
     },
     "execution_count": 41,
     "metadata": {},
     "output_type": "execute_result"
    }
   ],
   "source": [
    "#6 what topics are grads continuing to access after graduation? and into there jobs for each program\n",
    "df.loc[(df.program_name == 'Data Science') & (df.updated_at > df.end_date)].value_counts().head(10)"
   ]
  },
  {
   "cell_type": "code",
   "execution_count": 98,
   "id": "7f047d42-d871-45b4-821c-6ff9b3032199",
   "metadata": {},
   "outputs": [
    {
     "data": {
      "text/plain": [
       "javascript-i                                                                 759\n",
       "javascript-i/javascript-with-html                                            709\n",
       "html-css                                                                     709\n",
       "javascript-i/introduction/working-with-data-types-operators-and-variables    485\n",
       "html-css/css-ii/bootstrap-grid-system                                        387\n",
       "javascript-i/introduction/operators                                          387\n",
       "jquery                                                                       385\n",
       "javascript-i/functions                                                       379\n",
       "javascript-ii                                                                348\n",
       "toc                                                                          340\n",
       "javascript-i/loops                                                           323\n",
       "html-css/css-ii/bootstrap-introduction                                       307\n",
       "html-css/elements                                                            303\n",
       "javascript-i/conditionals                                                    303\n",
       "html-css/forms                                                               293\n",
       "html-css/css-ii/media-queries                                                283\n",
       "spring                                                                       272\n",
       "html-css/css-i/box-model                                                     251\n",
       "html-css/css-i/positioning                                                   248\n",
       "java-ii                                                                      247\n",
       "Name: endpoint, dtype: int64"
      ]
     },
     "execution_count": 98,
     "metadata": {},
     "output_type": "execute_result"
    }
   ],
   "source": [
    "df.loc[(df.program_name == 'PHP') & (df.updated_at > df.end_date)].endpoint.value_counts()[1:].head(20)"
   ]
  },
  {
   "cell_type": "code",
   "execution_count": 58,
   "id": "c8cd18ae-6724-430c-b001-8cd92c0d2a10",
   "metadata": {},
   "outputs": [
    {
     "data": {
      "text/plain": [
       "javascript-i                                2792\n",
       "spring                                      2289\n",
       "html-css                                    2247\n",
       "java-iii                                    2219\n",
       "java-ii                                     2093\n",
       "toc                                         1934\n",
       "appendix                                    1827\n",
       "javascript-ii                               1599\n",
       "java-i                                      1577\n",
       "jquery                                      1564\n",
       "mysql                                       1495\n",
       "jquery/ajax/weather-map                     1292\n",
       "classification/overview                     1160\n",
       "sql/mysql-overview                          1066\n",
       "classification/scale_features_or_not.svg    1028\n",
       "spring/fundamentals/repositories            1025\n",
       "java-iii/servlets                            965\n",
       "spring/fundamentals/views                    899\n",
       "java-iii/jsp-and-jstl                        839\n",
       "mysql/tables                                 809\n",
       "Name: endpoint, dtype: int64"
      ]
     },
     "execution_count": 58,
     "metadata": {},
     "output_type": "execute_result"
    }
   ],
   "source": [
    "df.loc[(df.program_name == 'Java') & (df.updated_at > df.end_date)].endpoint.value_counts()[2:].head(20)"
   ]
  },
  {
   "cell_type": "code",
   "execution_count": 53,
   "id": "aa57dd70-1861-4f47-8dad-adedba942599",
   "metadata": {},
   "outputs": [
    {
     "data": {
      "text/plain": [
       "content/html-css                               2\n",
       "/                                              1\n",
       "content/html-css/introduction.html             1\n",
       "content/html-css/gitbook/images/favicon.ico    1\n",
       "Name: endpoint, dtype: int64"
      ]
     },
     "execution_count": 53,
     "metadata": {},
     "output_type": "execute_result"
    }
   ],
   "source": [
    "df.loc[(df.program_name == 'Front End') & (df.updated_at > df.end_date)].endpoint.value_counts().head(10)"
   ]
  },
  {
   "cell_type": "code",
   "execution_count": 200,
   "id": "d097d80b-3a61-47c6-a2b9-8fef02f17cc5",
   "metadata": {
    "jupyter": {
     "source_hidden": true
    },
    "tags": []
   },
   "outputs": [],
   "source": [
    "#5 at some point in 2019 the ability for students to access both curriculums was deprecated, do you see evidence of that happening, did it happen before?\n",
    "\n",
    "##classes in 2020 can only access there specific stuff \n",
    "java_list = df[(df['program_name'] == 'Java') & (df.start_date.year > 2020)].endpoint.unique().tolist()\n",
    "\n",
    "ds_list = df[(df['program_name'] == 'Data Science') & (df.start_date.year == 'Easley')].endpoint.unique().tolist()\n",
    "\n",
    "#look at common pages visited for both these cohorts to filter by\n",
    "common_list = []\n",
    "for j in java_list:\n",
    "    for d in ds_list:\n",
    "        if j == d:\n",
    "            common_list.append(j)"
   ]
  },
  {
   "cell_type": "code",
   "execution_count": 202,
   "id": "18ecfdaf-fa5a-4c7d-9428-1d1c80c3a680",
   "metadata": {},
   "outputs": [],
   "source": [
    "#data science students who accessed the webdev cirrculum \n",
    "ds_in_web = df.loc[(df['program_name'] == 'Data Science') & (df['endpoint'].isin(java_list)) & (~df['endpoint'].isin(common_list)) & (~df['endpoint'].str.contains('appendix'))]"
   ]
  },
  {
   "cell_type": "code",
   "execution_count": 203,
   "id": "f4b5c711-433b-4cb3-bbdc-5ee08b69e949",
   "metadata": {},
   "outputs": [],
   "source": [
    "#web dev students who accessed the ds curriculum\n",
    "web_in_ds = df.loc[(df['program_name'] == 'Java') & (df['endpoint'].isin(ds_list)) & (~df['endpoint'].isin(common_list)) & (~df['endpoint'].str.contains('appendix'))]"
   ]
  },
  {
   "cell_type": "code",
   "execution_count": 204,
   "id": "b057ae8e-5cb7-4ac6-92a6-e2991eb80a51",
   "metadata": {},
   "outputs": [
    {
     "data": {
      "text/html": [
       "<div>\n",
       "<style scoped>\n",
       "    .dataframe tbody tr th:only-of-type {\n",
       "        vertical-align: middle;\n",
       "    }\n",
       "\n",
       "    .dataframe tbody tr th {\n",
       "        vertical-align: top;\n",
       "    }\n",
       "\n",
       "    .dataframe thead th {\n",
       "        text-align: right;\n",
       "    }\n",
       "</style>\n",
       "<table border=\"1\" class=\"dataframe\">\n",
       "  <thead>\n",
       "    <tr style=\"text-align: right;\">\n",
       "      <th></th>\n",
       "      <th>endpoint</th>\n",
       "      <th>user_id</th>\n",
       "      <th>cohort_id</th>\n",
       "      <th>source_ip</th>\n",
       "      <th>name</th>\n",
       "      <th>start_date</th>\n",
       "      <th>end_date</th>\n",
       "      <th>created_at</th>\n",
       "      <th>updated_at</th>\n",
       "      <th>program_id</th>\n",
       "      <th>program_name</th>\n",
       "    </tr>\n",
       "    <tr>\n",
       "      <th>date</th>\n",
       "      <th></th>\n",
       "      <th></th>\n",
       "      <th></th>\n",
       "      <th></th>\n",
       "      <th></th>\n",
       "      <th></th>\n",
       "      <th></th>\n",
       "      <th></th>\n",
       "      <th></th>\n",
       "      <th></th>\n",
       "      <th></th>\n",
       "    </tr>\n",
       "  </thead>\n",
       "  <tbody>\n",
       "    <tr>\n",
       "      <th>2020-05-19</th>\n",
       "      <td>java-ii/object-oriented-programming</td>\n",
       "      <td>590</td>\n",
       "      <td>55.0</td>\n",
       "      <td>130.45.47.56</td>\n",
       "      <td>Curie</td>\n",
       "      <td>2020-02-03</td>\n",
       "      <td>2020-07-07</td>\n",
       "      <td>2020-02-03 19:31:51</td>\n",
       "      <td>2020-02-03 19:31:51</td>\n",
       "      <td>3</td>\n",
       "      <td>Data Science</td>\n",
       "    </tr>\n",
       "    <tr>\n",
       "      <th>2020-11-19</th>\n",
       "      <td>spring</td>\n",
       "      <td>581</td>\n",
       "      <td>55.0</td>\n",
       "      <td>70.112.179.142</td>\n",
       "      <td>Curie</td>\n",
       "      <td>2020-02-03</td>\n",
       "      <td>2020-07-07</td>\n",
       "      <td>2020-02-03 19:31:51</td>\n",
       "      <td>2020-02-03 19:31:51</td>\n",
       "      <td>3</td>\n",
       "      <td>Data Science</td>\n",
       "    </tr>\n",
       "    <tr>\n",
       "      <th>2020-11-09</th>\n",
       "      <td>mysql</td>\n",
       "      <td>694</td>\n",
       "      <td>59.0</td>\n",
       "      <td>96.8.130.240</td>\n",
       "      <td>Darden</td>\n",
       "      <td>2020-07-13</td>\n",
       "      <td>2021-01-12</td>\n",
       "      <td>2020-07-13 18:32:19</td>\n",
       "      <td>2020-07-13 18:32:19</td>\n",
       "      <td>3</td>\n",
       "      <td>Data Science</td>\n",
       "    </tr>\n",
       "    <tr>\n",
       "      <th>2020-11-09</th>\n",
       "      <td>toc</td>\n",
       "      <td>680</td>\n",
       "      <td>59.0</td>\n",
       "      <td>136.50.56.155</td>\n",
       "      <td>Darden</td>\n",
       "      <td>2020-07-13</td>\n",
       "      <td>2021-01-12</td>\n",
       "      <td>2020-07-13 18:32:19</td>\n",
       "      <td>2020-07-13 18:32:19</td>\n",
       "      <td>3</td>\n",
       "      <td>Data Science</td>\n",
       "    </tr>\n",
       "    <tr>\n",
       "      <th>2020-11-09</th>\n",
       "      <td>toc</td>\n",
       "      <td>680</td>\n",
       "      <td>59.0</td>\n",
       "      <td>136.50.56.155</td>\n",
       "      <td>Darden</td>\n",
       "      <td>2020-07-13</td>\n",
       "      <td>2021-01-12</td>\n",
       "      <td>2020-07-13 18:32:19</td>\n",
       "      <td>2020-07-13 18:32:19</td>\n",
       "      <td>3</td>\n",
       "      <td>Data Science</td>\n",
       "    </tr>\n",
       "    <tr>\n",
       "      <th>2021-01-18</th>\n",
       "      <td>mysql</td>\n",
       "      <td>785</td>\n",
       "      <td>59.0</td>\n",
       "      <td>72.181.127.233</td>\n",
       "      <td>Darden</td>\n",
       "      <td>2020-07-13</td>\n",
       "      <td>2021-01-12</td>\n",
       "      <td>2020-07-13 18:32:19</td>\n",
       "      <td>2020-07-13 18:32:19</td>\n",
       "      <td>3</td>\n",
       "      <td>Data Science</td>\n",
       "    </tr>\n",
       "    <tr>\n",
       "      <th>2021-01-18</th>\n",
       "      <td>mysql</td>\n",
       "      <td>691</td>\n",
       "      <td>59.0</td>\n",
       "      <td>66.69.67.230</td>\n",
       "      <td>Darden</td>\n",
       "      <td>2020-07-13</td>\n",
       "      <td>2021-01-12</td>\n",
       "      <td>2020-07-13 18:32:19</td>\n",
       "      <td>2020-07-13 18:32:19</td>\n",
       "      <td>3</td>\n",
       "      <td>Data Science</td>\n",
       "    </tr>\n",
       "    <tr>\n",
       "      <th>2021-01-18</th>\n",
       "      <td>mysql</td>\n",
       "      <td>785</td>\n",
       "      <td>59.0</td>\n",
       "      <td>72.181.127.233</td>\n",
       "      <td>Darden</td>\n",
       "      <td>2020-07-13</td>\n",
       "      <td>2021-01-12</td>\n",
       "      <td>2020-07-13 18:32:19</td>\n",
       "      <td>2020-07-13 18:32:19</td>\n",
       "      <td>3</td>\n",
       "      <td>Data Science</td>\n",
       "    </tr>\n",
       "    <tr>\n",
       "      <th>2021-01-18</th>\n",
       "      <td>mysql</td>\n",
       "      <td>698</td>\n",
       "      <td>59.0</td>\n",
       "      <td>24.28.148.238</td>\n",
       "      <td>Darden</td>\n",
       "      <td>2020-07-13</td>\n",
       "      <td>2021-01-12</td>\n",
       "      <td>2020-07-13 18:32:19</td>\n",
       "      <td>2020-07-13 18:32:19</td>\n",
       "      <td>3</td>\n",
       "      <td>Data Science</td>\n",
       "    </tr>\n",
       "    <tr>\n",
       "      <th>2021-01-18</th>\n",
       "      <td>mysql</td>\n",
       "      <td>785</td>\n",
       "      <td>59.0</td>\n",
       "      <td>72.181.127.233</td>\n",
       "      <td>Darden</td>\n",
       "      <td>2020-07-13</td>\n",
       "      <td>2021-01-12</td>\n",
       "      <td>2020-07-13 18:32:19</td>\n",
       "      <td>2020-07-13 18:32:19</td>\n",
       "      <td>3</td>\n",
       "      <td>Data Science</td>\n",
       "    </tr>\n",
       "    <tr>\n",
       "      <th>2021-03-24</th>\n",
       "      <td>databases</td>\n",
       "      <td>949</td>\n",
       "      <td>137.0</td>\n",
       "      <td>136.49.16.164</td>\n",
       "      <td>Florence</td>\n",
       "      <td>2021-03-15</td>\n",
       "      <td>2021-09-03</td>\n",
       "      <td>2021-03-15 18:18:20</td>\n",
       "      <td>2021-03-15 18:18:20</td>\n",
       "      <td>3</td>\n",
       "      <td>Data Science</td>\n",
       "    </tr>\n",
       "  </tbody>\n",
       "</table>\n",
       "</div>"
      ],
      "text/plain": [
       "                                       endpoint  user_id  cohort_id  \\\n",
       "date                                                                  \n",
       "2020-05-19  java-ii/object-oriented-programming      590       55.0   \n",
       "2020-11-19                               spring      581       55.0   \n",
       "2020-11-09                                mysql      694       59.0   \n",
       "2020-11-09                                  toc      680       59.0   \n",
       "2020-11-09                                  toc      680       59.0   \n",
       "2021-01-18                                mysql      785       59.0   \n",
       "2021-01-18                                mysql      691       59.0   \n",
       "2021-01-18                                mysql      785       59.0   \n",
       "2021-01-18                                mysql      698       59.0   \n",
       "2021-01-18                                mysql      785       59.0   \n",
       "2021-03-24                            databases      949      137.0   \n",
       "\n",
       "                 source_ip      name start_date   end_date  \\\n",
       "date                                                         \n",
       "2020-05-19    130.45.47.56     Curie 2020-02-03 2020-07-07   \n",
       "2020-11-19  70.112.179.142     Curie 2020-02-03 2020-07-07   \n",
       "2020-11-09    96.8.130.240    Darden 2020-07-13 2021-01-12   \n",
       "2020-11-09   136.50.56.155    Darden 2020-07-13 2021-01-12   \n",
       "2020-11-09   136.50.56.155    Darden 2020-07-13 2021-01-12   \n",
       "2021-01-18  72.181.127.233    Darden 2020-07-13 2021-01-12   \n",
       "2021-01-18    66.69.67.230    Darden 2020-07-13 2021-01-12   \n",
       "2021-01-18  72.181.127.233    Darden 2020-07-13 2021-01-12   \n",
       "2021-01-18   24.28.148.238    Darden 2020-07-13 2021-01-12   \n",
       "2021-01-18  72.181.127.233    Darden 2020-07-13 2021-01-12   \n",
       "2021-03-24   136.49.16.164  Florence 2021-03-15 2021-09-03   \n",
       "\n",
       "                    created_at           updated_at  program_id  program_name  \n",
       "date                                                                           \n",
       "2020-05-19 2020-02-03 19:31:51  2020-02-03 19:31:51           3  Data Science  \n",
       "2020-11-19 2020-02-03 19:31:51  2020-02-03 19:31:51           3  Data Science  \n",
       "2020-11-09 2020-07-13 18:32:19  2020-07-13 18:32:19           3  Data Science  \n",
       "2020-11-09 2020-07-13 18:32:19  2020-07-13 18:32:19           3  Data Science  \n",
       "2020-11-09 2020-07-13 18:32:19  2020-07-13 18:32:19           3  Data Science  \n",
       "2021-01-18 2020-07-13 18:32:19  2020-07-13 18:32:19           3  Data Science  \n",
       "2021-01-18 2020-07-13 18:32:19  2020-07-13 18:32:19           3  Data Science  \n",
       "2021-01-18 2020-07-13 18:32:19  2020-07-13 18:32:19           3  Data Science  \n",
       "2021-01-18 2020-07-13 18:32:19  2020-07-13 18:32:19           3  Data Science  \n",
       "2021-01-18 2020-07-13 18:32:19  2020-07-13 18:32:19           3  Data Science  \n",
       "2021-03-24 2021-03-15 18:18:20  2021-03-15 18:18:20           3  Data Science  "
      ]
     },
     "execution_count": 204,
     "metadata": {},
     "output_type": "execute_result"
    }
   ],
   "source": [
    "#data science students who accessed web dev curriculum prior to 2019\n",
    "ds_in_web['2020':]"
   ]
  },
  {
   "cell_type": "code",
   "execution_count": 206,
   "id": "90714f6e-c1a0-4ae2-adca-acd4adfffcb9",
   "metadata": {},
   "outputs": [
    {
     "ename": "AssertionError",
     "evalue": "<class 'numpy.ndarray'>",
     "output_type": "error",
     "traceback": [
      "\u001b[0;31m---------------------------------------------------------------------------\u001b[0m",
      "\u001b[0;31mAssertionError\u001b[0m                            Traceback (most recent call last)",
      "\u001b[0;32m<ipython-input-206-d430df3e0049>\u001b[0m in \u001b[0;36m<module>\u001b[0;34m\u001b[0m\n\u001b[0;32m----> 1\u001b[0;31m \u001b[0mweb_in_ds\u001b[0m\u001b[0;34m[\u001b[0m\u001b[0;34m'2020'\u001b[0m\u001b[0;34m:\u001b[0m\u001b[0;34m]\u001b[0m\u001b[0;34m\u001b[0m\u001b[0;34m\u001b[0m\u001b[0m\n\u001b[0m",
      "\u001b[0;32m/opt/homebrew/anaconda3/lib/python3.8/site-packages/pandas/core/frame.py\u001b[0m in \u001b[0;36m__getitem__\u001b[0;34m(self, key)\u001b[0m\n\u001b[1;32m   3005\u001b[0m             \u001b[0;31m# either we have a slice or we have a string that can be converted\u001b[0m\u001b[0;34m\u001b[0m\u001b[0;34m\u001b[0m\u001b[0;34m\u001b[0m\u001b[0m\n\u001b[1;32m   3006\u001b[0m             \u001b[0;31m#  to a slice for partial-string date indexing\u001b[0m\u001b[0;34m\u001b[0m\u001b[0;34m\u001b[0m\u001b[0;34m\u001b[0m\u001b[0m\n\u001b[0;32m-> 3007\u001b[0;31m             \u001b[0;32mreturn\u001b[0m \u001b[0mself\u001b[0m\u001b[0;34m.\u001b[0m\u001b[0m_slice\u001b[0m\u001b[0;34m(\u001b[0m\u001b[0mindexer\u001b[0m\u001b[0;34m,\u001b[0m \u001b[0maxis\u001b[0m\u001b[0;34m=\u001b[0m\u001b[0;36m0\u001b[0m\u001b[0;34m)\u001b[0m\u001b[0;34m\u001b[0m\u001b[0;34m\u001b[0m\u001b[0m\n\u001b[0m\u001b[1;32m   3008\u001b[0m \u001b[0;34m\u001b[0m\u001b[0m\n\u001b[1;32m   3009\u001b[0m         \u001b[0;31m# Do we have a (boolean) DataFrame?\u001b[0m\u001b[0;34m\u001b[0m\u001b[0;34m\u001b[0m\u001b[0;34m\u001b[0m\u001b[0m\n",
      "\u001b[0;32m/opt/homebrew/anaconda3/lib/python3.8/site-packages/pandas/core/generic.py\u001b[0m in \u001b[0;36m_slice\u001b[0;34m(self, slobj, axis)\u001b[0m\n\u001b[1;32m   3807\u001b[0m         \u001b[0mSlicing\u001b[0m \u001b[0;32mwith\u001b[0m \u001b[0mthis\u001b[0m \u001b[0mmethod\u001b[0m \u001b[0;32mis\u001b[0m \u001b[0;34m*\u001b[0m\u001b[0malways\u001b[0m\u001b[0;34m*\u001b[0m \u001b[0mpositional\u001b[0m\u001b[0;34m.\u001b[0m\u001b[0;34m\u001b[0m\u001b[0;34m\u001b[0m\u001b[0m\n\u001b[1;32m   3808\u001b[0m         \"\"\"\n\u001b[0;32m-> 3809\u001b[0;31m         \u001b[0;32massert\u001b[0m \u001b[0misinstance\u001b[0m\u001b[0;34m(\u001b[0m\u001b[0mslobj\u001b[0m\u001b[0;34m,\u001b[0m \u001b[0mslice\u001b[0m\u001b[0;34m)\u001b[0m\u001b[0;34m,\u001b[0m \u001b[0mtype\u001b[0m\u001b[0;34m(\u001b[0m\u001b[0mslobj\u001b[0m\u001b[0;34m)\u001b[0m\u001b[0;34m\u001b[0m\u001b[0;34m\u001b[0m\u001b[0m\n\u001b[0m\u001b[1;32m   3810\u001b[0m         \u001b[0maxis\u001b[0m \u001b[0;34m=\u001b[0m \u001b[0mself\u001b[0m\u001b[0;34m.\u001b[0m\u001b[0m_get_block_manager_axis\u001b[0m\u001b[0;34m(\u001b[0m\u001b[0maxis\u001b[0m\u001b[0;34m)\u001b[0m\u001b[0;34m\u001b[0m\u001b[0;34m\u001b[0m\u001b[0m\n\u001b[1;32m   3811\u001b[0m         \u001b[0mresult\u001b[0m \u001b[0;34m=\u001b[0m \u001b[0mself\u001b[0m\u001b[0;34m.\u001b[0m\u001b[0m_constructor\u001b[0m\u001b[0;34m(\u001b[0m\u001b[0mself\u001b[0m\u001b[0;34m.\u001b[0m\u001b[0m_mgr\u001b[0m\u001b[0;34m.\u001b[0m\u001b[0mget_slice\u001b[0m\u001b[0;34m(\u001b[0m\u001b[0mslobj\u001b[0m\u001b[0;34m,\u001b[0m \u001b[0maxis\u001b[0m\u001b[0;34m=\u001b[0m\u001b[0maxis\u001b[0m\u001b[0;34m)\u001b[0m\u001b[0;34m)\u001b[0m\u001b[0;34m\u001b[0m\u001b[0;34m\u001b[0m\u001b[0m\n",
      "\u001b[0;31mAssertionError\u001b[0m: <class 'numpy.ndarray'>"
     ]
    }
   ],
   "source": [
    "web_in_ds['2020':]"
   ]
  },
  {
   "cell_type": "code",
   "execution_count": null,
   "id": "3a940c07-43ab-490c-8be4-7750613573ec",
   "metadata": {},
   "outputs": [],
   "source": []
  }
 ],
 "metadata": {
  "kernelspec": {
   "display_name": "Python 3",
   "language": "python",
   "name": "python3"
  },
  "language_info": {
   "codemirror_mode": {
    "name": "ipython",
    "version": 3
   },
   "file_extension": ".py",
   "mimetype": "text/x-python",
   "name": "python",
   "nbconvert_exporter": "python",
   "pygments_lexer": "ipython3",
   "version": "3.8.10"
  }
 },
 "nbformat": 4,
 "nbformat_minor": 5
}
