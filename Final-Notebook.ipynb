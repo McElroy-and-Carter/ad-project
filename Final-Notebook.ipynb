{
 "cells": [
  {
   "cell_type": "code",
   "execution_count": 1,
   "id": "f8c8aa13-9b38-499e-a6a8-6da334c2b41b",
   "metadata": {},
   "outputs": [],
   "source": [
    "import pandas as pd\n",
    "import numpy as np\n",
    "import matplotlib.pyplot as plt\n",
    "import seaborn as sns\n",
    "from PythonScripts import wrangle\n",
    "from scipy import stats\n",
    "import datetime"
   ]
  },
  {
   "cell_type": "markdown",
   "id": "60d13d88-139b-4a1e-8f5e-4ff306ea5d26",
   "metadata": {},
   "source": [
    "# Questions for Thursdays Meeting \n",
    "### Desiree McElroy , Xavier Carter (Jul, 2021)\n",
    "- Questions asked of us to find for the meeting on Thursday are as followed.\n",
    "    * Which lesson appears to attract the most traffic consistently across cohorts (per program)?\n",
    "    * Which lessons are least accessed?\n",
    "    * Are there students who, when active, hardly access the curriculum? If so, what information do you have about these students?\n",
    "    * What topics are grads continuing to access after graduation?\n",
    "    * at some point in 2019 the ability for students to access both curriculums was deprecated, do you see evidence of that happening, did it happen before?\n",
    "    * Is there a cohort that referred to a lesson significantly more that other cohorts seemed to gloss over?"
   ]
  },
  {
   "cell_type": "markdown",
   "id": "1a43dc21-51de-446a-974f-9aaaad67d539",
   "metadata": {},
   "source": [
    "## Wrangle Data"
   ]
  },
  {
   "cell_type": "code",
   "execution_count": 2,
   "id": "74f4a819-5372-485c-9d73-221d8c1689e5",
   "metadata": {},
   "outputs": [
    {
     "data": {
      "text/html": [
       "<div>\n",
       "<style scoped>\n",
       "    .dataframe tbody tr th:only-of-type {\n",
       "        vertical-align: middle;\n",
       "    }\n",
       "\n",
       "    .dataframe tbody tr th {\n",
       "        vertical-align: top;\n",
       "    }\n",
       "\n",
       "    .dataframe thead th {\n",
       "        text-align: right;\n",
       "    }\n",
       "</style>\n",
       "<table border=\"1\" class=\"dataframe\">\n",
       "  <thead>\n",
       "    <tr style=\"text-align: right;\">\n",
       "      <th></th>\n",
       "      <th>endpoint</th>\n",
       "      <th>user_id</th>\n",
       "      <th>cohort_id</th>\n",
       "      <th>source_ip</th>\n",
       "      <th>name</th>\n",
       "      <th>start_date</th>\n",
       "      <th>end_date</th>\n",
       "      <th>created_at</th>\n",
       "      <th>updated_at</th>\n",
       "      <th>program_id</th>\n",
       "      <th>program_name</th>\n",
       "    </tr>\n",
       "    <tr>\n",
       "      <th>date</th>\n",
       "      <th></th>\n",
       "      <th></th>\n",
       "      <th></th>\n",
       "      <th></th>\n",
       "      <th></th>\n",
       "      <th></th>\n",
       "      <th></th>\n",
       "      <th></th>\n",
       "      <th></th>\n",
       "      <th></th>\n",
       "      <th></th>\n",
       "    </tr>\n",
       "  </thead>\n",
       "  <tbody>\n",
       "    <tr>\n",
       "      <th>2018-01-26</th>\n",
       "      <td>/</td>\n",
       "      <td>1</td>\n",
       "      <td>8.0</td>\n",
       "      <td>97.105.19.61</td>\n",
       "      <td>Hampton</td>\n",
       "      <td>2015-09-22</td>\n",
       "      <td>2016-02-06</td>\n",
       "      <td>2016-06-14 19:52:26</td>\n",
       "      <td>2016-06-14 19:52:26</td>\n",
       "      <td>1</td>\n",
       "      <td>PHP</td>\n",
       "    </tr>\n",
       "    <tr>\n",
       "      <th>2018-01-26</th>\n",
       "      <td>java-ii</td>\n",
       "      <td>1</td>\n",
       "      <td>8.0</td>\n",
       "      <td>97.105.19.61</td>\n",
       "      <td>Hampton</td>\n",
       "      <td>2015-09-22</td>\n",
       "      <td>2016-02-06</td>\n",
       "      <td>2016-06-14 19:52:26</td>\n",
       "      <td>2016-06-14 19:52:26</td>\n",
       "      <td>1</td>\n",
       "      <td>PHP</td>\n",
       "    </tr>\n",
       "    <tr>\n",
       "      <th>2018-01-26</th>\n",
       "      <td>java-ii/object-oriented-programming</td>\n",
       "      <td>1</td>\n",
       "      <td>8.0</td>\n",
       "      <td>97.105.19.61</td>\n",
       "      <td>Hampton</td>\n",
       "      <td>2015-09-22</td>\n",
       "      <td>2016-02-06</td>\n",
       "      <td>2016-06-14 19:52:26</td>\n",
       "      <td>2016-06-14 19:52:26</td>\n",
       "      <td>1</td>\n",
       "      <td>PHP</td>\n",
       "    </tr>\n",
       "    <tr>\n",
       "      <th>2018-01-26</th>\n",
       "      <td>slides/object_oriented_programming</td>\n",
       "      <td>1</td>\n",
       "      <td>8.0</td>\n",
       "      <td>97.105.19.61</td>\n",
       "      <td>Hampton</td>\n",
       "      <td>2015-09-22</td>\n",
       "      <td>2016-02-06</td>\n",
       "      <td>2016-06-14 19:52:26</td>\n",
       "      <td>2016-06-14 19:52:26</td>\n",
       "      <td>1</td>\n",
       "      <td>PHP</td>\n",
       "    </tr>\n",
       "    <tr>\n",
       "      <th>2018-01-26</th>\n",
       "      <td>javascript-i/functions</td>\n",
       "      <td>1</td>\n",
       "      <td>8.0</td>\n",
       "      <td>97.105.19.61</td>\n",
       "      <td>Hampton</td>\n",
       "      <td>2015-09-22</td>\n",
       "      <td>2016-02-06</td>\n",
       "      <td>2016-06-14 19:52:26</td>\n",
       "      <td>2016-06-14 19:52:26</td>\n",
       "      <td>1</td>\n",
       "      <td>PHP</td>\n",
       "    </tr>\n",
       "  </tbody>\n",
       "</table>\n",
       "</div>"
      ],
      "text/plain": [
       "                                       endpoint  user_id  cohort_id  \\\n",
       "date                                                                  \n",
       "2018-01-26                                    /        1        8.0   \n",
       "2018-01-26                              java-ii        1        8.0   \n",
       "2018-01-26  java-ii/object-oriented-programming        1        8.0   \n",
       "2018-01-26   slides/object_oriented_programming        1        8.0   \n",
       "2018-01-26               javascript-i/functions        1        8.0   \n",
       "\n",
       "               source_ip     name start_date   end_date          created_at  \\\n",
       "date                                                                          \n",
       "2018-01-26  97.105.19.61  Hampton 2015-09-22 2016-02-06 2016-06-14 19:52:26   \n",
       "2018-01-26  97.105.19.61  Hampton 2015-09-22 2016-02-06 2016-06-14 19:52:26   \n",
       "2018-01-26  97.105.19.61  Hampton 2015-09-22 2016-02-06 2016-06-14 19:52:26   \n",
       "2018-01-26  97.105.19.61  Hampton 2015-09-22 2016-02-06 2016-06-14 19:52:26   \n",
       "2018-01-26  97.105.19.61  Hampton 2015-09-22 2016-02-06 2016-06-14 19:52:26   \n",
       "\n",
       "                    updated_at  program_id program_name  \n",
       "date                                                     \n",
       "2018-01-26 2016-06-14 19:52:26           1          PHP  \n",
       "2018-01-26 2016-06-14 19:52:26           1          PHP  \n",
       "2018-01-26 2016-06-14 19:52:26           1          PHP  \n",
       "2018-01-26 2016-06-14 19:52:26           1          PHP  \n",
       "2018-01-26 2016-06-14 19:52:26           1          PHP  "
      ]
     },
     "execution_count": 2,
     "metadata": {},
     "output_type": "execute_result"
    }
   ],
   "source": [
    "df = wrangle.get_curriculum_log()\n",
    "df.head()"
   ]
  },
  {
   "cell_type": "code",
   "execution_count": 3,
   "id": "b860513a-e16d-46db-9f77-99d0be371dcf",
   "metadata": {},
   "outputs": [
    {
     "data": {
      "text/plain": [
       "(954312, 11)"
      ]
     },
     "execution_count": 3,
     "metadata": {},
     "output_type": "execute_result"
    }
   ],
   "source": [
    "df.shape"
   ]
  },
  {
   "cell_type": "code",
   "execution_count": 4,
   "id": "b4b7612c-3ad0-464d-a3dc-0ca707178c11",
   "metadata": {},
   "outputs": [
    {
     "data": {
      "text/plain": [
       "endpoint        0\n",
       "user_id         0\n",
       "cohort_id       0\n",
       "source_ip       0\n",
       "name            0\n",
       "start_date      0\n",
       "end_date        0\n",
       "created_at      0\n",
       "updated_at      0\n",
       "program_id      0\n",
       "program_name    0\n",
       "dtype: int64"
      ]
     },
     "execution_count": 4,
     "metadata": {},
     "output_type": "execute_result"
    }
   ],
   "source": [
    "df.isnull().sum()"
   ]
  },
  {
   "cell_type": "markdown",
   "id": "61c59ff9-4af0-4bd2-878c-b5d302ae5e2b",
   "metadata": {},
   "source": [
    "## Which lesson appears to attract the most traffic consistently across cohorts (per program)?"
   ]
  },
  {
   "cell_type": "code",
   "execution_count": 5,
   "id": "c95c478e-1641-4105-aa02-276045bf26fb",
   "metadata": {},
   "outputs": [
    {
     "data": {
      "text/plain": [
       "Java            791196\n",
       "Data Science    122001\n",
       "PHP              41110\n",
       "Front End            5\n",
       "Name: program_name, dtype: int64"
      ]
     },
     "execution_count": 5,
     "metadata": {},
     "output_type": "execute_result"
    }
   ],
   "source": [
    "# take a look at the value counts for program name\n",
    "df.program_name.value_counts()"
   ]
  },
  {
   "cell_type": "code",
   "execution_count": 6,
   "id": "1c41e97d-eb7b-4a95-86be-dd37ee7f6a45",
   "metadata": {},
   "outputs": [
    {
     "data": {
      "text/plain": [
       "2    791196\n",
       "3    122001\n",
       "1     41110\n",
       "4         5\n",
       "Name: program_id, dtype: int64"
      ]
     },
     "execution_count": 6,
     "metadata": {},
     "output_type": "execute_result"
    }
   ],
   "source": [
    "df.program_id.value_counts()"
   ]
  },
  {
   "cell_type": "code",
   "execution_count": 7,
   "id": "ed55c1a3-588c-4899-8ab5-abfa5b672fe5",
   "metadata": {},
   "outputs": [
    {
     "data": {
      "text/plain": [
       "/               1869\n",
       "javascript-i    1144\n",
       "index.html      1011\n",
       "Name: endpoint, dtype: int64"
      ]
     },
     "execution_count": 7,
     "metadata": {},
     "output_type": "execute_result"
    }
   ],
   "source": [
    "#take a look at endpoint values per PHP\n",
    "df[df.program_name=='PHP'].endpoint.value_counts().head(3)"
   ]
  },
  {
   "cell_type": "code",
   "execution_count": 8,
   "id": "cc7fc6cd-9a8b-48a8-8b6e-5f20faac8cb0",
   "metadata": {},
   "outputs": [
    {
     "data": {
      "text/plain": [
       "/               38763\n",
       "javascript-i    19280\n",
       "toc             19221\n",
       "Name: endpoint, dtype: int64"
      ]
     },
     "execution_count": 8,
     "metadata": {},
     "output_type": "execute_result"
    }
   ],
   "source": [
    "# take a look at endpoint values per Java\n",
    "df[df.program_name=='Java'].endpoint.value_counts().head(3)"
   ]
  },
  {
   "cell_type": "code",
   "execution_count": 9,
   "id": "18cacf6e-01b7-4407-863c-f1e42589e210",
   "metadata": {},
   "outputs": [
    {
     "data": {
      "text/plain": [
       "/                           9866\n",
       "search/search_index.json    2950\n",
       "classification/overview     2455\n",
       "Name: endpoint, dtype: int64"
      ]
     },
     "execution_count": 9,
     "metadata": {},
     "output_type": "execute_result"
    }
   ],
   "source": [
    "# take a look at endpoint values per Data Science\n",
    "df[df.program_name=='Data Science'].endpoint.value_counts().head(3)"
   ]
  },
  {
   "cell_type": "code",
   "execution_count": 10,
   "id": "4a78c948-7c18-4c1d-b96d-dc47c5e38395",
   "metadata": {},
   "outputs": [
    {
     "data": {
      "text/plain": [
       "content/html-css                               2\n",
       "content/html-css/introduction.html             1\n",
       "content/html-css/gitbook/images/favicon.ico    1\n",
       "Name: endpoint, dtype: int64"
      ]
     },
     "execution_count": 10,
     "metadata": {},
     "output_type": "execute_result"
    }
   ],
   "source": [
    "# take a look at endpoint values per Front End\n",
    "df[df.program_name=='Front End'].endpoint.value_counts().head(3)"
   ]
  },
  {
   "cell_type": "markdown",
   "id": "9138eb4a-b98d-4b61-af7b-96ab7c89c66d",
   "metadata": {},
   "source": [
    "### The programs are most attracted to lessons as follows:\n",
    "- PHP (1) most visited: Java\n",
    "- Java (2) most visited: Javascipt\n",
    "- Data Science (3) most visited: Classification Overview\n",
    "- Front End (4) most visited: HTML CSS"
   ]
  },
  {
   "cell_type": "markdown",
   "id": "331bb833-ca9e-4221-b03a-5bfb68af471f",
   "metadata": {},
   "source": [
    "## Which lessons are least accessed?"
   ]
  },
  {
   "cell_type": "code",
   "execution_count": 11,
   "id": "f66e3bcd-9ba1-4a39-98c0-65c227407369",
   "metadata": {},
   "outputs": [
    {
     "data": {
      "text/plain": [
       "/                              50499\n",
       "javascript-i                   20434\n",
       "search/search_index.json       20220\n",
       "toc                            19632\n",
       "html-css                       14772\n",
       "                               ...  \n",
       "extra-challenges/mars-rover        1\n",
       "00_                                1\n",
       "extra-features                     1\n",
       "modeling-lesson1                   1\n",
       "javascript-i/math                  1\n",
       "Name: endpoint, Length: 2315, dtype: int64"
      ]
     },
     "execution_count": 11,
     "metadata": {},
     "output_type": "execute_result"
    }
   ],
   "source": [
    "#take a look at the value counts of each endpoint site\n",
    "df.endpoint.value_counts()"
   ]
  },
  {
   "cell_type": "code",
   "execution_count": 12,
   "id": "4ba49794-4a28-4e06-9f16-67fb1cfcacfa",
   "metadata": {},
   "outputs": [
    {
     "data": {
      "text/plain": [
       "['javascript-i/math',\n",
       " '9.4_Detecting_TimeSeries_Anomalies',\n",
       " '4-stats/2.4-power-analysis',\n",
       " 'further-reading/spring/pagination',\n",
       " 'appendix/testing-code.md']"
      ]
     },
     "execution_count": 12,
     "metadata": {},
     "output_type": "execute_result"
    }
   ],
   "source": [
    "# look at the bottom of the list of visited endpoints\n",
    "\n",
    "# looking at the bottom five sites for more than 2 visits\n",
    "(df.endpoint.value_counts(ascending=True)>2).index.tolist()[:5]"
   ]
  },
  {
   "cell_type": "code",
   "execution_count": 13,
   "id": "404d0b72-fb6d-45eb-ade4-dbc1fa9924a7",
   "metadata": {},
   "outputs": [
    {
     "data": {
      "text/html": [
       "<div>\n",
       "<style scoped>\n",
       "    .dataframe tbody tr th:only-of-type {\n",
       "        vertical-align: middle;\n",
       "    }\n",
       "\n",
       "    .dataframe tbody tr th {\n",
       "        vertical-align: top;\n",
       "    }\n",
       "\n",
       "    .dataframe thead th {\n",
       "        text-align: right;\n",
       "    }\n",
       "</style>\n",
       "<table border=\"1\" class=\"dataframe\">\n",
       "  <thead>\n",
       "    <tr style=\"text-align: right;\">\n",
       "      <th></th>\n",
       "      <th>endpoint</th>\n",
       "    </tr>\n",
       "  </thead>\n",
       "  <tbody>\n",
       "    <tr>\n",
       "      <th>/</th>\n",
       "      <td>50499</td>\n",
       "    </tr>\n",
       "    <tr>\n",
       "      <th>javascript-i</th>\n",
       "      <td>20434</td>\n",
       "    </tr>\n",
       "    <tr>\n",
       "      <th>search/search_index.json</th>\n",
       "      <td>20220</td>\n",
       "    </tr>\n",
       "    <tr>\n",
       "      <th>toc</th>\n",
       "      <td>19632</td>\n",
       "    </tr>\n",
       "    <tr>\n",
       "      <th>html-css</th>\n",
       "      <td>14772</td>\n",
       "    </tr>\n",
       "    <tr>\n",
       "      <th>...</th>\n",
       "      <td>...</td>\n",
       "    </tr>\n",
       "    <tr>\n",
       "      <th>extra-challenges/mars-rover</th>\n",
       "      <td>1</td>\n",
       "    </tr>\n",
       "    <tr>\n",
       "      <th>00_</th>\n",
       "      <td>1</td>\n",
       "    </tr>\n",
       "    <tr>\n",
       "      <th>extra-features</th>\n",
       "      <td>1</td>\n",
       "    </tr>\n",
       "    <tr>\n",
       "      <th>modeling-lesson1</th>\n",
       "      <td>1</td>\n",
       "    </tr>\n",
       "    <tr>\n",
       "      <th>javascript-i/math</th>\n",
       "      <td>1</td>\n",
       "    </tr>\n",
       "  </tbody>\n",
       "</table>\n",
       "<p>2315 rows × 1 columns</p>\n",
       "</div>"
      ],
      "text/plain": [
       "                             endpoint\n",
       "/                               50499\n",
       "javascript-i                    20434\n",
       "search/search_index.json        20220\n",
       "toc                             19632\n",
       "html-css                        14772\n",
       "...                               ...\n",
       "extra-challenges/mars-rover         1\n",
       "00_                                 1\n",
       "extra-features                      1\n",
       "modeling-lesson1                    1\n",
       "javascript-i/math                   1\n",
       "\n",
       "[2315 rows x 1 columns]"
      ]
     },
     "execution_count": 13,
     "metadata": {},
     "output_type": "execute_result"
    }
   ],
   "source": [
    "# make it into a dataframe for coding purposes\n",
    "endpoints = pd.DataFrame(df.endpoint.value_counts())\n",
    "endpoints"
   ]
  },
  {
   "cell_type": "code",
   "execution_count": 14,
   "id": "1826ef28-9f31-4aef-aca0-5153923eb830",
   "metadata": {},
   "outputs": [
    {
     "name": "stdout",
     "output_type": "stream",
     "text": [
      "------------------------------------------------------\n",
      "For endpoint the lower bound is -127.0 and  upper bound is 217.0\n",
      "\n",
      "                                                    endpoint\n",
      "/                                                      50499\n",
      "javascript-i                                           20434\n",
      "search/search_index.json                               20220\n",
      "toc                                                    19632\n",
      "html-css                                               14772\n",
      "...                                                      ...\n",
      "sql/clauses-overview                                     219\n",
      "10-anomaly-detection/3-discrete-probabilistic-m...       219\n",
      "3.0-mysql-overview                                       219\n",
      "2-storytelling/2.2-create                                219\n",
      "individual-project/individual-project                    218\n",
      "\n",
      "[439 rows x 1 columns] \n",
      "\n",
      "\n"
     ]
    }
   ],
   "source": [
    "# use function to see what the bounds are for sites visited\n",
    "wrangle.get_lower_and_upper_bounds(endpoints, k=1.5)"
   ]
  },
  {
   "cell_type": "markdown",
   "id": "e71b9ee2-1851-4b67-844a-159ab5423fff",
   "metadata": {},
   "source": [
    "- This function tells us 217 or more visits are legitimate visits.\n",
    "- Anything below 217 is likely noise, accidental clicks etc..\n",
    "- We can isolate the bottom part of the list for more than 217 visits."
   ]
  },
  {
   "cell_type": "code",
   "execution_count": 15,
   "id": "237d9a1a-2886-4e1c-9fb4-2be5ae3959da",
   "metadata": {},
   "outputs": [
    {
     "data": {
      "text/plain": [
       "['8-clustering/5.1-kmeans-part-1',\n",
       " 'sql/clauses-overview',\n",
       " '10-anomaly-detection/3-discrete-probabilistic-methods',\n",
       " '3.0-mysql-overview',\n",
       " '2-storytelling/2.2-create',\n",
       " 'individual-project/individual-project']"
      ]
     },
     "execution_count": 15,
     "metadata": {},
     "output_type": "execute_result"
    }
   ],
   "source": [
    "# pull the bottom visited sites filtering by more than 217 visits\n",
    "df.endpoint.value_counts().reset_index(name='count').query('count > 217')['index'].tolist()[-6:]"
   ]
  },
  {
   "cell_type": "markdown",
   "id": "814619a9-2ddf-4e6d-9b4a-4cd1d8d49b31",
   "metadata": {},
   "source": [
    "### Takeaways:\n",
    "- Most of the lower visited sites are all data science sites.\n",
    "- This makes sense because there are less data science students and it is a newer program."
   ]
  },
  {
   "cell_type": "markdown",
   "id": "7bd620f9-5334-4f02-a260-48535ed3c95d",
   "metadata": {},
   "source": [
    "## Are there students who, when active, hardly access the curriculum? If so, what information do you have about these students?"
   ]
  },
  {
   "cell_type": "code",
   "execution_count": 16,
   "id": "ddb3766c-0de5-4d78-b0fb-fd3eb11c6d4e",
   "metadata": {},
   "outputs": [
    {
     "data": {
      "text/html": [
       "<div>\n",
       "<style scoped>\n",
       "    .dataframe tbody tr th:only-of-type {\n",
       "        vertical-align: middle;\n",
       "    }\n",
       "\n",
       "    .dataframe tbody tr th {\n",
       "        vertical-align: top;\n",
       "    }\n",
       "\n",
       "    .dataframe thead th {\n",
       "        text-align: right;\n",
       "    }\n",
       "</style>\n",
       "<table border=\"1\" class=\"dataframe\">\n",
       "  <thead>\n",
       "    <tr style=\"text-align: right;\">\n",
       "      <th></th>\n",
       "      <th>endpoint</th>\n",
       "      <th>user_id</th>\n",
       "      <th>cohort_id</th>\n",
       "      <th>source_ip</th>\n",
       "      <th>name</th>\n",
       "      <th>start_date</th>\n",
       "      <th>end_date</th>\n",
       "      <th>created_at</th>\n",
       "      <th>updated_at</th>\n",
       "      <th>program_id</th>\n",
       "      <th>program_name</th>\n",
       "    </tr>\n",
       "    <tr>\n",
       "      <th>date</th>\n",
       "      <th></th>\n",
       "      <th></th>\n",
       "      <th></th>\n",
       "      <th></th>\n",
       "      <th></th>\n",
       "      <th></th>\n",
       "      <th></th>\n",
       "      <th></th>\n",
       "      <th></th>\n",
       "      <th></th>\n",
       "      <th></th>\n",
       "    </tr>\n",
       "  </thead>\n",
       "  <tbody>\n",
       "    <tr>\n",
       "      <th>2018-03-05</th>\n",
       "      <td>html-css/css-i</td>\n",
       "      <td>25</td>\n",
       "      <td>23.0</td>\n",
       "      <td>97.105.19.61</td>\n",
       "      <td>Ulysses</td>\n",
       "      <td>2018-03-05</td>\n",
       "      <td>2018-07-19</td>\n",
       "      <td>2018-03-05 14:22:11</td>\n",
       "      <td>2018-03-05 14:22:11</td>\n",
       "      <td>2</td>\n",
       "      <td>Java</td>\n",
       "    </tr>\n",
       "    <tr>\n",
       "      <th>2018-03-05</th>\n",
       "      <td>html-css/forms</td>\n",
       "      <td>25</td>\n",
       "      <td>23.0</td>\n",
       "      <td>97.105.19.61</td>\n",
       "      <td>Ulysses</td>\n",
       "      <td>2018-03-05</td>\n",
       "      <td>2018-07-19</td>\n",
       "      <td>2018-03-05 14:22:11</td>\n",
       "      <td>2018-03-05 14:22:11</td>\n",
       "      <td>2</td>\n",
       "      <td>Java</td>\n",
       "    </tr>\n",
       "    <tr>\n",
       "      <th>2018-03-05</th>\n",
       "      <td>html-css/css-i</td>\n",
       "      <td>25</td>\n",
       "      <td>23.0</td>\n",
       "      <td>97.105.19.61</td>\n",
       "      <td>Ulysses</td>\n",
       "      <td>2018-03-05</td>\n",
       "      <td>2018-07-19</td>\n",
       "      <td>2018-03-05 14:22:11</td>\n",
       "      <td>2018-03-05 14:22:11</td>\n",
       "      <td>2</td>\n",
       "      <td>Java</td>\n",
       "    </tr>\n",
       "    <tr>\n",
       "      <th>2018-03-05</th>\n",
       "      <td>html-css/css-i/introduction</td>\n",
       "      <td>25</td>\n",
       "      <td>23.0</td>\n",
       "      <td>97.105.19.61</td>\n",
       "      <td>Ulysses</td>\n",
       "      <td>2018-03-05</td>\n",
       "      <td>2018-07-19</td>\n",
       "      <td>2018-03-05 14:22:11</td>\n",
       "      <td>2018-03-05 14:22:11</td>\n",
       "      <td>2</td>\n",
       "      <td>Java</td>\n",
       "    </tr>\n",
       "    <tr>\n",
       "      <th>2018-03-05</th>\n",
       "      <td>html-css</td>\n",
       "      <td>25</td>\n",
       "      <td>23.0</td>\n",
       "      <td>97.105.19.61</td>\n",
       "      <td>Ulysses</td>\n",
       "      <td>2018-03-05</td>\n",
       "      <td>2018-07-19</td>\n",
       "      <td>2018-03-05 14:22:11</td>\n",
       "      <td>2018-03-05 14:22:11</td>\n",
       "      <td>2</td>\n",
       "      <td>Java</td>\n",
       "    </tr>\n",
       "  </tbody>\n",
       "</table>\n",
       "</div>"
      ],
      "text/plain": [
       "                               endpoint  user_id  cohort_id     source_ip  \\\n",
       "date                                                                        \n",
       "2018-03-05               html-css/css-i       25       23.0  97.105.19.61   \n",
       "2018-03-05               html-css/forms       25       23.0  97.105.19.61   \n",
       "2018-03-05               html-css/css-i       25       23.0  97.105.19.61   \n",
       "2018-03-05  html-css/css-i/introduction       25       23.0  97.105.19.61   \n",
       "2018-03-05                     html-css       25       23.0  97.105.19.61   \n",
       "\n",
       "               name start_date   end_date          created_at  \\\n",
       "date                                                            \n",
       "2018-03-05  Ulysses 2018-03-05 2018-07-19 2018-03-05 14:22:11   \n",
       "2018-03-05  Ulysses 2018-03-05 2018-07-19 2018-03-05 14:22:11   \n",
       "2018-03-05  Ulysses 2018-03-05 2018-07-19 2018-03-05 14:22:11   \n",
       "2018-03-05  Ulysses 2018-03-05 2018-07-19 2018-03-05 14:22:11   \n",
       "2018-03-05  Ulysses 2018-03-05 2018-07-19 2018-03-05 14:22:11   \n",
       "\n",
       "                    updated_at  program_id program_name  \n",
       "date                                                     \n",
       "2018-03-05 2018-03-05 14:22:11           2         Java  \n",
       "2018-03-05 2018-03-05 14:22:11           2         Java  \n",
       "2018-03-05 2018-03-05 14:22:11           2         Java  \n",
       "2018-03-05 2018-03-05 14:22:11           2         Java  \n",
       "2018-03-05 2018-03-05 14:22:11           2         Java  "
      ]
     },
     "execution_count": 16,
     "metadata": {},
     "output_type": "execute_result"
    }
   ],
   "source": [
    "# isolate the rows that were created during the student's active time\n",
    "curr_df = df[df.start_date>=df.index]\n",
    "curr_df = curr_df[curr_df.index<=curr_df.end_date]\n",
    "\n",
    "curr_df.head()"
   ]
  },
  {
   "cell_type": "code",
   "execution_count": 17,
   "id": "58193012-00c1-425a-aa2a-9495b5e846ad",
   "metadata": {},
   "outputs": [
    {
     "data": {
      "text/html": [
       "<div>\n",
       "<style scoped>\n",
       "    .dataframe tbody tr th:only-of-type {\n",
       "        vertical-align: middle;\n",
       "    }\n",
       "\n",
       "    .dataframe tbody tr th {\n",
       "        vertical-align: top;\n",
       "    }\n",
       "\n",
       "    .dataframe thead th {\n",
       "        text-align: right;\n",
       "    }\n",
       "</style>\n",
       "<table border=\"1\" class=\"dataframe\">\n",
       "  <thead>\n",
       "    <tr style=\"text-align: right;\">\n",
       "      <th></th>\n",
       "      <th>endpoint</th>\n",
       "    </tr>\n",
       "    <tr>\n",
       "      <th>user_id</th>\n",
       "      <th></th>\n",
       "    </tr>\n",
       "  </thead>\n",
       "  <tbody>\n",
       "    <tr>\n",
       "      <th>25</th>\n",
       "      <td>15</td>\n",
       "    </tr>\n",
       "    <tr>\n",
       "      <th>116</th>\n",
       "      <td>10</td>\n",
       "    </tr>\n",
       "    <tr>\n",
       "      <th>117</th>\n",
       "      <td>6</td>\n",
       "    </tr>\n",
       "    <tr>\n",
       "      <th>118</th>\n",
       "      <td>7</td>\n",
       "    </tr>\n",
       "    <tr>\n",
       "      <th>119</th>\n",
       "      <td>6</td>\n",
       "    </tr>\n",
       "  </tbody>\n",
       "</table>\n",
       "</div>"
      ],
      "text/plain": [
       "         endpoint\n",
       "user_id          \n",
       "25             15\n",
       "116            10\n",
       "117             6\n",
       "118             7\n",
       "119             6"
      ]
     },
     "execution_count": 17,
     "metadata": {},
     "output_type": "execute_result"
    }
   ],
   "source": [
    "user_df = pd.DataFrame(curr_df.groupby('user_id')['endpoint'].count())\n",
    "user_df.head()"
   ]
  },
  {
   "cell_type": "code",
   "execution_count": 18,
   "id": "ed659fba-d208-4611-9495-b5a215453042",
   "metadata": {},
   "outputs": [
    {
     "data": {
      "text/html": [
       "<div>\n",
       "<style scoped>\n",
       "    .dataframe tbody tr th:only-of-type {\n",
       "        vertical-align: middle;\n",
       "    }\n",
       "\n",
       "    .dataframe tbody tr th {\n",
       "        vertical-align: top;\n",
       "    }\n",
       "\n",
       "    .dataframe thead th {\n",
       "        text-align: right;\n",
       "    }\n",
       "</style>\n",
       "<table border=\"1\" class=\"dataframe\">\n",
       "  <thead>\n",
       "    <tr style=\"text-align: right;\">\n",
       "      <th></th>\n",
       "      <th>endpoint</th>\n",
       "    </tr>\n",
       "    <tr>\n",
       "      <th>user_id</th>\n",
       "      <th></th>\n",
       "    </tr>\n",
       "  </thead>\n",
       "  <tbody>\n",
       "    <tr>\n",
       "      <th>25</th>\n",
       "      <td>15</td>\n",
       "    </tr>\n",
       "    <tr>\n",
       "      <th>116</th>\n",
       "      <td>10</td>\n",
       "    </tr>\n",
       "    <tr>\n",
       "      <th>117</th>\n",
       "      <td>6</td>\n",
       "    </tr>\n",
       "    <tr>\n",
       "      <th>118</th>\n",
       "      <td>7</td>\n",
       "    </tr>\n",
       "    <tr>\n",
       "      <th>119</th>\n",
       "      <td>6</td>\n",
       "    </tr>\n",
       "    <tr>\n",
       "      <th>...</th>\n",
       "      <td>...</td>\n",
       "    </tr>\n",
       "    <tr>\n",
       "      <th>974</th>\n",
       "      <td>8</td>\n",
       "    </tr>\n",
       "    <tr>\n",
       "      <th>976</th>\n",
       "      <td>4</td>\n",
       "    </tr>\n",
       "    <tr>\n",
       "      <th>977</th>\n",
       "      <td>10</td>\n",
       "    </tr>\n",
       "    <tr>\n",
       "      <th>978</th>\n",
       "      <td>6</td>\n",
       "    </tr>\n",
       "    <tr>\n",
       "      <th>979</th>\n",
       "      <td>23</td>\n",
       "    </tr>\n",
       "  </tbody>\n",
       "</table>\n",
       "<p>351 rows × 1 columns</p>\n",
       "</div>"
      ],
      "text/plain": [
       "         endpoint\n",
       "user_id          \n",
       "25             15\n",
       "116            10\n",
       "117             6\n",
       "118             7\n",
       "119             6\n",
       "...           ...\n",
       "974             8\n",
       "976             4\n",
       "977            10\n",
       "978             6\n",
       "979            23\n",
       "\n",
       "[351 rows x 1 columns]"
      ]
     },
     "execution_count": 18,
     "metadata": {},
     "output_type": "execute_result"
    }
   ],
   "source": [
    "# evaluate endpoint counts\n",
    "user_df[user_df.endpoint>1]"
   ]
  },
  {
   "cell_type": "markdown",
   "id": "504b3bbd-6cec-4605-bd18-525347e978db",
   "metadata": {},
   "source": [
    "- But again what is the sweet spot? Is there excess noise in the dataframe?\n",
    "- There are a lot of users with only 1 endpoint, this seems like it may be an anomaly"
   ]
  },
  {
   "cell_type": "code",
   "execution_count": 19,
   "id": "ef850ec9-7f65-426d-a71c-7ee0fb0eaf4f",
   "metadata": {},
   "outputs": [
    {
     "data": {
      "text/html": [
       "<div>\n",
       "<style scoped>\n",
       "    .dataframe tbody tr th:only-of-type {\n",
       "        vertical-align: middle;\n",
       "    }\n",
       "\n",
       "    .dataframe tbody tr th {\n",
       "        vertical-align: top;\n",
       "    }\n",
       "\n",
       "    .dataframe thead th {\n",
       "        text-align: right;\n",
       "    }\n",
       "</style>\n",
       "<table border=\"1\" class=\"dataframe\">\n",
       "  <thead>\n",
       "    <tr style=\"text-align: right;\">\n",
       "      <th></th>\n",
       "      <th>endpoint</th>\n",
       "    </tr>\n",
       "  </thead>\n",
       "  <tbody>\n",
       "    <tr>\n",
       "      <th>count</th>\n",
       "      <td>431.000000</td>\n",
       "    </tr>\n",
       "    <tr>\n",
       "      <th>mean</th>\n",
       "      <td>6.524362</td>\n",
       "    </tr>\n",
       "    <tr>\n",
       "      <th>std</th>\n",
       "      <td>6.627198</td>\n",
       "    </tr>\n",
       "    <tr>\n",
       "      <th>min</th>\n",
       "      <td>1.000000</td>\n",
       "    </tr>\n",
       "    <tr>\n",
       "      <th>25%</th>\n",
       "      <td>2.000000</td>\n",
       "    </tr>\n",
       "    <tr>\n",
       "      <th>50%</th>\n",
       "      <td>4.000000</td>\n",
       "    </tr>\n",
       "    <tr>\n",
       "      <th>75%</th>\n",
       "      <td>9.000000</td>\n",
       "    </tr>\n",
       "    <tr>\n",
       "      <th>max</th>\n",
       "      <td>52.000000</td>\n",
       "    </tr>\n",
       "  </tbody>\n",
       "</table>\n",
       "</div>"
      ],
      "text/plain": [
       "         endpoint\n",
       "count  431.000000\n",
       "mean     6.524362\n",
       "std      6.627198\n",
       "min      1.000000\n",
       "25%      2.000000\n",
       "50%      4.000000\n",
       "75%      9.000000\n",
       "max     52.000000"
      ]
     },
     "execution_count": 19,
     "metadata": {},
     "output_type": "execute_result"
    }
   ],
   "source": [
    "# take a look at the statistics of my dataframe\n",
    "user_df.describe()"
   ]
  },
  {
   "cell_type": "code",
   "execution_count": 20,
   "id": "a6921c26-7ec0-4003-b45d-5654370d8d8e",
   "metadata": {},
   "outputs": [
    {
     "data": {
      "text/plain": [
       "[187, 218, 234, 302, 325, 490, 555, 691]"
      ]
     },
     "execution_count": 20,
     "metadata": {},
     "output_type": "execute_result"
    }
   ],
   "source": [
    "# get list of users that have endpoints from 20 to 22 since this is considered the lower end of average\n",
    "user_list = user_df[(user_df.endpoint>=20) & (user_df.endpoint<=22)].index.to_list()\n",
    "user_list"
   ]
  },
  {
   "cell_type": "code",
   "execution_count": 21,
   "id": "1010a6d8-3ef0-4c0d-86a1-8d2f1c9725d7",
   "metadata": {},
   "outputs": [
    {
     "data": {
      "text/html": [
       "<div>\n",
       "<style scoped>\n",
       "    .dataframe tbody tr th:only-of-type {\n",
       "        vertical-align: middle;\n",
       "    }\n",
       "\n",
       "    .dataframe tbody tr th {\n",
       "        vertical-align: top;\n",
       "    }\n",
       "\n",
       "    .dataframe thead th {\n",
       "        text-align: right;\n",
       "    }\n",
       "</style>\n",
       "<table border=\"1\" class=\"dataframe\">\n",
       "  <thead>\n",
       "    <tr style=\"text-align: right;\">\n",
       "      <th></th>\n",
       "      <th>endpoint</th>\n",
       "      <th>user_id</th>\n",
       "      <th>cohort_id</th>\n",
       "      <th>source_ip</th>\n",
       "      <th>name</th>\n",
       "      <th>start_date</th>\n",
       "      <th>end_date</th>\n",
       "      <th>created_at</th>\n",
       "      <th>updated_at</th>\n",
       "      <th>program_id</th>\n",
       "      <th>program_name</th>\n",
       "    </tr>\n",
       "    <tr>\n",
       "      <th>date</th>\n",
       "      <th></th>\n",
       "      <th></th>\n",
       "      <th></th>\n",
       "      <th></th>\n",
       "      <th></th>\n",
       "      <th></th>\n",
       "      <th></th>\n",
       "      <th></th>\n",
       "      <th></th>\n",
       "      <th></th>\n",
       "      <th></th>\n",
       "    </tr>\n",
       "  </thead>\n",
       "  <tbody>\n",
       "    <tr>\n",
       "      <th>2018-05-29</th>\n",
       "      <td>/</td>\n",
       "      <td>187</td>\n",
       "      <td>24.0</td>\n",
       "      <td>97.105.19.61</td>\n",
       "      <td>Voyageurs</td>\n",
       "      <td>2018-05-29</td>\n",
       "      <td>2018-10-11</td>\n",
       "      <td>2018-05-25 22:25:57</td>\n",
       "      <td>2018-05-25 22:25:57</td>\n",
       "      <td>2</td>\n",
       "      <td>Java</td>\n",
       "    </tr>\n",
       "    <tr>\n",
       "      <th>2018-05-29</th>\n",
       "      <td>prework/cli</td>\n",
       "      <td>187</td>\n",
       "      <td>24.0</td>\n",
       "      <td>45.31.213.223</td>\n",
       "      <td>Voyageurs</td>\n",
       "      <td>2018-05-29</td>\n",
       "      <td>2018-10-11</td>\n",
       "      <td>2018-05-25 22:25:57</td>\n",
       "      <td>2018-05-25 22:25:57</td>\n",
       "      <td>2</td>\n",
       "      <td>Java</td>\n",
       "    </tr>\n",
       "    <tr>\n",
       "      <th>2018-05-29</th>\n",
       "      <td>prework/cli</td>\n",
       "      <td>187</td>\n",
       "      <td>24.0</td>\n",
       "      <td>45.31.213.223</td>\n",
       "      <td>Voyageurs</td>\n",
       "      <td>2018-05-29</td>\n",
       "      <td>2018-10-11</td>\n",
       "      <td>2018-05-25 22:25:57</td>\n",
       "      <td>2018-05-25 22:25:57</td>\n",
       "      <td>2</td>\n",
       "      <td>Java</td>\n",
       "    </tr>\n",
       "    <tr>\n",
       "      <th>2018-05-29</th>\n",
       "      <td>prework/cli/01-intro</td>\n",
       "      <td>187</td>\n",
       "      <td>24.0</td>\n",
       "      <td>45.31.213.223</td>\n",
       "      <td>Voyageurs</td>\n",
       "      <td>2018-05-29</td>\n",
       "      <td>2018-10-11</td>\n",
       "      <td>2018-05-25 22:25:57</td>\n",
       "      <td>2018-05-25 22:25:57</td>\n",
       "      <td>2</td>\n",
       "      <td>Java</td>\n",
       "    </tr>\n",
       "    <tr>\n",
       "      <th>2018-05-29</th>\n",
       "      <td>prework/cli/02-listing-files</td>\n",
       "      <td>187</td>\n",
       "      <td>24.0</td>\n",
       "      <td>45.31.213.223</td>\n",
       "      <td>Voyageurs</td>\n",
       "      <td>2018-05-29</td>\n",
       "      <td>2018-10-11</td>\n",
       "      <td>2018-05-25 22:25:57</td>\n",
       "      <td>2018-05-25 22:25:57</td>\n",
       "      <td>2</td>\n",
       "      <td>Java</td>\n",
       "    </tr>\n",
       "    <tr>\n",
       "      <th>2018-05-29</th>\n",
       "      <td>prework/cli/03-file-paths</td>\n",
       "      <td>187</td>\n",
       "      <td>24.0</td>\n",
       "      <td>45.31.213.223</td>\n",
       "      <td>Voyageurs</td>\n",
       "      <td>2018-05-29</td>\n",
       "      <td>2018-10-11</td>\n",
       "      <td>2018-05-25 22:25:57</td>\n",
       "      <td>2018-05-25 22:25:57</td>\n",
       "      <td>2</td>\n",
       "      <td>Java</td>\n",
       "    </tr>\n",
       "    <tr>\n",
       "      <th>2018-05-29</th>\n",
       "      <td>prework/cli</td>\n",
       "      <td>187</td>\n",
       "      <td>24.0</td>\n",
       "      <td>45.31.213.223</td>\n",
       "      <td>Voyageurs</td>\n",
       "      <td>2018-05-29</td>\n",
       "      <td>2018-10-11</td>\n",
       "      <td>2018-05-25 22:25:57</td>\n",
       "      <td>2018-05-25 22:25:57</td>\n",
       "      <td>2</td>\n",
       "      <td>Java</td>\n",
       "    </tr>\n",
       "    <tr>\n",
       "      <th>2018-05-29</th>\n",
       "      <td>prework/cli/01-intro</td>\n",
       "      <td>187</td>\n",
       "      <td>24.0</td>\n",
       "      <td>45.31.213.223</td>\n",
       "      <td>Voyageurs</td>\n",
       "      <td>2018-05-29</td>\n",
       "      <td>2018-10-11</td>\n",
       "      <td>2018-05-25 22:25:57</td>\n",
       "      <td>2018-05-25 22:25:57</td>\n",
       "      <td>2</td>\n",
       "      <td>Java</td>\n",
       "    </tr>\n",
       "    <tr>\n",
       "      <th>2018-05-29</th>\n",
       "      <td>prework/cli/02-listing-files</td>\n",
       "      <td>187</td>\n",
       "      <td>24.0</td>\n",
       "      <td>45.31.213.223</td>\n",
       "      <td>Voyageurs</td>\n",
       "      <td>2018-05-29</td>\n",
       "      <td>2018-10-11</td>\n",
       "      <td>2018-05-25 22:25:57</td>\n",
       "      <td>2018-05-25 22:25:57</td>\n",
       "      <td>2</td>\n",
       "      <td>Java</td>\n",
       "    </tr>\n",
       "    <tr>\n",
       "      <th>2018-05-29</th>\n",
       "      <td>prework/cli/03-file-paths</td>\n",
       "      <td>187</td>\n",
       "      <td>24.0</td>\n",
       "      <td>45.31.213.223</td>\n",
       "      <td>Voyageurs</td>\n",
       "      <td>2018-05-29</td>\n",
       "      <td>2018-10-11</td>\n",
       "      <td>2018-05-25 22:25:57</td>\n",
       "      <td>2018-05-25 22:25:57</td>\n",
       "      <td>2</td>\n",
       "      <td>Java</td>\n",
       "    </tr>\n",
       "    <tr>\n",
       "      <th>2018-05-29</th>\n",
       "      <td>prework/cli/02-listing-files</td>\n",
       "      <td>187</td>\n",
       "      <td>24.0</td>\n",
       "      <td>45.31.213.223</td>\n",
       "      <td>Voyageurs</td>\n",
       "      <td>2018-05-29</td>\n",
       "      <td>2018-10-11</td>\n",
       "      <td>2018-05-25 22:25:57</td>\n",
       "      <td>2018-05-25 22:25:57</td>\n",
       "      <td>2</td>\n",
       "      <td>Java</td>\n",
       "    </tr>\n",
       "    <tr>\n",
       "      <th>2018-05-29</th>\n",
       "      <td>prework/cli/03-file-paths</td>\n",
       "      <td>187</td>\n",
       "      <td>24.0</td>\n",
       "      <td>45.31.213.223</td>\n",
       "      <td>Voyageurs</td>\n",
       "      <td>2018-05-29</td>\n",
       "      <td>2018-10-11</td>\n",
       "      <td>2018-05-25 22:25:57</td>\n",
       "      <td>2018-05-25 22:25:57</td>\n",
       "      <td>2</td>\n",
       "      <td>Java</td>\n",
       "    </tr>\n",
       "    <tr>\n",
       "      <th>2018-05-29</th>\n",
       "      <td>prework/cli/04-navigating-the-filesystem</td>\n",
       "      <td>187</td>\n",
       "      <td>24.0</td>\n",
       "      <td>45.31.213.223</td>\n",
       "      <td>Voyageurs</td>\n",
       "      <td>2018-05-29</td>\n",
       "      <td>2018-10-11</td>\n",
       "      <td>2018-05-25 22:25:57</td>\n",
       "      <td>2018-05-25 22:25:57</td>\n",
       "      <td>2</td>\n",
       "      <td>Java</td>\n",
       "    </tr>\n",
       "    <tr>\n",
       "      <th>2018-05-29</th>\n",
       "      <td>prework/cli/05-creating-files-and-directories</td>\n",
       "      <td>187</td>\n",
       "      <td>24.0</td>\n",
       "      <td>45.31.213.223</td>\n",
       "      <td>Voyageurs</td>\n",
       "      <td>2018-05-29</td>\n",
       "      <td>2018-10-11</td>\n",
       "      <td>2018-05-25 22:25:57</td>\n",
       "      <td>2018-05-25 22:25:57</td>\n",
       "      <td>2</td>\n",
       "      <td>Java</td>\n",
       "    </tr>\n",
       "    <tr>\n",
       "      <th>2018-05-29</th>\n",
       "      <td>prework/cli/06-moving-files</td>\n",
       "      <td>187</td>\n",
       "      <td>24.0</td>\n",
       "      <td>45.31.213.223</td>\n",
       "      <td>Voyageurs</td>\n",
       "      <td>2018-05-29</td>\n",
       "      <td>2018-10-11</td>\n",
       "      <td>2018-05-25 22:25:57</td>\n",
       "      <td>2018-05-25 22:25:57</td>\n",
       "      <td>2</td>\n",
       "      <td>Java</td>\n",
       "    </tr>\n",
       "    <tr>\n",
       "      <th>2018-05-29</th>\n",
       "      <td>prework/cli</td>\n",
       "      <td>187</td>\n",
       "      <td>24.0</td>\n",
       "      <td>45.31.213.223</td>\n",
       "      <td>Voyageurs</td>\n",
       "      <td>2018-05-29</td>\n",
       "      <td>2018-10-11</td>\n",
       "      <td>2018-05-25 22:25:57</td>\n",
       "      <td>2018-05-25 22:25:57</td>\n",
       "      <td>2</td>\n",
       "      <td>Java</td>\n",
       "    </tr>\n",
       "    <tr>\n",
       "      <th>2018-05-29</th>\n",
       "      <td>/</td>\n",
       "      <td>187</td>\n",
       "      <td>24.0</td>\n",
       "      <td>45.31.213.223</td>\n",
       "      <td>Voyageurs</td>\n",
       "      <td>2018-05-29</td>\n",
       "      <td>2018-10-11</td>\n",
       "      <td>2018-05-25 22:25:57</td>\n",
       "      <td>2018-05-25 22:25:57</td>\n",
       "      <td>2</td>\n",
       "      <td>Java</td>\n",
       "    </tr>\n",
       "    <tr>\n",
       "      <th>2018-05-29</th>\n",
       "      <td>appendix/extra-challenges</td>\n",
       "      <td>187</td>\n",
       "      <td>24.0</td>\n",
       "      <td>45.31.213.223</td>\n",
       "      <td>Voyageurs</td>\n",
       "      <td>2018-05-29</td>\n",
       "      <td>2018-10-11</td>\n",
       "      <td>2018-05-25 22:25:57</td>\n",
       "      <td>2018-05-25 22:25:57</td>\n",
       "      <td>2</td>\n",
       "      <td>Java</td>\n",
       "    </tr>\n",
       "    <tr>\n",
       "      <th>2018-05-29</th>\n",
       "      <td>appendix/extra-challenges/basic-challenges</td>\n",
       "      <td>187</td>\n",
       "      <td>24.0</td>\n",
       "      <td>45.31.213.223</td>\n",
       "      <td>Voyageurs</td>\n",
       "      <td>2018-05-29</td>\n",
       "      <td>2018-10-11</td>\n",
       "      <td>2018-05-25 22:25:57</td>\n",
       "      <td>2018-05-25 22:25:57</td>\n",
       "      <td>2</td>\n",
       "      <td>Java</td>\n",
       "    </tr>\n",
       "    <tr>\n",
       "      <th>2018-05-29</th>\n",
       "      <td>appendix/extra-challenges</td>\n",
       "      <td>187</td>\n",
       "      <td>24.0</td>\n",
       "      <td>45.31.213.223</td>\n",
       "      <td>Voyageurs</td>\n",
       "      <td>2018-05-29</td>\n",
       "      <td>2018-10-11</td>\n",
       "      <td>2018-05-25 22:25:57</td>\n",
       "      <td>2018-05-25 22:25:57</td>\n",
       "      <td>2</td>\n",
       "      <td>Java</td>\n",
       "    </tr>\n",
       "    <tr>\n",
       "      <th>2018-05-29</th>\n",
       "      <td>prework/cli</td>\n",
       "      <td>187</td>\n",
       "      <td>24.0</td>\n",
       "      <td>45.31.213.223</td>\n",
       "      <td>Voyageurs</td>\n",
       "      <td>2018-05-29</td>\n",
       "      <td>2018-10-11</td>\n",
       "      <td>2018-05-25 22:25:57</td>\n",
       "      <td>2018-05-25 22:25:57</td>\n",
       "      <td>2</td>\n",
       "      <td>Java</td>\n",
       "    </tr>\n",
       "  </tbody>\n",
       "</table>\n",
       "</div>"
      ],
      "text/plain": [
       "                                                 endpoint  user_id  cohort_id  \\\n",
       "date                                                                            \n",
       "2018-05-29                                              /      187       24.0   \n",
       "2018-05-29                                    prework/cli      187       24.0   \n",
       "2018-05-29                                    prework/cli      187       24.0   \n",
       "2018-05-29                           prework/cli/01-intro      187       24.0   \n",
       "2018-05-29                   prework/cli/02-listing-files      187       24.0   \n",
       "2018-05-29                      prework/cli/03-file-paths      187       24.0   \n",
       "2018-05-29                                    prework/cli      187       24.0   \n",
       "2018-05-29                           prework/cli/01-intro      187       24.0   \n",
       "2018-05-29                   prework/cli/02-listing-files      187       24.0   \n",
       "2018-05-29                      prework/cli/03-file-paths      187       24.0   \n",
       "2018-05-29                   prework/cli/02-listing-files      187       24.0   \n",
       "2018-05-29                      prework/cli/03-file-paths      187       24.0   \n",
       "2018-05-29       prework/cli/04-navigating-the-filesystem      187       24.0   \n",
       "2018-05-29  prework/cli/05-creating-files-and-directories      187       24.0   \n",
       "2018-05-29                    prework/cli/06-moving-files      187       24.0   \n",
       "2018-05-29                                    prework/cli      187       24.0   \n",
       "2018-05-29                                              /      187       24.0   \n",
       "2018-05-29                      appendix/extra-challenges      187       24.0   \n",
       "2018-05-29     appendix/extra-challenges/basic-challenges      187       24.0   \n",
       "2018-05-29                      appendix/extra-challenges      187       24.0   \n",
       "2018-05-29                                    prework/cli      187       24.0   \n",
       "\n",
       "                source_ip       name start_date   end_date  \\\n",
       "date                                                         \n",
       "2018-05-29   97.105.19.61  Voyageurs 2018-05-29 2018-10-11   \n",
       "2018-05-29  45.31.213.223  Voyageurs 2018-05-29 2018-10-11   \n",
       "2018-05-29  45.31.213.223  Voyageurs 2018-05-29 2018-10-11   \n",
       "2018-05-29  45.31.213.223  Voyageurs 2018-05-29 2018-10-11   \n",
       "2018-05-29  45.31.213.223  Voyageurs 2018-05-29 2018-10-11   \n",
       "2018-05-29  45.31.213.223  Voyageurs 2018-05-29 2018-10-11   \n",
       "2018-05-29  45.31.213.223  Voyageurs 2018-05-29 2018-10-11   \n",
       "2018-05-29  45.31.213.223  Voyageurs 2018-05-29 2018-10-11   \n",
       "2018-05-29  45.31.213.223  Voyageurs 2018-05-29 2018-10-11   \n",
       "2018-05-29  45.31.213.223  Voyageurs 2018-05-29 2018-10-11   \n",
       "2018-05-29  45.31.213.223  Voyageurs 2018-05-29 2018-10-11   \n",
       "2018-05-29  45.31.213.223  Voyageurs 2018-05-29 2018-10-11   \n",
       "2018-05-29  45.31.213.223  Voyageurs 2018-05-29 2018-10-11   \n",
       "2018-05-29  45.31.213.223  Voyageurs 2018-05-29 2018-10-11   \n",
       "2018-05-29  45.31.213.223  Voyageurs 2018-05-29 2018-10-11   \n",
       "2018-05-29  45.31.213.223  Voyageurs 2018-05-29 2018-10-11   \n",
       "2018-05-29  45.31.213.223  Voyageurs 2018-05-29 2018-10-11   \n",
       "2018-05-29  45.31.213.223  Voyageurs 2018-05-29 2018-10-11   \n",
       "2018-05-29  45.31.213.223  Voyageurs 2018-05-29 2018-10-11   \n",
       "2018-05-29  45.31.213.223  Voyageurs 2018-05-29 2018-10-11   \n",
       "2018-05-29  45.31.213.223  Voyageurs 2018-05-29 2018-10-11   \n",
       "\n",
       "                    created_at          updated_at  program_id program_name  \n",
       "date                                                                         \n",
       "2018-05-29 2018-05-25 22:25:57 2018-05-25 22:25:57           2         Java  \n",
       "2018-05-29 2018-05-25 22:25:57 2018-05-25 22:25:57           2         Java  \n",
       "2018-05-29 2018-05-25 22:25:57 2018-05-25 22:25:57           2         Java  \n",
       "2018-05-29 2018-05-25 22:25:57 2018-05-25 22:25:57           2         Java  \n",
       "2018-05-29 2018-05-25 22:25:57 2018-05-25 22:25:57           2         Java  \n",
       "2018-05-29 2018-05-25 22:25:57 2018-05-25 22:25:57           2         Java  \n",
       "2018-05-29 2018-05-25 22:25:57 2018-05-25 22:25:57           2         Java  \n",
       "2018-05-29 2018-05-25 22:25:57 2018-05-25 22:25:57           2         Java  \n",
       "2018-05-29 2018-05-25 22:25:57 2018-05-25 22:25:57           2         Java  \n",
       "2018-05-29 2018-05-25 22:25:57 2018-05-25 22:25:57           2         Java  \n",
       "2018-05-29 2018-05-25 22:25:57 2018-05-25 22:25:57           2         Java  \n",
       "2018-05-29 2018-05-25 22:25:57 2018-05-25 22:25:57           2         Java  \n",
       "2018-05-29 2018-05-25 22:25:57 2018-05-25 22:25:57           2         Java  \n",
       "2018-05-29 2018-05-25 22:25:57 2018-05-25 22:25:57           2         Java  \n",
       "2018-05-29 2018-05-25 22:25:57 2018-05-25 22:25:57           2         Java  \n",
       "2018-05-29 2018-05-25 22:25:57 2018-05-25 22:25:57           2         Java  \n",
       "2018-05-29 2018-05-25 22:25:57 2018-05-25 22:25:57           2         Java  \n",
       "2018-05-29 2018-05-25 22:25:57 2018-05-25 22:25:57           2         Java  \n",
       "2018-05-29 2018-05-25 22:25:57 2018-05-25 22:25:57           2         Java  \n",
       "2018-05-29 2018-05-25 22:25:57 2018-05-25 22:25:57           2         Java  \n",
       "2018-05-29 2018-05-25 22:25:57 2018-05-25 22:25:57           2         Java  "
      ]
     },
     "execution_count": 21,
     "metadata": {},
     "output_type": "execute_result"
    }
   ],
   "source": [
    "# take a quick snap shop of one of the users from the list\n",
    "curr_df[curr_df.user_id==187]"
   ]
  },
  {
   "cell_type": "code",
   "execution_count": 22,
   "id": "972a2614-92c9-47d1-a64d-4832dffb66cb",
   "metadata": {},
   "outputs": [],
   "source": [
    "#create a for loop to get the whole information about the least accessed endpoint\n",
    "user_df= pd.DataFrame()\n",
    "for i in user_list:\n",
    "    x =curr_df[curr_df['user_id'] == i]\n",
    "    user_df= pd.concat([user_df, x], ignore_index = False)"
   ]
  },
  {
   "cell_type": "code",
   "execution_count": 23,
   "id": "b43de6ee-6e2f-4506-b624-2c6cd4109146",
   "metadata": {},
   "outputs": [
    {
     "data": {
      "text/html": [
       "<div>\n",
       "<style scoped>\n",
       "    .dataframe tbody tr th:only-of-type {\n",
       "        vertical-align: middle;\n",
       "    }\n",
       "\n",
       "    .dataframe tbody tr th {\n",
       "        vertical-align: top;\n",
       "    }\n",
       "\n",
       "    .dataframe thead th {\n",
       "        text-align: right;\n",
       "    }\n",
       "</style>\n",
       "<table border=\"1\" class=\"dataframe\">\n",
       "  <thead>\n",
       "    <tr style=\"text-align: right;\">\n",
       "      <th></th>\n",
       "      <th>endpoint</th>\n",
       "      <th>user_id</th>\n",
       "      <th>cohort_id</th>\n",
       "      <th>source_ip</th>\n",
       "      <th>name</th>\n",
       "      <th>start_date</th>\n",
       "      <th>end_date</th>\n",
       "      <th>created_at</th>\n",
       "      <th>updated_at</th>\n",
       "      <th>program_id</th>\n",
       "      <th>program_name</th>\n",
       "    </tr>\n",
       "    <tr>\n",
       "      <th>date</th>\n",
       "      <th></th>\n",
       "      <th></th>\n",
       "      <th></th>\n",
       "      <th></th>\n",
       "      <th></th>\n",
       "      <th></th>\n",
       "      <th></th>\n",
       "      <th></th>\n",
       "      <th></th>\n",
       "      <th></th>\n",
       "      <th></th>\n",
       "    </tr>\n",
       "  </thead>\n",
       "  <tbody>\n",
       "    <tr>\n",
       "      <th>2018-05-29</th>\n",
       "      <td>/</td>\n",
       "      <td>187</td>\n",
       "      <td>24.0</td>\n",
       "      <td>97.105.19.61</td>\n",
       "      <td>Voyageurs</td>\n",
       "      <td>2018-05-29</td>\n",
       "      <td>2018-10-11</td>\n",
       "      <td>2018-05-25 22:25:57</td>\n",
       "      <td>2018-05-25 22:25:57</td>\n",
       "      <td>2</td>\n",
       "      <td>Java</td>\n",
       "    </tr>\n",
       "    <tr>\n",
       "      <th>2018-05-29</th>\n",
       "      <td>prework/cli</td>\n",
       "      <td>187</td>\n",
       "      <td>24.0</td>\n",
       "      <td>45.31.213.223</td>\n",
       "      <td>Voyageurs</td>\n",
       "      <td>2018-05-29</td>\n",
       "      <td>2018-10-11</td>\n",
       "      <td>2018-05-25 22:25:57</td>\n",
       "      <td>2018-05-25 22:25:57</td>\n",
       "      <td>2</td>\n",
       "      <td>Java</td>\n",
       "    </tr>\n",
       "    <tr>\n",
       "      <th>2018-05-29</th>\n",
       "      <td>prework/cli</td>\n",
       "      <td>187</td>\n",
       "      <td>24.0</td>\n",
       "      <td>45.31.213.223</td>\n",
       "      <td>Voyageurs</td>\n",
       "      <td>2018-05-29</td>\n",
       "      <td>2018-10-11</td>\n",
       "      <td>2018-05-25 22:25:57</td>\n",
       "      <td>2018-05-25 22:25:57</td>\n",
       "      <td>2</td>\n",
       "      <td>Java</td>\n",
       "    </tr>\n",
       "    <tr>\n",
       "      <th>2018-05-29</th>\n",
       "      <td>prework/cli/01-intro</td>\n",
       "      <td>187</td>\n",
       "      <td>24.0</td>\n",
       "      <td>45.31.213.223</td>\n",
       "      <td>Voyageurs</td>\n",
       "      <td>2018-05-29</td>\n",
       "      <td>2018-10-11</td>\n",
       "      <td>2018-05-25 22:25:57</td>\n",
       "      <td>2018-05-25 22:25:57</td>\n",
       "      <td>2</td>\n",
       "      <td>Java</td>\n",
       "    </tr>\n",
       "    <tr>\n",
       "      <th>2018-05-29</th>\n",
       "      <td>prework/cli/02-listing-files</td>\n",
       "      <td>187</td>\n",
       "      <td>24.0</td>\n",
       "      <td>45.31.213.223</td>\n",
       "      <td>Voyageurs</td>\n",
       "      <td>2018-05-29</td>\n",
       "      <td>2018-10-11</td>\n",
       "      <td>2018-05-25 22:25:57</td>\n",
       "      <td>2018-05-25 22:25:57</td>\n",
       "      <td>2</td>\n",
       "      <td>Java</td>\n",
       "    </tr>\n",
       "  </tbody>\n",
       "</table>\n",
       "</div>"
      ],
      "text/plain": [
       "                                endpoint  user_id  cohort_id      source_ip  \\\n",
       "date                                                                          \n",
       "2018-05-29                             /      187       24.0   97.105.19.61   \n",
       "2018-05-29                   prework/cli      187       24.0  45.31.213.223   \n",
       "2018-05-29                   prework/cli      187       24.0  45.31.213.223   \n",
       "2018-05-29          prework/cli/01-intro      187       24.0  45.31.213.223   \n",
       "2018-05-29  prework/cli/02-listing-files      187       24.0  45.31.213.223   \n",
       "\n",
       "                 name start_date   end_date          created_at  \\\n",
       "date                                                              \n",
       "2018-05-29  Voyageurs 2018-05-29 2018-10-11 2018-05-25 22:25:57   \n",
       "2018-05-29  Voyageurs 2018-05-29 2018-10-11 2018-05-25 22:25:57   \n",
       "2018-05-29  Voyageurs 2018-05-29 2018-10-11 2018-05-25 22:25:57   \n",
       "2018-05-29  Voyageurs 2018-05-29 2018-10-11 2018-05-25 22:25:57   \n",
       "2018-05-29  Voyageurs 2018-05-29 2018-10-11 2018-05-25 22:25:57   \n",
       "\n",
       "                    updated_at  program_id program_name  \n",
       "date                                                     \n",
       "2018-05-29 2018-05-25 22:25:57           2         Java  \n",
       "2018-05-29 2018-05-25 22:25:57           2         Java  \n",
       "2018-05-29 2018-05-25 22:25:57           2         Java  \n",
       "2018-05-29 2018-05-25 22:25:57           2         Java  \n",
       "2018-05-29 2018-05-25 22:25:57           2         Java  "
      ]
     },
     "execution_count": 23,
     "metadata": {},
     "output_type": "execute_result"
    }
   ],
   "source": [
    "# take a look at our dataframe of users with the low end of average endpoints\n",
    "user_df.head()"
   ]
  },
  {
   "cell_type": "code",
   "execution_count": 24,
   "id": "fe664786-45e7-4c95-8bcd-5fc7d367730e",
   "metadata": {},
   "outputs": [
    {
     "data": {
      "text/plain": [
       "Java            148\n",
       "Data Science     20\n",
       "Name: program_name, dtype: int64"
      ]
     },
     "execution_count": 24,
     "metadata": {},
     "output_type": "execute_result"
    }
   ],
   "source": [
    "# explore df\n",
    "user_df.program_name.value_counts()"
   ]
  },
  {
   "cell_type": "code",
   "execution_count": 25,
   "id": "45acbc73-0527-4f58-aab6-fcd36a16363a",
   "metadata": {},
   "outputs": [
    {
     "data": {
      "image/png": "[encoded data removed]",
      "text/plain": [
       "<Figure size 432x288 with 1 Axes>"
      ]
     },
     "metadata": {
      "needs_background": "light"
     },
     "output_type": "display_data"
    }
   ],
   "source": [
    "# visualize the programs amongst these users\n",
    "sns.barplot(x='user_id', y='program_name', data=user_df)\n",
    "plt.title('Visual of programs for users with low curriculumn use');"
   ]
  },
  {
   "cell_type": "code",
   "execution_count": 26,
   "id": "7420ea60-3627-4e62-8551-cf0bf1983f01",
   "metadata": {},
   "outputs": [
    {
     "data": {
      "image/png": "[encoded data removed]",
      "text/plain": [
       "<Figure size 432x288 with 1 Axes>"
      ]
     },
     "metadata": {
      "needs_background": "light"
     },
     "output_type": "display_data"
    }
   ],
   "source": [
    "# visualize the programs amongst these users\n",
    "sns.barplot(y='user_id', x='name', data=user_df)\n",
    "plt.title('Visual of cohort for users with low curriculumn use');"
   ]
  },
  {
   "cell_type": "code",
   "execution_count": 27,
   "id": "f57ed4a3-4230-4b6c-a692-152be9810cb0",
   "metadata": {},
   "outputs": [
    {
     "data": {
      "text/plain": [
       "user_id  source_ip    \n",
       "187      45.31.213.223    20\n",
       "         97.105.19.61      1\n",
       "218      97.105.19.58     20\n",
       "234      97.105.19.58     21\n",
       "302      97.105.19.58     21\n",
       "325      97.105.19.58     21\n",
       "490      70.121.205.5     17\n",
       "         97.105.19.58      5\n",
       "555      136.50.32.151    20\n",
       "         97.105.19.58      2\n",
       "691      66.69.83.140     20\n",
       "Name: source_ip, dtype: int64"
      ]
     },
     "execution_count": 27,
     "metadata": {},
     "output_type": "execute_result"
    }
   ],
   "source": [
    "# a couple of users appear to have multiple ip addresses so that is worth looking into\n",
    "user_df.groupby('user_id')['source_ip'].value_counts()"
   ]
  },
  {
   "cell_type": "markdown",
   "id": "49819c01-b217-4c00-a941-1d29b5424de2",
   "metadata": {},
   "source": [
    "### Takeaways:\n",
    "- There is not any major takeaways as far as cohort.\n",
    "- The users are majority made up of data science and java students.\n",
    "- Despite a lot of the students being data science, the majority of the websites visits are not related to data science at all."
   ]
  },
  {
   "cell_type": "markdown",
   "id": "e75b71fc-91ef-4166-aeb0-a558c40e63d3",
   "metadata": {},
   "source": [
    "## What topics are grads continuing to access after graduation?\n",
    "- We'll look into when a user accessed the website after their graduation to see what they look at post graduation"
   ]
  },
  {
   "cell_type": "code",
   "execution_count": 28,
   "id": "2df99d42-61c8-4544-9898-49bf7aecbfa4",
   "metadata": {},
   "outputs": [
    {
     "data": {
      "text/plain": [
       "classification/overview                                          368\n",
       "sql/mysql-overview                                               343\n",
       "classification/scale_features_or_not.svg                         325\n",
       "anomaly-detection/AnomalyDetectionCartoon.jpeg                   226\n",
       "anomaly-detection/overview                                       225\n",
       "fundamentals/AI-ML-DL-timeline.jpg                               223\n",
       "fundamentals/modern-data-scientist.jpg                           221\n",
       "fundamentals/intro-to-data-science                               217\n",
       "classification/classical_programming_vs_machine_learning.jpeg    187\n",
       "1-fundamentals/modern-data-scientist.jpg                         130\n",
       "Name: endpoint, dtype: int64"
      ]
     },
     "execution_count": 28,
     "metadata": {},
     "output_type": "execute_result"
    }
   ],
   "source": [
    "df.loc[(df.program_name == 'Data Science') & (df.index > df.end_date)].endpoint.value_counts()[2:].head(10)"
   ]
  },
  {
   "cell_type": "code",
   "execution_count": 29,
   "id": "b3654184-f468-4207-b180-3fd670096edd",
   "metadata": {},
   "outputs": [
    {
     "data": {
      "text/plain": [
       "javascript-i                                                                 1144\n",
       "index.html                                                                   1011\n",
       "html-css                                                                      979\n",
       "javascript-i/javascript-with-html                                             832\n",
       "javascript-i/introduction/working-with-data-types-operators-and-variables     612\n",
       "jquery                                                                        561\n",
       "javascript-ii                                                                 530\n",
       "spring                                                                        529\n",
       "java-iii                                                                      508\n",
       "java-i                                                                        485\n",
       "javascript-i/functions                                                        484\n",
       "java-ii                                                                       480\n",
       "javascript-i/introduction/operators                                           477\n",
       "appendix                                                                      457\n",
       "html-css/css-ii/bootstrap-grid-system                                         456\n",
       "javascript-i/loops                                                            416\n",
       "toc                                                                           400\n",
       "javascript-i/conditionals                                                     397\n",
       "html-css/elements                                                             391\n",
       "html-css/css-ii/bootstrap-introduction                                        384\n",
       "Name: endpoint, dtype: int64"
      ]
     },
     "execution_count": 29,
     "metadata": {},
     "output_type": "execute_result"
    }
   ],
   "source": [
    "df.loc[(df.program_name == 'PHP') & (df.index > df.end_date)].endpoint.value_counts()[1:].head(20)"
   ]
  },
  {
   "cell_type": "code",
   "execution_count": 30,
   "id": "e4ecdb04-80d3-4980-89c6-c72068c3fbe6",
   "metadata": {},
   "outputs": [
    {
     "data": {
      "text/plain": [
       "javascript-i                                2792\n",
       "spring                                      2289\n",
       "html-css                                    2247\n",
       "java-iii                                    2219\n",
       "java-ii                                     2093\n",
       "toc                                         1934\n",
       "appendix                                    1827\n",
       "javascript-ii                               1599\n",
       "java-i                                      1577\n",
       "jquery                                      1564\n",
       "mysql                                       1495\n",
       "jquery/ajax/weather-map                     1292\n",
       "classification/overview                     1160\n",
       "sql/mysql-overview                          1066\n",
       "classification/scale_features_or_not.svg    1028\n",
       "spring/fundamentals/repositories            1025\n",
       "java-iii/servlets                            965\n",
       "spring/fundamentals/views                    899\n",
       "java-iii/jsp-and-jstl                        839\n",
       "mysql/tables                                 809\n",
       "Name: endpoint, dtype: int64"
      ]
     },
     "execution_count": 30,
     "metadata": {},
     "output_type": "execute_result"
    }
   ],
   "source": [
    "df.loc[(df.program_name == 'Java') & (df.updated_at > df.end_date)].endpoint.value_counts()[2:].head(20)"
   ]
  },
  {
   "cell_type": "code",
   "execution_count": 31,
   "id": "abe18671-6eb9-40fa-9e47-e418ad2f549a",
   "metadata": {},
   "outputs": [
    {
     "data": {
      "text/plain": [
       "content/html-css                               2\n",
       "content/html-css/introduction.html             1\n",
       "content/html-css/gitbook/images/favicon.ico    1\n",
       "/                                              1\n",
       "Name: endpoint, dtype: int64"
      ]
     },
     "execution_count": 31,
     "metadata": {},
     "output_type": "execute_result"
    }
   ],
   "source": [
    "df.loc[(df.program_name == 'Front End') & (df.updated_at > df.end_date)].endpoint.value_counts().head(10)"
   ]
  },
  {
   "cell_type": "markdown",
   "id": "2a9b1d9d-3d42-437c-b3c2-c11951ca0010",
   "metadata": {},
   "source": [
    "### Takeaways \n",
    "- Seems like the Data Science Students tend to brush up on there Anomoly Detection as well as classification methods fromt the beginning of the course\n",
    "- Java and PHP Have a similar role in providing students to information accessed at the begiining of the course, most likely revisiting core concepts?"
   ]
  },
  {
   "cell_type": "markdown",
   "id": "94449c2a-0620-42db-a8a9-35a2e4c03705",
   "metadata": {},
   "source": [
    "## At some point in 2019 the ability for students to access both curriculums was deprecated, do you see evidence of that happening, did it happen before?"
   ]
  },
  {
   "cell_type": "code",
   "execution_count": 32,
   "id": "4b28c295-5b48-4ee6-bc31-85ee7e257497",
   "metadata": {},
   "outputs": [],
   "source": [
    "##classes in 2020 and greater can only access their specific curriculum, we can use data after 2019 to pinpoint just exactly what student had access to  what \n",
    "java_list = df[(df['program_name'] == 'Java') & (df.created_at.dt.year > 2019)].endpoint.unique().tolist()\n",
    "\n",
    "ds_list = df[(df['program_name'] == 'Data Science') & (df.created_at.dt.year > 2019)].endpoint.unique().tolist()"
   ]
  },
  {
   "cell_type": "code",
   "execution_count": 33,
   "id": "550074d0-55f0-42bc-96bf-343ec4166ec7",
   "metadata": {},
   "outputs": [],
   "source": [
    "#look at common pages visited for both programs to ommit when filtering \n",
    "common_list = []\n",
    "for j in java_list:\n",
    "    for d in ds_list:\n",
    "        if j == d:\n",
    "            common_list.append(j)"
   ]
  },
  {
   "cell_type": "code",
   "execution_count": 34,
   "id": "a7e5188e-4b07-465b-bd54-5730367be18c",
   "metadata": {},
   "outputs": [],
   "source": [
    "#data science students who accessed the webdev cirrculum before the switch in 2019\n",
    "ds_in_web = df.loc[(df['program_name'] == 'Data Science') & (df['endpoint'].isin(java_list)) & (~df['endpoint'].isin(common_list))]"
   ]
  },
  {
   "cell_type": "code",
   "execution_count": 35,
   "id": "f4ad662a-21fe-4f3f-9e61-3016e550011c",
   "metadata": {},
   "outputs": [],
   "source": [
    "#Web students who accessed the data science cirrculum before the switch in 2019\n",
    "web_in_ds = df.loc[(df['program_name'] == 'Java') & (df['endpoint'].isin(ds_list)) & (~df['endpoint'].isin(common_list))]"
   ]
  },
  {
   "cell_type": "code",
   "execution_count": 36,
   "id": "1c794bbd-c7c8-4734-806d-691cd35219a6",
   "metadata": {},
   "outputs": [
    {
     "data": {
      "text/html": [
       "<div>\n",
       "<style scoped>\n",
       "    .dataframe tbody tr th:only-of-type {\n",
       "        vertical-align: middle;\n",
       "    }\n",
       "\n",
       "    .dataframe tbody tr th {\n",
       "        vertical-align: top;\n",
       "    }\n",
       "\n",
       "    .dataframe thead th {\n",
       "        text-align: right;\n",
       "    }\n",
       "</style>\n",
       "<table border=\"1\" class=\"dataframe\">\n",
       "  <thead>\n",
       "    <tr style=\"text-align: right;\">\n",
       "      <th></th>\n",
       "      <th>endpoint</th>\n",
       "      <th>user_id</th>\n",
       "      <th>cohort_id</th>\n",
       "      <th>source_ip</th>\n",
       "      <th>name</th>\n",
       "      <th>start_date</th>\n",
       "      <th>end_date</th>\n",
       "      <th>created_at</th>\n",
       "      <th>updated_at</th>\n",
       "      <th>program_id</th>\n",
       "      <th>program_name</th>\n",
       "    </tr>\n",
       "    <tr>\n",
       "      <th>date</th>\n",
       "      <th></th>\n",
       "      <th></th>\n",
       "      <th></th>\n",
       "      <th></th>\n",
       "      <th></th>\n",
       "      <th></th>\n",
       "      <th></th>\n",
       "      <th></th>\n",
       "      <th></th>\n",
       "      <th></th>\n",
       "      <th></th>\n",
       "    </tr>\n",
       "  </thead>\n",
       "  <tbody>\n",
       "    <tr>\n",
       "      <th>2019-09-27</th>\n",
       "      <td>html-css/elements</td>\n",
       "      <td>476</td>\n",
       "      <td>34.0</td>\n",
       "      <td>136.50.49.145</td>\n",
       "      <td>Bayes</td>\n",
       "      <td>2019-08-19</td>\n",
       "      <td>2020-01-30</td>\n",
       "      <td>2019-08-20 14:38:55</td>\n",
       "      <td>2019-08-20 14:38:55</td>\n",
       "      <td>3</td>\n",
       "      <td>Data Science</td>\n",
       "    </tr>\n",
       "    <tr>\n",
       "      <th>2019-09-25</th>\n",
       "      <td>html-css</td>\n",
       "      <td>476</td>\n",
       "      <td>34.0</td>\n",
       "      <td>136.50.49.145</td>\n",
       "      <td>Bayes</td>\n",
       "      <td>2019-08-19</td>\n",
       "      <td>2020-01-30</td>\n",
       "      <td>2019-08-20 14:38:55</td>\n",
       "      <td>2019-08-20 14:38:55</td>\n",
       "      <td>3</td>\n",
       "      <td>Data Science</td>\n",
       "    </tr>\n",
       "    <tr>\n",
       "      <th>2019-11-25</th>\n",
       "      <td>javascript-ii</td>\n",
       "      <td>476</td>\n",
       "      <td>34.0</td>\n",
       "      <td>97.105.19.58</td>\n",
       "      <td>Bayes</td>\n",
       "      <td>2019-08-19</td>\n",
       "      <td>2020-01-30</td>\n",
       "      <td>2019-08-20 14:38:55</td>\n",
       "      <td>2019-08-20 14:38:55</td>\n",
       "      <td>3</td>\n",
       "      <td>Data Science</td>\n",
       "    </tr>\n",
       "    <tr>\n",
       "      <th>2019-12-03</th>\n",
       "      <td>jquery</td>\n",
       "      <td>467</td>\n",
       "      <td>34.0</td>\n",
       "      <td>97.105.19.58</td>\n",
       "      <td>Bayes</td>\n",
       "      <td>2019-08-19</td>\n",
       "      <td>2020-01-30</td>\n",
       "      <td>2019-08-20 14:38:55</td>\n",
       "      <td>2019-08-20 14:38:55</td>\n",
       "      <td>3</td>\n",
       "      <td>Data Science</td>\n",
       "    </tr>\n",
       "    <tr>\n",
       "      <th>2019-11-26</th>\n",
       "      <td>java-i</td>\n",
       "      <td>476</td>\n",
       "      <td>34.0</td>\n",
       "      <td>97.105.19.58</td>\n",
       "      <td>Bayes</td>\n",
       "      <td>2019-08-19</td>\n",
       "      <td>2020-01-30</td>\n",
       "      <td>2019-08-20 14:38:55</td>\n",
       "      <td>2019-08-20 14:38:55</td>\n",
       "      <td>3</td>\n",
       "      <td>Data Science</td>\n",
       "    </tr>\n",
       "  </tbody>\n",
       "</table>\n",
       "</div>"
      ],
      "text/plain": [
       "                     endpoint  user_id  cohort_id      source_ip   name  \\\n",
       "date                                                                      \n",
       "2019-09-27  html-css/elements      476       34.0  136.50.49.145  Bayes   \n",
       "2019-09-25           html-css      476       34.0  136.50.49.145  Bayes   \n",
       "2019-11-25      javascript-ii      476       34.0   97.105.19.58  Bayes   \n",
       "2019-12-03             jquery      467       34.0   97.105.19.58  Bayes   \n",
       "2019-11-26             java-i      476       34.0   97.105.19.58  Bayes   \n",
       "\n",
       "           start_date   end_date          created_at          updated_at  \\\n",
       "date                                                                       \n",
       "2019-09-27 2019-08-19 2020-01-30 2019-08-20 14:38:55 2019-08-20 14:38:55   \n",
       "2019-09-25 2019-08-19 2020-01-30 2019-08-20 14:38:55 2019-08-20 14:38:55   \n",
       "2019-11-25 2019-08-19 2020-01-30 2019-08-20 14:38:55 2019-08-20 14:38:55   \n",
       "2019-12-03 2019-08-19 2020-01-30 2019-08-20 14:38:55 2019-08-20 14:38:55   \n",
       "2019-11-26 2019-08-19 2020-01-30 2019-08-20 14:38:55 2019-08-20 14:38:55   \n",
       "\n",
       "            program_id  program_name  \n",
       "date                                  \n",
       "2019-09-27           3  Data Science  \n",
       "2019-09-25           3  Data Science  \n",
       "2019-11-25           3  Data Science  \n",
       "2019-12-03           3  Data Science  \n",
       "2019-11-26           3  Data Science  "
      ]
     },
     "execution_count": 36,
     "metadata": {},
     "output_type": "execute_result"
    }
   ],
   "source": [
    "ds_in_web.sample(5)"
   ]
  },
  {
   "cell_type": "code",
   "execution_count": 37,
   "id": "99d26f3d-0ceb-47de-ad1e-ecae5a234ac5",
   "metadata": {},
   "outputs": [
    {
     "data": {
      "text/html": [
       "<div>\n",
       "<style scoped>\n",
       "    .dataframe tbody tr th:only-of-type {\n",
       "        vertical-align: middle;\n",
       "    }\n",
       "\n",
       "    .dataframe tbody tr th {\n",
       "        vertical-align: top;\n",
       "    }\n",
       "\n",
       "    .dataframe thead th {\n",
       "        text-align: right;\n",
       "    }\n",
       "</style>\n",
       "<table border=\"1\" class=\"dataframe\">\n",
       "  <thead>\n",
       "    <tr style=\"text-align: right;\">\n",
       "      <th></th>\n",
       "      <th>endpoint</th>\n",
       "      <th>user_id</th>\n",
       "      <th>cohort_id</th>\n",
       "      <th>source_ip</th>\n",
       "      <th>name</th>\n",
       "      <th>start_date</th>\n",
       "      <th>end_date</th>\n",
       "      <th>created_at</th>\n",
       "      <th>updated_at</th>\n",
       "      <th>program_id</th>\n",
       "      <th>program_name</th>\n",
       "    </tr>\n",
       "    <tr>\n",
       "      <th>date</th>\n",
       "      <th></th>\n",
       "      <th></th>\n",
       "      <th></th>\n",
       "      <th></th>\n",
       "      <th></th>\n",
       "      <th></th>\n",
       "      <th></th>\n",
       "      <th></th>\n",
       "      <th></th>\n",
       "      <th></th>\n",
       "      <th></th>\n",
       "    </tr>\n",
       "  </thead>\n",
       "  <tbody>\n",
       "    <tr>\n",
       "      <th>2020-10-01</th>\n",
       "      <td>classification/overview</td>\n",
       "      <td>248</td>\n",
       "      <td>28.0</td>\n",
       "      <td>173.173.115.201</td>\n",
       "      <td>Staff</td>\n",
       "      <td>2014-02-04</td>\n",
       "      <td>2014-02-04</td>\n",
       "      <td>2018-12-06 17:04:19</td>\n",
       "      <td>2018-12-06 17:04:19</td>\n",
       "      <td>2</td>\n",
       "      <td>Java</td>\n",
       "    </tr>\n",
       "    <tr>\n",
       "      <th>2020-11-19</th>\n",
       "      <td>fundamentals/pipeline-demo</td>\n",
       "      <td>11</td>\n",
       "      <td>28.0</td>\n",
       "      <td>76.185.145.231</td>\n",
       "      <td>Staff</td>\n",
       "      <td>2014-02-04</td>\n",
       "      <td>2014-02-04</td>\n",
       "      <td>2018-12-06 17:04:19</td>\n",
       "      <td>2018-12-06 17:04:19</td>\n",
       "      <td>2</td>\n",
       "      <td>Java</td>\n",
       "    </tr>\n",
       "    <tr>\n",
       "      <th>2019-10-16</th>\n",
       "      <td>6-regression/2.0-acquire-and-prep</td>\n",
       "      <td>11</td>\n",
       "      <td>28.0</td>\n",
       "      <td>97.105.19.58</td>\n",
       "      <td>Staff</td>\n",
       "      <td>2014-02-04</td>\n",
       "      <td>2014-02-04</td>\n",
       "      <td>2018-12-06 17:04:19</td>\n",
       "      <td>2018-12-06 17:04:19</td>\n",
       "      <td>2</td>\n",
       "      <td>Java</td>\n",
       "    </tr>\n",
       "    <tr>\n",
       "      <th>2020-01-30</th>\n",
       "      <td>1-fundamentals/1.2-data-science-pipeline</td>\n",
       "      <td>248</td>\n",
       "      <td>28.0</td>\n",
       "      <td>97.105.19.58</td>\n",
       "      <td>Staff</td>\n",
       "      <td>2014-02-04</td>\n",
       "      <td>2014-02-04</td>\n",
       "      <td>2018-12-06 17:04:19</td>\n",
       "      <td>2018-12-06 17:04:19</td>\n",
       "      <td>2</td>\n",
       "      <td>Java</td>\n",
       "    </tr>\n",
       "    <tr>\n",
       "      <th>2020-04-21</th>\n",
       "      <td>10-anomaly-detection/1-overview</td>\n",
       "      <td>11</td>\n",
       "      <td>28.0</td>\n",
       "      <td>76.185.131.226</td>\n",
       "      <td>Staff</td>\n",
       "      <td>2014-02-04</td>\n",
       "      <td>2014-02-04</td>\n",
       "      <td>2018-12-06 17:04:19</td>\n",
       "      <td>2018-12-06 17:04:19</td>\n",
       "      <td>2</td>\n",
       "      <td>Java</td>\n",
       "    </tr>\n",
       "  </tbody>\n",
       "</table>\n",
       "</div>"
      ],
      "text/plain": [
       "                                            endpoint  user_id  cohort_id  \\\n",
       "date                                                                       \n",
       "2020-10-01                   classification/overview      248       28.0   \n",
       "2020-11-19                fundamentals/pipeline-demo       11       28.0   \n",
       "2019-10-16         6-regression/2.0-acquire-and-prep       11       28.0   \n",
       "2020-01-30  1-fundamentals/1.2-data-science-pipeline      248       28.0   \n",
       "2020-04-21           10-anomaly-detection/1-overview       11       28.0   \n",
       "\n",
       "                  source_ip   name start_date   end_date          created_at  \\\n",
       "date                                                                           \n",
       "2020-10-01  173.173.115.201  Staff 2014-02-04 2014-02-04 2018-12-06 17:04:19   \n",
       "2020-11-19   76.185.145.231  Staff 2014-02-04 2014-02-04 2018-12-06 17:04:19   \n",
       "2019-10-16     97.105.19.58  Staff 2014-02-04 2014-02-04 2018-12-06 17:04:19   \n",
       "2020-01-30     97.105.19.58  Staff 2014-02-04 2014-02-04 2018-12-06 17:04:19   \n",
       "2020-04-21   76.185.131.226  Staff 2014-02-04 2014-02-04 2018-12-06 17:04:19   \n",
       "\n",
       "                    updated_at  program_id program_name  \n",
       "date                                                     \n",
       "2020-10-01 2018-12-06 17:04:19           2         Java  \n",
       "2020-11-19 2018-12-06 17:04:19           2         Java  \n",
       "2019-10-16 2018-12-06 17:04:19           2         Java  \n",
       "2020-01-30 2018-12-06 17:04:19           2         Java  \n",
       "2020-04-21 2018-12-06 17:04:19           2         Java  "
      ]
     },
     "execution_count": 37,
     "metadata": {},
     "output_type": "execute_result"
    }
   ],
   "source": [
    "web_in_ds.sample(5)"
   ]
  },
  {
   "cell_type": "markdown",
   "id": "7063eb0c-3c4c-40a6-8294-d6f24d24fd85",
   "metadata": {},
   "source": [
    "#### Is there evidence that this is still happening after 2019?"
   ]
  },
  {
   "cell_type": "code",
   "execution_count": 38,
   "id": "339d8a86-158b-470d-aeb0-a0239713c2a5",
   "metadata": {},
   "outputs": [
    {
     "data": {
      "text/html": [
       "<div>\n",
       "<style scoped>\n",
       "    .dataframe tbody tr th:only-of-type {\n",
       "        vertical-align: middle;\n",
       "    }\n",
       "\n",
       "    .dataframe tbody tr th {\n",
       "        vertical-align: top;\n",
       "    }\n",
       "\n",
       "    .dataframe thead th {\n",
       "        text-align: right;\n",
       "    }\n",
       "</style>\n",
       "<table border=\"1\" class=\"dataframe\">\n",
       "  <thead>\n",
       "    <tr style=\"text-align: right;\">\n",
       "      <th></th>\n",
       "      <th>endpoint</th>\n",
       "      <th>user_id</th>\n",
       "      <th>cohort_id</th>\n",
       "      <th>source_ip</th>\n",
       "      <th>name</th>\n",
       "      <th>start_date</th>\n",
       "      <th>end_date</th>\n",
       "      <th>created_at</th>\n",
       "      <th>updated_at</th>\n",
       "      <th>program_id</th>\n",
       "      <th>program_name</th>\n",
       "    </tr>\n",
       "    <tr>\n",
       "      <th>date</th>\n",
       "      <th></th>\n",
       "      <th></th>\n",
       "      <th></th>\n",
       "      <th></th>\n",
       "      <th></th>\n",
       "      <th></th>\n",
       "      <th></th>\n",
       "      <th></th>\n",
       "      <th></th>\n",
       "      <th></th>\n",
       "      <th></th>\n",
       "    </tr>\n",
       "  </thead>\n",
       "  <tbody>\n",
       "  </tbody>\n",
       "</table>\n",
       "</div>"
      ],
      "text/plain": [
       "Empty DataFrame\n",
       "Columns: [endpoint, user_id, cohort_id, source_ip, name, start_date, end_date, created_at, updated_at, program_id, program_name]\n",
       "Index: []"
      ]
     },
     "execution_count": 38,
     "metadata": {},
     "output_type": "execute_result"
    }
   ],
   "source": [
    "ds_in_web[ds_in_web['created_at'].dt.year > 2019]"
   ]
  },
  {
   "cell_type": "code",
   "execution_count": 39,
   "id": "8faef275-b0e3-4265-b13b-56389feadfe8",
   "metadata": {},
   "outputs": [
    {
     "data": {
      "text/html": [
       "<div>\n",
       "<style scoped>\n",
       "    .dataframe tbody tr th:only-of-type {\n",
       "        vertical-align: middle;\n",
       "    }\n",
       "\n",
       "    .dataframe tbody tr th {\n",
       "        vertical-align: top;\n",
       "    }\n",
       "\n",
       "    .dataframe thead th {\n",
       "        text-align: right;\n",
       "    }\n",
       "</style>\n",
       "<table border=\"1\" class=\"dataframe\">\n",
       "  <thead>\n",
       "    <tr style=\"text-align: right;\">\n",
       "      <th></th>\n",
       "      <th>endpoint</th>\n",
       "      <th>user_id</th>\n",
       "      <th>cohort_id</th>\n",
       "      <th>source_ip</th>\n",
       "      <th>name</th>\n",
       "      <th>start_date</th>\n",
       "      <th>end_date</th>\n",
       "      <th>created_at</th>\n",
       "      <th>updated_at</th>\n",
       "      <th>program_id</th>\n",
       "      <th>program_name</th>\n",
       "    </tr>\n",
       "    <tr>\n",
       "      <th>date</th>\n",
       "      <th></th>\n",
       "      <th></th>\n",
       "      <th></th>\n",
       "      <th></th>\n",
       "      <th></th>\n",
       "      <th></th>\n",
       "      <th></th>\n",
       "      <th></th>\n",
       "      <th></th>\n",
       "      <th></th>\n",
       "      <th></th>\n",
       "    </tr>\n",
       "  </thead>\n",
       "  <tbody>\n",
       "  </tbody>\n",
       "</table>\n",
       "</div>"
      ],
      "text/plain": [
       "Empty DataFrame\n",
       "Columns: [endpoint, user_id, cohort_id, source_ip, name, start_date, end_date, created_at, updated_at, program_id, program_name]\n",
       "Index: []"
      ]
     },
     "execution_count": 39,
     "metadata": {},
     "output_type": "execute_result"
    }
   ],
   "source": [
    "web_in_ds[web_in_ds['created_at'].dt.year > 2019]"
   ]
  },
  {
   "cell_type": "markdown",
   "id": "22997757-1e40-46b6-b126-3fd3ab945942",
   "metadata": {},
   "source": [
    "### Takeaways\n",
    "- Although students were able to access the others curriculum prior to 2019, it doesnt seem to be an issue that happens from what can be seen in the dataset."
   ]
  },
  {
   "cell_type": "markdown",
   "id": "527d7f76-645b-4cb4-af05-9b0132408ca6",
   "metadata": {},
   "source": [
    "## Is there a cohort that referred to a lesson significantly more that other cohorts seemed to gloss over?"
   ]
  },
  {
   "cell_type": "markdown",
   "id": "aeba0c64-b361-4be5-9dd0-101b61cdb0a7",
   "metadata": {},
   "source": [
    "#### We Will look at Java Students first.\n",
    "\n",
    "- If the cohort number of page visits exceeds one standard deviation from the average number of page visits, you can argue that that particular cohort accesses the data more or less than there fellow cohorts."
   ]
  },
  {
   "cell_type": "code",
   "execution_count": 51,
   "id": "f76e3eed-216b-4321-945a-10342537df6f",
   "metadata": {},
   "outputs": [],
   "source": [
    "#Top 10 Most popular endpoints for java students\n",
    "java_df = df[(df['program_name'] == 'Java') & (~df['endpoint'].isin(common_list))].endpoint.value_counts().to_frame().reset_index().head(10)"
   ]
  },
  {
   "cell_type": "code",
   "execution_count": 52,
   "id": "d4113d37-ad97-450e-9057-0ae127ee953e",
   "metadata": {},
   "outputs": [],
   "source": [
    "#create a list of those top 10 endpoints\n",
    "list_of_endpoints = java_df['index'].tolist()\n",
    "#create a list of cohorts for java students\n",
    "list_of_cohorts = df[df['program_name'] == 'Java'].name.unique().tolist()"
   ]
  },
  {
   "cell_type": "code",
   "execution_count": 53,
   "id": "6f1828cd-f82a-4650-85c8-0421eab01f63",
   "metadata": {},
   "outputs": [],
   "source": [
    "#create a dataframe of the how many times the website was accessed by every cohort individually\n",
    "java_df = df[(df['name'].isin(list_of_cohorts)) & (df['endpoint'].isin(list_of_endpoints))].groupby(['name','endpoint']).count()\n",
    "java_df = java_df.reset_index().rename(columns=({'user_id':'counts'}))\n",
    "java_df = java_df[['name','endpoint','counts']]"
   ]
  },
  {
   "cell_type": "code",
   "execution_count": 54,
   "id": "2929d6c8-7bc9-4ddf-89a5-9ebb4fa20f27",
   "metadata": {},
   "outputs": [],
   "source": [
    "#avg page visits for each endpoint\n",
    "mean_for_java = java_df.groupby('endpoint').counts.mean().to_frame().reset_index().rename(columns=({'counts':'avg'}))\n",
    "#standard deviation for each endpoint\n",
    "std_for_java = java_df.groupby('endpoint').counts.std().to_frame().reset_index().rename(columns=({'counts':'stds'}))"
   ]
  },
  {
   "cell_type": "code",
   "execution_count": 55,
   "id": "323e8793-3d81-4ff9-9de9-a67be183da55",
   "metadata": {},
   "outputs": [
    {
     "name": "stdout",
     "output_type": "stream",
     "text": [
      "Cohorts who accessed the javascript-i lesson more than the other cohorts\n",
      "203    Staff\n",
      "Name: name, dtype: object\n",
      "Cohorts who accessed the java-iii lesson more than the other cohorts\n",
      "103    Jupiter\n",
      "202      Staff\n",
      "Name: name, dtype: object\n",
      "Cohorts who accessed the html-css lesson more than the other cohorts\n",
      "100    Jupiter\n",
      "199      Staff\n",
      "Name: name, dtype: object\n",
      "Cohorts who accessed the java-ii lesson more than the other cohorts\n",
      "102    Jupiter\n",
      "201      Staff\n",
      "Name: name, dtype: object\n",
      "Cohorts who accessed the jquery lesson more than the other cohorts\n",
      "207    Staff\n",
      "Name: name, dtype: object\n",
      "Cohorts who accessed the java-i lesson more than the other cohorts\n",
      "200        Staff\n",
      "230    Voyageurs\n",
      "Name: name, dtype: object\n",
      "Cohorts who accessed the javascript-ii lesson more than the other cohorts\n",
      "206    Staff\n",
      "276     Zion\n",
      "Name: name, dtype: object\n",
      "Cohorts who accessed the mysql/tables lesson more than the other cohorts\n",
      "109      Jupiter\n",
      "208        Staff\n",
      "238    Voyageurs\n",
      "Name: name, dtype: object\n",
      "Cohorts who accessed the javascript-i/introduction/working-with-data-types-operators-and-variables lesson more than the other cohorts\n",
      "46     Ceres\n",
      "145    Marco\n",
      "Name: name, dtype: object\n",
      "Cohorts who accessed the javascript-i/functions lesson more than the other cohorts\n",
      "45      Ceres\n",
      "144     Marco\n",
      "174    Oberon\n",
      "Name: name, dtype: object\n"
     ]
    }
   ],
   "source": [
    "#show who visits what end point more than others, if you fall 1 standard deviation above or below the avg,\n",
    "# we can consider the cohort to access the data more than there fellow cohorts.\n",
    "for i in list_of_endpoints:\n",
    "    endpoint_mean = mean_for_java[mean_for_java['endpoint'] == i].avg[mean_for_java[mean_for_java['endpoint'] == i].index[0]]\n",
    "    endpoint_std = std_for_java[std_for_java['endpoint'] == i].stds[std_for_java[std_for_java['endpoint'] == i].index[0]]\n",
    "    \n",
    "    print('Cohorts who accessed the {} lesson more than the other cohorts'.format(i))\n",
    "    print(java_df[(java_df['endpoint'] == i) & (java_df['counts'] > (endpoint_mean + endpoint_std))].name)\n",
    "    print('Cohorts who accessed the {} lesson less than the other cohorts'.format(i))\n",
    "    print(java_df[(java_df['endpoint'] == i) & (java_df['counts'] < (endpoint_mean - endpoint_std))].name)"
   ]
  },
  {
   "cell_type": "markdown",
   "id": "2beb6e27-5f2b-4182-a6d8-03287ff6a44c",
   "metadata": {},
   "source": [
    "#### We'll use the same process for Data Science Students\n",
    "- If the cohort number of page visits exceeds one standard deviation from the average number of page visits, you can argue that that particular cohort accesses the data more or less than there fellow cohorts."
   ]
  },
  {
   "cell_type": "code",
   "execution_count": 45,
   "id": "6d9608b8-6f96-4cf9-95ba-ce5a32288695",
   "metadata": {},
   "outputs": [],
   "source": [
    "#Top 10 Most popular endpoints for DS students\n",
    "ds_df = df[(df['program_name'] == 'Data Science') & (~df['endpoint'].isin(common_list))].endpoint.value_counts().to_frame().reset_index().head(10)"
   ]
  },
  {
   "cell_type": "code",
   "execution_count": 46,
   "id": "f621875f-11c8-4014-a556-d64ab9ef2e98",
   "metadata": {},
   "outputs": [],
   "source": [
    "#create a list of those top 10 endpoints\n",
    "list_of_endpoints = ds_df['index'].tolist()\n",
    "#create a list of cohorts for java students\n",
    "list_of_cohorts = df[df['program_name'] == 'Data Science'].name.unique().tolist()"
   ]
  },
  {
   "cell_type": "code",
   "execution_count": 47,
   "id": "bdff716e-8fad-45c9-b25c-a2c4ed81d482",
   "metadata": {},
   "outputs": [],
   "source": [
    "#create a dataframe of the how many times the website was accessed by every cohort individually\n",
    "ds_df = df[(df['name'].isin(list_of_cohorts)) & (df['endpoint'].isin(list_of_endpoints))].groupby(['name','endpoint']).count()\n",
    "ds_df = ds_df.reset_index().rename(columns=({'user_id':'counts'}))\n",
    "ds_df = ds_df[['name','endpoint','counts']]"
   ]
  },
  {
   "cell_type": "code",
   "execution_count": 48,
   "id": "4d7205fb-c453-4f7e-81a9-e9bf0c17ae67",
   "metadata": {},
   "outputs": [],
   "source": [
    "#avg page visits for each endpoint\n",
    "mean_for_ds = ds_df.groupby('endpoint').counts.mean().to_frame().reset_index().rename(columns=({'counts':'avg'}))\n",
    "#standard deviation for each endpoint\n",
    "std_for_ds = ds_df.groupby('endpoint').counts.std().to_frame().reset_index().rename(columns=({'counts':'stds'}))"
   ]
  },
  {
   "cell_type": "code",
   "execution_count": 49,
   "id": "b2e838a1-5943-493c-90ba-65657ab90d31",
   "metadata": {},
   "outputs": [
    {
     "name": "stdout",
     "output_type": "stream",
     "text": [
      "Cohorts who accessed the classification/overview lesson more than the other cohorts\n",
      "27    Darden\n",
      "Name: name, dtype: object\n",
      "Cohorts who accessed the classification/overview lesson less than the other cohorts\n",
      "7    Bayes\n",
      "Name: name, dtype: object\n",
      "Cohorts who accessed the classification/scale_features_or_not.svg lesson more than the other cohorts\n",
      "28    Darden\n",
      "Name: name, dtype: object\n",
      "Cohorts who accessed the classification/scale_features_or_not.svg lesson less than the other cohorts\n",
      "8    Bayes\n",
      "Name: name, dtype: object\n",
      "Cohorts who accessed the 1-fundamentals/modern-data-scientist.jpg lesson more than the other cohorts\n",
      "2    Bayes\n",
      "Name: name, dtype: object\n",
      "Cohorts who accessed the 1-fundamentals/modern-data-scientist.jpg lesson less than the other cohorts\n",
      "32    Easley\n",
      "Name: name, dtype: object\n",
      "Cohorts who accessed the 1-fundamentals/AI-ML-DL-timeline.jpg lesson more than the other cohorts\n",
      "1    Bayes\n",
      "Name: name, dtype: object\n",
      "Cohorts who accessed the 1-fundamentals/AI-ML-DL-timeline.jpg lesson less than the other cohorts\n",
      "31    Easley\n",
      "Name: name, dtype: object\n",
      "Cohorts who accessed the 1-fundamentals/1.1-intro-to-data-science lesson more than the other cohorts\n",
      "0    Bayes\n",
      "Name: name, dtype: object\n",
      "Cohorts who accessed the 1-fundamentals/1.1-intro-to-data-science lesson less than the other cohorts\n",
      "30    Easley\n",
      "Name: name, dtype: object\n",
      "Cohorts who accessed the classification/classical_programming_vs_machine_learning.jpeg lesson more than the other cohorts\n",
      "44    Florence\n",
      "Name: name, dtype: object\n",
      "Cohorts who accessed the classification/classical_programming_vs_machine_learning.jpeg lesson less than the other cohorts\n",
      "Series([], Name: name, dtype: object)\n",
      "Cohorts who accessed the 6-regression/1-overview lesson more than the other cohorts\n",
      "Series([], Name: name, dtype: object)\n",
      "Cohorts who accessed the 6-regression/1-overview lesson less than the other cohorts\n",
      "23    Darden\n",
      "Name: name, dtype: object\n",
      "Cohorts who accessed the anomaly-detection/AnomalyDetectionCartoon.jpeg lesson more than the other cohorts\n",
      "24    Darden\n",
      "Name: name, dtype: object\n",
      "Cohorts who accessed the anomaly-detection/AnomalyDetectionCartoon.jpeg lesson less than the other cohorts\n",
      "Series([], Name: name, dtype: object)\n",
      "Cohorts who accessed the anomaly-detection/overview lesson more than the other cohorts\n",
      "25    Darden\n",
      "Name: name, dtype: object\n",
      "Cohorts who accessed the anomaly-detection/overview lesson less than the other cohorts\n",
      "Series([], Name: name, dtype: object)\n",
      "Cohorts who accessed the stats/compare-means lesson more than the other cohorts\n",
      "29    Darden\n",
      "Name: name, dtype: object\n",
      "Cohorts who accessed the stats/compare-means lesson less than the other cohorts\n",
      "19    Curie\n",
      "Name: name, dtype: object\n"
     ]
    }
   ],
   "source": [
    "#show who visits what end point more than others\n",
    "for i in list_of_endpoints:\n",
    "    endpoint_mean = mean_for_ds[mean_for_ds['endpoint'] == i].avg[mean_for_ds[mean_for_ds['endpoint'] == i].index[0]]\n",
    "    endpoint_std = std_for_ds[std_for_ds['endpoint'] == i].stds[std_for_ds[std_for_ds['endpoint'] == i].index[0]]\n",
    "    \n",
    "    print('Cohorts who accessed the {} lesson more than the other cohorts'.format(i))\n",
    "    print(ds_df[(ds_df['endpoint'] == i) & (ds_df['counts'] > (endpoint_mean + endpoint_std))].name)\n",
    "    print('Cohorts who accessed the {} lesson less than the other cohorts'.format(i))\n",
    "    print(ds_df[(ds_df['endpoint'] == i) & (ds_df['counts'] < (endpoint_mean - endpoint_std))].name)"
   ]
  },
  {
   "cell_type": "markdown",
   "id": "eb1b0622-ccfc-47d6-b2a6-9786e50f10fa",
   "metadata": {},
   "source": [
    "### Takeaways \n",
    "- For Data Science Students, Bayes seemed to look at the curriculum way more in retrospect, followed by Darden. But due to there inactivity with the website seen above, there might be more to look into. (possible data scrapping happening?)\n",
    "- For Java Students, after ommiting staff, Jupiter, Voyagers and Zion Accessed the website more than their fellow java cohorts."
   ]
  }
 ],
 "metadata": {
  "kernelspec": {
   "display_name": "Python 3",
   "language": "python",
   "name": "python3"
  },
  "language_info": {
   "codemirror_mode": {
    "name": "ipython",
    "version": 3
   },
   "file_extension": ".py",
   "mimetype": "text/x-python",
   "name": "python",
   "nbconvert_exporter": "python",
   "pygments_lexer": "ipython3",
   "version": "3.8.10"
  }
 },
 "nbformat": 4,
 "nbformat_minor": 5
}
